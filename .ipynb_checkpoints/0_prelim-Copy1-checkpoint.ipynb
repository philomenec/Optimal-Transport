{
 "cells": [
  {
   "cell_type": "markdown",
   "metadata": {},
   "source": [
    "# Preliminary tests for OTGAN"
   ]
  },
  {
   "cell_type": "code",
   "execution_count": 1,
   "metadata": {},
   "outputs": [],
   "source": [
    "import numpy as np\n",
    "import matplotlib.pyplot as plt\n",
    "import os\n",
    "import argparse\n",
    "from datetime import datetime\n",
    "\n",
    "import torch\n",
    "import torchvision\n",
    "from torchvision import datasets, transforms\n",
    "import torch\n",
    "import torch.nn as nn\n",
    "from torch import Tensor\n",
    "import torch.nn.functional as F\n",
    "import torch.optim as optim\n",
    "from torch.utils.data import DataLoader\n",
    "from torch.autograd import Variable\n",
    "import tqdm"
   ]
  },
  {
   "cell_type": "code",
   "execution_count": 2,
   "metadata": {},
   "outputs": [],
   "source": [
    "# path = \"C:/Users/Philo/Documents/3A -- ENSAE/Optimal transport/OTGAN\"\n",
    "# os.chdir(path)"
   ]
  },
  {
   "cell_type": "markdown",
   "metadata": {},
   "source": [
    "#### Model parameters and hyperparameters"
   ]
  },
  {
   "cell_type": "code",
   "execution_count": 3,
   "metadata": {},
   "outputs": [],
   "source": [
    "args={}\n",
    "kwargs={}\n",
    "args['batch_size']=10\n",
    "args['val_batch_size']=10\n",
    "args['epochs']=10   \n",
    "# args['lr']=0.01 \n",
    "# args['momentum']=0.5\n",
    "args['seed']=1 #random seed\n",
    "args['cuda']=True if torch.cuda.is_available() else False\n",
    "device = \"cuda\" if args['cuda']==True else \"cpu\""
   ]
  },
  {
   "cell_type": "code",
   "execution_count": 4,
   "metadata": {},
   "outputs": [
    {
     "data": {
      "text/plain": [
       "<torch._C.Generator at 0x2271866af50>"
      ]
     },
     "execution_count": 4,
     "metadata": {},
     "output_type": "execute_result"
    }
   ],
   "source": [
    "np.random.seed(args['seed'])\n",
    "torch.random.manual_seed(args['seed']) #noGPU\n",
    "# torch.cuda.seed(args['seed']) #single GPU\n",
    "# torch.cuda.manual_seed_all(args['seed']) #several GPUs\n"
   ]
  },
  {
   "cell_type": "markdown",
   "metadata": {},
   "source": [
    "#### Load MNIST dataset"
   ]
  },
  {
   "cell_type": "code",
   "execution_count": 5,
   "metadata": {},
   "outputs": [],
   "source": [
    "# Define dataset transformation\n",
    "transform = transforms.Compose([transforms.ToTensor(),\n",
    "                              transforms.Normalize((0.1307,), (0.3081,)) #use MNIST mean and std\n",
    "                              ])\n",
    "\n",
    "# ## Preliminary step : download dataset\n",
    "trainset = datasets.MNIST('../data/MNIST', download=True, train=True, transform=transform)\n",
    "# valset = datasets.MNIST('../data/MNIST', download=True, train=False, transform=transform)\n",
    "\n",
    "trainset = torchvision.datasets.MNIST('../data/MNIST', train=True, transform=transform)\n",
    "# valset = torchvision.datasets.MNIST('../data/MNIST', train=False, transform=transform)\n"
   ]
  },
  {
   "cell_type": "code",
   "execution_count": 6,
   "metadata": {},
   "outputs": [
    {
     "name": "stdout",
     "output_type": "stream",
     "text": [
      "Size of the input image :  torch.Size([1, 28, 28])\n"
     ]
    },
    {
     "data": {
      "image/png": "[encoded data removed]",
      "text/plain": [
       "<Figure size 432x288 with 1 Axes>"
      ]
     },
     "metadata": {
      "needs_background": "light"
     },
     "output_type": "display_data"
    }
   ],
   "source": [
    "index = 0\n",
    "print(\"Size of the input image : \",trainset[index][0].size())\n",
    "plt.imshow(trainset[index][0].view(trainset[index][0].size()[1],trainset[index][0].size()[2]),cmap='gray')\n",
    "plt.title(\"Target label : \"+str(trainset[index][1]))\n",
    "plt.show()"
   ]
  },
  {
   "cell_type": "markdown",
   "metadata": {},
   "source": [
    "#### Add padding to obtain 32x32 images"
   ]
  },
  {
   "cell_type": "code",
   "execution_count": 7,
   "metadata": {},
   "outputs": [],
   "source": [
    "from torchvision.datasets import VisionDataset\n",
    "from albumentations import Resize, Compose\n",
    "from torchvision import transforms"
   ]
  },
  {
   "cell_type": "code",
   "execution_count": 9,
   "metadata": {},
   "outputs": [],
   "source": [
    "# check_black = [tup[0][0,0,0].item() for tup in trainset]+[tup[0][0,0,0].item() for tup in valset]\n",
    "# assert len(check_black) == len(trainset) + len(valset)\n",
    "# set(check_black)\n",
    "# padding_val = list(set(check_black))[0]\n",
    "padding_val = trainset[0][0][0][0][0]\n",
    "resizing_val = 32"
   ]
  },
  {
   "cell_type": "code",
   "execution_count": 10,
   "metadata": {},
   "outputs": [],
   "source": [
    "class MNISTPad(VisionDataset):\n",
    "    def __init__(self, dataset, transform, transform_val):\n",
    "        self.images = [tup[0] for tup in dataset]\n",
    "        self.target = [tup[1] for tup in dataset]\n",
    "        self.transform = transform\n",
    "        self.transform_val = transform_val\n",
    "        \n",
    "        # Check length of target and image match\n",
    "        assert len(self.images) == len(self.target)\n",
    "        \n",
    "    def __len__(self):\n",
    "        return len(self.images)\n",
    "\n",
    "    def __getitem__(self, index):\n",
    "        target = self.target[index]\n",
    "        img = self.images[index]\n",
    "        if self.transform == \"padding\":\n",
    "            img = F.pad(input=img, \n",
    "                        # utiliser l'étoile ? \n",
    "                        pad=(self.transform_val, self.transform_val, self.transform_val, self.transform_val),\n",
    "                        mode='constant', value=padding_val)\n",
    "        \n",
    "#         if self.transform == \"resizing\":\n",
    "            ##TODO\n",
    "        return img, target"
   ]
  },
  {
   "cell_type": "code",
   "execution_count": 12,
   "metadata": {},
   "outputs": [],
   "source": [
    "trainset_pad = MNISTPad(trainset, \"padding\", 2)\n",
    "# valset_pad = MNISTPad(valset, \"padding\", 2)"
   ]
  },
  {
   "cell_type": "code",
   "execution_count": 15,
   "metadata": {},
   "outputs": [],
   "source": [
    "# trainset_pad"
   ]
  },
  {
   "cell_type": "code",
   "execution_count": 196,
   "metadata": {},
   "outputs": [],
   "source": [
    "# # Test for the resizing :\n",
    "# resizing_transform = Compose([\n",
    "#                         transforms.ToPILImage(),\n",
    "#                         Resize(height = resizing_val, width = resizing_val, always_apply = True),\n",
    "#                         transforms.ToTensor(),\n",
    "#                         ])\n",
    "# resizing_transform(source)"
   ]
  },
  {
   "cell_type": "markdown",
   "metadata": {},
   "source": [
    "#### Train loader"
   ]
  },
  {
   "cell_type": "code",
   "execution_count": 252,
   "metadata": {},
   "outputs": [],
   "source": [
    "train_loader = DataLoader(trainset, args['batch_size'], shuffle=True, **kwargs)\n",
    "val_loader = DataLoader(valset, args['val_batch_size'], shuffle=True, **kwargs)"
   ]
  },
  {
   "cell_type": "code",
   "execution_count": 253,
   "metadata": {},
   "outputs": [],
   "source": [
    "train_pad_loader = DataLoader(trainset_pad, args['batch_size'], shuffle=True, **kwargs)\n",
    "val_pad_loader = DataLoader(valset, args['val_batch_size'], shuffle=True, **kwargs)"
   ]
  },
  {
   "cell_type": "markdown",
   "metadata": {},
   "source": [
    "#### Generate noise \n",
    "As showed in the article for the CIFAR dataset : use a $Uniform([-1,1])$"
   ]
  },
  {
   "cell_type": "code",
   "execution_count": 218,
   "metadata": {},
   "outputs": [
    {
     "data": {
      "image/png": "[encoded data removed]",
      "text/plain": [
       "<Figure size 432x288 with 1 Axes>"
      ]
     },
     "metadata": {
      "needs_background": "light"
     },
     "output_type": "display_data"
    }
   ],
   "source": [
    "k=100\n",
    "z = (torch.rand(k)*2)-1\n",
    "plt.scatter(range(k),z)\n",
    "plt.title(\"Noise following a $Uniform([-1,1])$ of size \"+str(k))\n",
    "plt.show()"
   ]
  },
  {
   "cell_type": "code",
   "execution_count": null,
   "metadata": {},
   "outputs": [],
   "source": []
  },
  {
   "cell_type": "code",
   "execution_count": null,
   "metadata": {},
   "outputs": [],
   "source": []
  },
  {
   "cell_type": "code",
   "execution_count": null,
   "metadata": {},
   "outputs": [],
   "source": []
  },
  {
   "cell_type": "code",
   "execution_count": 364,
   "metadata": {},
   "outputs": [],
   "source": [
    "###TODO\n",
    "\n",
    "class _UpBlock(nn.Module):\n",
    "    def __init__(self, in_channels):\n",
    "        super().__init__()\n",
    "        self.conv = nn.Conv2d(in_channels = 2*in_channels, out_channels = 2*in_channels, \n",
    "                              kernel_size = 5, padding=2, stride = 1)\n",
    "\n",
    "    def forward(self, x: Tensor) -> Tensor:\n",
    "        x =  F.interpolate(x, scale_factor=(2,2), mode = \"nearest\") \n",
    "        print(\"x after interpolate\",x.size())\n",
    "        x = self.conv(x)\n",
    "        print('x after conv',x.size())\n",
    "        x = F.glu(x,dim=1)\n",
    "        print(\"x after glu\",x.size())\n",
    "        return x"
   ]
  },
  {
   "cell_type": "code",
   "execution_count": 359,
   "metadata": {},
   "outputs": [],
   "source": [
    "# class Generator32x32(nn.Module):\n",
    "#     def __init__(self, input_dim: int=100):\n",
    "#         super(Generator32x32, self).__init__()\n",
    "# #         self.linear = nn.Linear(in_features=input_dim, out_features=16384)\n",
    "#         self.linear = nn.Linear(in_features=input_dim, out_features=32768)\n",
    "#         self.conv = nn.Conv2d(in_channels = 1024, out_channels = 1024, kernel_size = 5, padding=2, stride = 1)\n",
    "#         self.conv2 = nn.Conv2d(in_channels = 512, out_channels = 512, kernel_size = 5, padding=2, stride = 1)\n",
    "#         self.conv3 = nn.Conv2d(in_channels = 256, out_channels = 256, kernel_size = 5, padding=2, stride = 1)\n",
    "#         ###Pas bizarre de mettre un padding de 2?? \n",
    "#         self.conv4 = nn.Conv2d(in_channels = 128, out_channels = 3, kernel_size = 5, padding=2, stride = 1)\n",
    "        \n",
    "#     def forward(self, x: Tensor):\n",
    "#         print(\"xshape\",x.size())\n",
    "#         x1 = self.linear(x) # size 32768 (??) OR 16384 (??)\n",
    "#         print(\"x1shape\",x1.size())\n",
    "#         x1_a = F.glu(x1) # size 16384 \n",
    "#         print(\"x1_ashape\",x1_a.size())\n",
    "#         x2 = x1_a.reshape(1,1024,4,4) # reshape to [1, 1024, 4, 4] (add batch size)\n",
    "#         print(\"x2shape\",x2.size())\n",
    "    \n",
    "#         x3 =  F.interpolate(x2, scale_factor=(2,2), mode = \"nearest\") ##Question : ok to do it this way ? or do it twice ?\n",
    "#         print(\"x3\",x3.size())\n",
    "#         x4 = self.conv(x3)\n",
    "#         print(x4.size())\n",
    "#         x5 = F.glu(x4,dim=1)\n",
    "#         print(x5.size())\n",
    "        \n",
    "#         x6 =  F.interpolate(x5, scale_factor=(2,2), mode = \"nearest\") ##Question : ok to do it this way ? or do it twice ?\n",
    "#         print(\"x6\",x6.size())\n",
    "#         x7 = self.conv2(x6)\n",
    "#         print(x7.size())\n",
    "#         x8 = F.glu(x7,dim=1)\n",
    "#         print(x8.size())\n",
    "        \n",
    "#         x9 =  F.interpolate(x8, scale_factor=(2,2), mode = \"nearest\") ##Question : ok to do it this way ? or do it twice ?\n",
    "#         print(\"x9\",x9.size())\n",
    "#         x10 = self.conv3(x9)\n",
    "#         print(x10.size())\n",
    "#         x11 = F.glu(x10,dim=1)\n",
    "#         print(x11.size())\n",
    "        \n",
    "#         # last part\n",
    "#         x12 = self.conv4(x11)\n",
    "#         print(\"x12\",x12.size())\n",
    "#         x13 = torch.tanh(x12)\n",
    "#         print(x13.size())\n",
    "#         out = x13\n",
    "#         return out"
   ]
  },
  {
   "cell_type": "code",
   "execution_count": 369,
   "metadata": {},
   "outputs": [],
   "source": [
    "class Generator32x32(nn.Module):\n",
    "    def __init__(self, input_dim: int=100):\n",
    "        super(Generator32x32, self).__init__()\n",
    "#         self.linear = nn.Linear(in_features=input_dim, out_features=16384)\n",
    "        self.linear = nn.Linear(in_features=input_dim, out_features=32768)\n",
    "        self.up1 = _UpBlock(512) ###Pas bizarre de mettre un padding de 2?? \n",
    "        self.up2 = _UpBlock(256)\n",
    "        self.up3 = _UpBlock(128)\n",
    "        self.last_conv = nn.Conv2d(in_channels = 128, out_channels = 3, kernel_size = 5, padding=2, stride = 1)\n",
    "        \n",
    "    def forward(self, x: Tensor):\n",
    "        print(\"xshape\",x.size())\n",
    "        x1 = self.linear(x) # size 32768 (??) OR 16384 (??)\n",
    "        print(\"x1shape\",x1.size())\n",
    "        x1_a = F.glu(x1) # size 16384 \n",
    "        print(\"x1_ashape\",x1_a.size())\n",
    "        x2 = x1_a.reshape(1,1024,4,4) # reshape to [1, 1024, 4, 4] (add batch size)\n",
    "        print(\"x2shape\",x2.size())\n",
    "    \n",
    "        x3 =  self.up1(x2)\n",
    "        print(x3.size())\n",
    "        \n",
    "        x4 =  self.up2(x3)\n",
    "        print(x4.size())\n",
    "        \n",
    "        x5 =  self.up3(x4)\n",
    "        print(x5.size())\n",
    "        \n",
    "        # last part\n",
    "        x12 = self.last_conv(x5)\n",
    "        print(\"x12\",x12.size())\n",
    "        x13 = torch.tanh(x12)\n",
    "        print(x13.size())\n",
    "        out = x13\n",
    "        return out ###Question : need to reshape at the end ?? "
   ]
  },
  {
   "cell_type": "code",
   "execution_count": 240,
   "metadata": {},
   "outputs": [],
   "source": [
    "# # iterator = tqdm.tqdm(enumerate(train_loader), desc='Training epoch {:d}'.format(args['epochs']))\n",
    "# iterator = enumerate(train_loader)\n",
    "# for batch_idx, (img, target) in iterator:\n",
    "#     img = img.to(device)\n",
    "#     target = target.to(device)"
   ]
  },
  {
   "cell_type": "code",
   "execution_count": 370,
   "metadata": {},
   "outputs": [
    {
     "name": "stdout",
     "output_type": "stream",
     "text": [
      "xshape torch.Size([100])\n",
      "x1shape torch.Size([32768])\n",
      "x1_ashape torch.Size([16384])\n",
      "x2shape torch.Size([1, 1024, 4, 4])\n",
      "x after interpolate torch.Size([1, 1024, 8, 8])\n",
      "x after conv torch.Size([1, 1024, 8, 8])\n",
      "x after glu torch.Size([1, 512, 8, 8])\n",
      "torch.Size([1, 512, 8, 8])\n",
      "x after interpolate torch.Size([1, 512, 16, 16])\n",
      "x after conv torch.Size([1, 512, 16, 16])\n",
      "x after glu torch.Size([1, 256, 16, 16])\n",
      "torch.Size([1, 256, 16, 16])\n",
      "x after interpolate torch.Size([1, 256, 32, 32])\n",
      "x after conv torch.Size([1, 256, 32, 32])\n",
      "x after glu torch.Size([1, 128, 32, 32])\n",
      "torch.Size([1, 128, 32, 32])\n",
      "x12 torch.Size([1, 3, 32, 32])\n",
      "torch.Size([1, 3, 32, 32])\n"
     ]
    },
    {
     "data": {
      "text/plain": [
       "tensor([[[[ 0.0105,  0.0104,  0.0095,  ...,  0.0101,  0.0104,  0.0119],\n",
       "          [ 0.0101,  0.0099,  0.0091,  ...,  0.0098,  0.0106,  0.0122],\n",
       "          [ 0.0101,  0.0102,  0.0101,  ...,  0.0093,  0.0112,  0.0131],\n",
       "          ...,\n",
       "          [ 0.0092,  0.0099,  0.0094,  ...,  0.0091,  0.0104,  0.0121],\n",
       "          [ 0.0084,  0.0092,  0.0095,  ...,  0.0097,  0.0111,  0.0124],\n",
       "          [ 0.0092,  0.0092,  0.0094,  ...,  0.0099,  0.0114,  0.0122]],\n",
       "\n",
       "         [[-0.0058, -0.0057, -0.0050,  ..., -0.0060, -0.0060, -0.0041],\n",
       "          [-0.0047, -0.0053, -0.0050,  ..., -0.0061, -0.0065, -0.0047],\n",
       "          [-0.0051, -0.0068, -0.0067,  ..., -0.0066, -0.0076, -0.0059],\n",
       "          ...,\n",
       "          [-0.0055, -0.0063, -0.0053,  ..., -0.0053, -0.0068, -0.0049],\n",
       "          [-0.0031, -0.0041, -0.0033,  ..., -0.0036, -0.0056, -0.0046],\n",
       "          [-0.0029, -0.0037, -0.0038,  ..., -0.0031, -0.0049, -0.0045]],\n",
       "\n",
       "         [[ 0.0032,  0.0048,  0.0034,  ...,  0.0051,  0.0046,  0.0062],\n",
       "          [ 0.0042,  0.0043,  0.0032,  ...,  0.0051,  0.0041,  0.0051],\n",
       "          [ 0.0036,  0.0038,  0.0022,  ...,  0.0049,  0.0042,  0.0059],\n",
       "          ...,\n",
       "          [ 0.0047,  0.0061,  0.0052,  ...,  0.0049,  0.0050,  0.0047],\n",
       "          [ 0.0044,  0.0054,  0.0045,  ...,  0.0044,  0.0053,  0.0051],\n",
       "          [ 0.0042,  0.0053,  0.0045,  ...,  0.0033,  0.0045,  0.0047]]]],\n",
       "       grad_fn=<TanhBackward>)"
      ]
     },
     "execution_count": 370,
     "metadata": {},
     "output_type": "execute_result"
    }
   ],
   "source": [
    "model = Generator32x32()\n",
    "model(z)"
   ]
  }
 ],
 "metadata": {
  "kernelspec": {
   "display_name": "Python 3",
   "language": "python",
   "name": "python3"
  },
  "language_info": {
   "codemirror_mode": {
    "name": "ipython",
    "version": 3
   },
   "file_extension": ".py",
   "mimetype": "text/x-python",
   "name": "python",
   "nbconvert_exporter": "python",
   "pygments_lexer": "ipython3",
   "version": "3.7.4"
  }
 },
 "nbformat": 4,
 "nbformat_minor": 4
}
