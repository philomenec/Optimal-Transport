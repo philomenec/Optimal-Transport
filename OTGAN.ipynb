{
  "nbformat": 4,
  "nbformat_minor": 0,
  "metadata": {
    "accelerator": "GPU",
    "colab": {
      "name": "OTGAN.ipynb",
      "provenance": [],
      "collapsed_sections": [],
      "toc_visible": true,
      "machine_shape": "hm"
    },
    "kernelspec": {
      "display_name": "Python 3",
      "language": "python",
      "name": "python3"
    },
    "language_info": {
      "codemirror_mode": {
        "name": "ipython",
        "version": 3
      },
      "file_extension": ".py",
      "mimetype": "text/x-python",
      "name": "python",
      "nbconvert_exporter": "python",
      "pygments_lexer": "ipython3",
      "version": "3.7.4"
    },
    "widgets": {
      "application/vnd.jupyter.widget-state+json": {
        "bc11e92caa554f6ea7da59a308739e13": {
          "model_module": "@jupyter-widgets/controls",
          "model_name": "HBoxModel",
          "state": {
            "_view_name": "HBoxView",
            "_dom_classes": [],
            "_model_name": "HBoxModel",
            "_view_module": "@jupyter-widgets/controls",
            "_model_module_version": "1.5.0",
            "_view_count": null,
            "_view_module_version": "1.5.0",
            "box_style": "",
            "layout": "IPY_MODEL_d0bd827580de40b0a335c946edd862cc",
            "_model_module": "@jupyter-widgets/controls",
            "children": [
              "IPY_MODEL_7daafdfa3686464fa50e93d5075fd17d",
              "IPY_MODEL_301ee2fd43ab4efcb1c0a7287aee1e62"
            ]
          }
        },
        "d0bd827580de40b0a335c946edd862cc": {
          "model_module": "@jupyter-widgets/base",
          "model_name": "LayoutModel",
          "state": {
            "_view_name": "LayoutView",
            "grid_template_rows": null,
            "right": null,
            "justify_content": null,
            "_view_module": "@jupyter-widgets/base",
            "overflow": null,
            "_model_module_version": "1.2.0",
            "_view_count": null,
            "flex_flow": null,
            "width": null,
            "min_width": null,
            "border": null,
            "align_items": null,
            "bottom": null,
            "_model_module": "@jupyter-widgets/base",
            "top": null,
            "grid_column": null,
            "overflow_y": null,
            "overflow_x": null,
            "grid_auto_flow": null,
            "grid_area": null,
            "grid_template_columns": null,
            "flex": null,
            "_model_name": "LayoutModel",
            "justify_items": null,
            "grid_row": null,
            "max_height": null,
            "align_content": null,
            "visibility": null,
            "align_self": null,
            "height": null,
            "min_height": null,
            "padding": null,
            "grid_auto_rows": null,
            "grid_gap": null,
            "max_width": null,
            "order": null,
            "_view_module_version": "1.2.0",
            "grid_template_areas": null,
            "object_position": null,
            "object_fit": null,
            "grid_auto_columns": null,
            "margin": null,
            "display": null,
            "left": null
          }
        },
        "7daafdfa3686464fa50e93d5075fd17d": {
          "model_module": "@jupyter-widgets/controls",
          "model_name": "IntProgressModel",
          "state": {
            "_view_name": "ProgressView",
            "style": "IPY_MODEL_2150e447d54c44fc8e53b9991e688fc8",
            "_dom_classes": [],
            "description": "100%",
            "_model_name": "IntProgressModel",
            "bar_style": "success",
            "max": 469,
            "_view_module": "@jupyter-widgets/controls",
            "_model_module_version": "1.5.0",
            "value": 469,
            "_view_count": null,
            "_view_module_version": "1.5.0",
            "orientation": "horizontal",
            "min": 0,
            "description_tooltip": null,
            "_model_module": "@jupyter-widgets/controls",
            "layout": "IPY_MODEL_a6b7615d329f4c6cad2c9fbcc3a042c6"
          }
        },
        "301ee2fd43ab4efcb1c0a7287aee1e62": {
          "model_module": "@jupyter-widgets/controls",
          "model_name": "HTMLModel",
          "state": {
            "_view_name": "HTMLView",
            "style": "IPY_MODEL_ce24e94c2d7c4f8db1846e4576c1392c",
            "_dom_classes": [],
            "description": "",
            "_model_name": "HTMLModel",
            "placeholder": "​",
            "_view_module": "@jupyter-widgets/controls",
            "_model_module_version": "1.5.0",
            "value": " 469/469 [1:55:11&lt;00:00, 14.74s/it]",
            "_view_count": null,
            "_view_module_version": "1.5.0",
            "description_tooltip": null,
            "_model_module": "@jupyter-widgets/controls",
            "layout": "IPY_MODEL_31887fa4f4034a288fd168316ac10759"
          }
        },
        "2150e447d54c44fc8e53b9991e688fc8": {
          "model_module": "@jupyter-widgets/controls",
          "model_name": "ProgressStyleModel",
          "state": {
            "_view_name": "StyleView",
            "_model_name": "ProgressStyleModel",
            "description_width": "initial",
            "_view_module": "@jupyter-widgets/base",
            "_model_module_version": "1.5.0",
            "_view_count": null,
            "_view_module_version": "1.2.0",
            "bar_color": null,
            "_model_module": "@jupyter-widgets/controls"
          }
        },
        "a6b7615d329f4c6cad2c9fbcc3a042c6": {
          "model_module": "@jupyter-widgets/base",
          "model_name": "LayoutModel",
          "state": {
            "_view_name": "LayoutView",
            "grid_template_rows": null,
            "right": null,
            "justify_content": null,
            "_view_module": "@jupyter-widgets/base",
            "overflow": null,
            "_model_module_version": "1.2.0",
            "_view_count": null,
            "flex_flow": null,
            "width": null,
            "min_width": null,
            "border": null,
            "align_items": null,
            "bottom": null,
            "_model_module": "@jupyter-widgets/base",
            "top": null,
            "grid_column": null,
            "overflow_y": null,
            "overflow_x": null,
            "grid_auto_flow": null,
            "grid_area": null,
            "grid_template_columns": null,
            "flex": null,
            "_model_name": "LayoutModel",
            "justify_items": null,
            "grid_row": null,
            "max_height": null,
            "align_content": null,
            "visibility": null,
            "align_self": null,
            "height": null,
            "min_height": null,
            "padding": null,
            "grid_auto_rows": null,
            "grid_gap": null,
            "max_width": null,
            "order": null,
            "_view_module_version": "1.2.0",
            "grid_template_areas": null,
            "object_position": null,
            "object_fit": null,
            "grid_auto_columns": null,
            "margin": null,
            "display": null,
            "left": null
          }
        },
        "ce24e94c2d7c4f8db1846e4576c1392c": {
          "model_module": "@jupyter-widgets/controls",
          "model_name": "DescriptionStyleModel",
          "state": {
            "_view_name": "StyleView",
            "_model_name": "DescriptionStyleModel",
            "description_width": "",
            "_view_module": "@jupyter-widgets/base",
            "_model_module_version": "1.5.0",
            "_view_count": null,
            "_view_module_version": "1.2.0",
            "_model_module": "@jupyter-widgets/controls"
          }
        },
        "31887fa4f4034a288fd168316ac10759": {
          "model_module": "@jupyter-widgets/base",
          "model_name": "LayoutModel",
          "state": {
            "_view_name": "LayoutView",
            "grid_template_rows": null,
            "right": null,
            "justify_content": null,
            "_view_module": "@jupyter-widgets/base",
            "overflow": null,
            "_model_module_version": "1.2.0",
            "_view_count": null,
            "flex_flow": null,
            "width": null,
            "min_width": null,
            "border": null,
            "align_items": null,
            "bottom": null,
            "_model_module": "@jupyter-widgets/base",
            "top": null,
            "grid_column": null,
            "overflow_y": null,
            "overflow_x": null,
            "grid_auto_flow": null,
            "grid_area": null,
            "grid_template_columns": null,
            "flex": null,
            "_model_name": "LayoutModel",
            "justify_items": null,
            "grid_row": null,
            "max_height": null,
            "align_content": null,
            "visibility": null,
            "align_self": null,
            "height": null,
            "min_height": null,
            "padding": null,
            "grid_auto_rows": null,
            "grid_gap": null,
            "max_width": null,
            "order": null,
            "_view_module_version": "1.2.0",
            "grid_template_areas": null,
            "object_position": null,
            "object_fit": null,
            "grid_auto_columns": null,
            "margin": null,
            "display": null,
            "left": null
          }
        },
        "4b1735172a684267868ab9d09ec9b57a": {
          "model_module": "@jupyter-widgets/controls",
          "model_name": "HBoxModel",
          "state": {
            "_view_name": "HBoxView",
            "_dom_classes": [],
            "_model_name": "HBoxModel",
            "_view_module": "@jupyter-widgets/controls",
            "_model_module_version": "1.5.0",
            "_view_count": null,
            "_view_module_version": "1.5.0",
            "box_style": "",
            "layout": "IPY_MODEL_df7a3b7d9e9245afb5fdc5c3b3c47a7a",
            "_model_module": "@jupyter-widgets/controls",
            "children": [
              "IPY_MODEL_ec50a1ccd9874304962843f67a4f1ba8",
              "IPY_MODEL_a87d42ea35714194bb96aeee9fb294b1"
            ]
          }
        },
        "df7a3b7d9e9245afb5fdc5c3b3c47a7a": {
          "model_module": "@jupyter-widgets/base",
          "model_name": "LayoutModel",
          "state": {
            "_view_name": "LayoutView",
            "grid_template_rows": null,
            "right": null,
            "justify_content": null,
            "_view_module": "@jupyter-widgets/base",
            "overflow": null,
            "_model_module_version": "1.2.0",
            "_view_count": null,
            "flex_flow": null,
            "width": null,
            "min_width": null,
            "border": null,
            "align_items": null,
            "bottom": null,
            "_model_module": "@jupyter-widgets/base",
            "top": null,
            "grid_column": null,
            "overflow_y": null,
            "overflow_x": null,
            "grid_auto_flow": null,
            "grid_area": null,
            "grid_template_columns": null,
            "flex": null,
            "_model_name": "LayoutModel",
            "justify_items": null,
            "grid_row": null,
            "max_height": null,
            "align_content": null,
            "visibility": null,
            "align_self": null,
            "height": null,
            "min_height": null,
            "padding": null,
            "grid_auto_rows": null,
            "grid_gap": null,
            "max_width": null,
            "order": null,
            "_view_module_version": "1.2.0",
            "grid_template_areas": null,
            "object_position": null,
            "object_fit": null,
            "grid_auto_columns": null,
            "margin": null,
            "display": null,
            "left": null
          }
        },
        "ec50a1ccd9874304962843f67a4f1ba8": {
          "model_module": "@jupyter-widgets/controls",
          "model_name": "IntProgressModel",
          "state": {
            "_view_name": "ProgressView",
            "style": "IPY_MODEL_84964ae6e6eb40619f23b8e51cd31008",
            "_dom_classes": [],
            "description": "100%",
            "_model_name": "IntProgressModel",
            "bar_style": "success",
            "max": 469,
            "_view_module": "@jupyter-widgets/controls",
            "_model_module_version": "1.5.0",
            "value": 469,
            "_view_count": null,
            "_view_module_version": "1.5.0",
            "orientation": "horizontal",
            "min": 0,
            "description_tooltip": null,
            "_model_module": "@jupyter-widgets/controls",
            "layout": "IPY_MODEL_c51656549a7c454fa0c9f878bb2da2ac"
          }
        },
        "a87d42ea35714194bb96aeee9fb294b1": {
          "model_module": "@jupyter-widgets/controls",
          "model_name": "HTMLModel",
          "state": {
            "_view_name": "HTMLView",
            "style": "IPY_MODEL_3ca55a44a715494781ad3efebb530d0b",
            "_dom_classes": [],
            "description": "",
            "_model_name": "HTMLModel",
            "placeholder": "​",
            "_view_module": "@jupyter-widgets/controls",
            "_model_module_version": "1.5.0",
            "value": " 469/469 [23:56&lt;00:00,  3.06s/it]",
            "_view_count": null,
            "_view_module_version": "1.5.0",
            "description_tooltip": null,
            "_model_module": "@jupyter-widgets/controls",
            "layout": "IPY_MODEL_2169850cb3604ac58b7b30787ddecc49"
          }
        },
        "84964ae6e6eb40619f23b8e51cd31008": {
          "model_module": "@jupyter-widgets/controls",
          "model_name": "ProgressStyleModel",
          "state": {
            "_view_name": "StyleView",
            "_model_name": "ProgressStyleModel",
            "description_width": "initial",
            "_view_module": "@jupyter-widgets/base",
            "_model_module_version": "1.5.0",
            "_view_count": null,
            "_view_module_version": "1.2.0",
            "bar_color": null,
            "_model_module": "@jupyter-widgets/controls"
          }
        },
        "c51656549a7c454fa0c9f878bb2da2ac": {
          "model_module": "@jupyter-widgets/base",
          "model_name": "LayoutModel",
          "state": {
            "_view_name": "LayoutView",
            "grid_template_rows": null,
            "right": null,
            "justify_content": null,
            "_view_module": "@jupyter-widgets/base",
            "overflow": null,
            "_model_module_version": "1.2.0",
            "_view_count": null,
            "flex_flow": null,
            "width": null,
            "min_width": null,
            "border": null,
            "align_items": null,
            "bottom": null,
            "_model_module": "@jupyter-widgets/base",
            "top": null,
            "grid_column": null,
            "overflow_y": null,
            "overflow_x": null,
            "grid_auto_flow": null,
            "grid_area": null,
            "grid_template_columns": null,
            "flex": null,
            "_model_name": "LayoutModel",
            "justify_items": null,
            "grid_row": null,
            "max_height": null,
            "align_content": null,
            "visibility": null,
            "align_self": null,
            "height": null,
            "min_height": null,
            "padding": null,
            "grid_auto_rows": null,
            "grid_gap": null,
            "max_width": null,
            "order": null,
            "_view_module_version": "1.2.0",
            "grid_template_areas": null,
            "object_position": null,
            "object_fit": null,
            "grid_auto_columns": null,
            "margin": null,
            "display": null,
            "left": null
          }
        },
        "3ca55a44a715494781ad3efebb530d0b": {
          "model_module": "@jupyter-widgets/controls",
          "model_name": "DescriptionStyleModel",
          "state": {
            "_view_name": "StyleView",
            "_model_name": "DescriptionStyleModel",
            "description_width": "",
            "_view_module": "@jupyter-widgets/base",
            "_model_module_version": "1.5.0",
            "_view_count": null,
            "_view_module_version": "1.2.0",
            "_model_module": "@jupyter-widgets/controls"
          }
        },
        "2169850cb3604ac58b7b30787ddecc49": {
          "model_module": "@jupyter-widgets/base",
          "model_name": "LayoutModel",
          "state": {
            "_view_name": "LayoutView",
            "grid_template_rows": null,
            "right": null,
            "justify_content": null,
            "_view_module": "@jupyter-widgets/base",
            "overflow": null,
            "_model_module_version": "1.2.0",
            "_view_count": null,
            "flex_flow": null,
            "width": null,
            "min_width": null,
            "border": null,
            "align_items": null,
            "bottom": null,
            "_model_module": "@jupyter-widgets/base",
            "top": null,
            "grid_column": null,
            "overflow_y": null,
            "overflow_x": null,
            "grid_auto_flow": null,
            "grid_area": null,
            "grid_template_columns": null,
            "flex": null,
            "_model_name": "LayoutModel",
            "justify_items": null,
            "grid_row": null,
            "max_height": null,
            "align_content": null,
            "visibility": null,
            "align_self": null,
            "height": null,
            "min_height": null,
            "padding": null,
            "grid_auto_rows": null,
            "grid_gap": null,
            "max_width": null,
            "order": null,
            "_view_module_version": "1.2.0",
            "grid_template_areas": null,
            "object_position": null,
            "object_fit": null,
            "grid_auto_columns": null,
            "margin": null,
            "display": null,
            "left": null
          }
        },
        "2ba6330a6a9646b794fd5f178a72c392": {
          "model_module": "@jupyter-widgets/controls",
          "model_name": "HBoxModel",
          "state": {
            "_view_name": "HBoxView",
            "_dom_classes": [],
            "_model_name": "HBoxModel",
            "_view_module": "@jupyter-widgets/controls",
            "_model_module_version": "1.5.0",
            "_view_count": null,
            "_view_module_version": "1.5.0",
            "box_style": "",
            "layout": "IPY_MODEL_3bb1fcfc7bc044ffa7032e04a651b8c6",
            "_model_module": "@jupyter-widgets/controls",
            "children": [
              "IPY_MODEL_08bb06726a2d492487f9d2f6858f3e36",
              "IPY_MODEL_0976d46b6a564eb7a3d32207d2b943f2"
            ]
          }
        },
        "3bb1fcfc7bc044ffa7032e04a651b8c6": {
          "model_module": "@jupyter-widgets/base",
          "model_name": "LayoutModel",
          "state": {
            "_view_name": "LayoutView",
            "grid_template_rows": null,
            "right": null,
            "justify_content": null,
            "_view_module": "@jupyter-widgets/base",
            "overflow": null,
            "_model_module_version": "1.2.0",
            "_view_count": null,
            "flex_flow": null,
            "width": null,
            "min_width": null,
            "border": null,
            "align_items": null,
            "bottom": null,
            "_model_module": "@jupyter-widgets/base",
            "top": null,
            "grid_column": null,
            "overflow_y": null,
            "overflow_x": null,
            "grid_auto_flow": null,
            "grid_area": null,
            "grid_template_columns": null,
            "flex": null,
            "_model_name": "LayoutModel",
            "justify_items": null,
            "grid_row": null,
            "max_height": null,
            "align_content": null,
            "visibility": null,
            "align_self": null,
            "height": null,
            "min_height": null,
            "padding": null,
            "grid_auto_rows": null,
            "grid_gap": null,
            "max_width": null,
            "order": null,
            "_view_module_version": "1.2.0",
            "grid_template_areas": null,
            "object_position": null,
            "object_fit": null,
            "grid_auto_columns": null,
            "margin": null,
            "display": null,
            "left": null
          }
        },
        "08bb06726a2d492487f9d2f6858f3e36": {
          "model_module": "@jupyter-widgets/controls",
          "model_name": "IntProgressModel",
          "state": {
            "_view_name": "ProgressView",
            "style": "IPY_MODEL_b7494a8451084ce89d0951520df3388c",
            "_dom_classes": [],
            "description": "100%",
            "_model_name": "IntProgressModel",
            "bar_style": "success",
            "max": 469,
            "_view_module": "@jupyter-widgets/controls",
            "_model_module_version": "1.5.0",
            "value": 469,
            "_view_count": null,
            "_view_module_version": "1.5.0",
            "orientation": "horizontal",
            "min": 0,
            "description_tooltip": null,
            "_model_module": "@jupyter-widgets/controls",
            "layout": "IPY_MODEL_43e307a8222d47a9b42ac96558e2ba3f"
          }
        },
        "0976d46b6a564eb7a3d32207d2b943f2": {
          "model_module": "@jupyter-widgets/controls",
          "model_name": "HTMLModel",
          "state": {
            "_view_name": "HTMLView",
            "style": "IPY_MODEL_91fda22971b84c7586eef55d1cd2caa7",
            "_dom_classes": [],
            "description": "",
            "_model_name": "HTMLModel",
            "placeholder": "​",
            "_view_module": "@jupyter-widgets/controls",
            "_model_module_version": "1.5.0",
            "value": " 469/469 [1:31:06&lt;00:00, 11.66s/it]",
            "_view_count": null,
            "_view_module_version": "1.5.0",
            "description_tooltip": null,
            "_model_module": "@jupyter-widgets/controls",
            "layout": "IPY_MODEL_ca03fcde7ab9453483d13158be9cca69"
          }
        },
        "b7494a8451084ce89d0951520df3388c": {
          "model_module": "@jupyter-widgets/controls",
          "model_name": "ProgressStyleModel",
          "state": {
            "_view_name": "StyleView",
            "_model_name": "ProgressStyleModel",
            "description_width": "initial",
            "_view_module": "@jupyter-widgets/base",
            "_model_module_version": "1.5.0",
            "_view_count": null,
            "_view_module_version": "1.2.0",
            "bar_color": null,
            "_model_module": "@jupyter-widgets/controls"
          }
        },
        "43e307a8222d47a9b42ac96558e2ba3f": {
          "model_module": "@jupyter-widgets/base",
          "model_name": "LayoutModel",
          "state": {
            "_view_name": "LayoutView",
            "grid_template_rows": null,
            "right": null,
            "justify_content": null,
            "_view_module": "@jupyter-widgets/base",
            "overflow": null,
            "_model_module_version": "1.2.0",
            "_view_count": null,
            "flex_flow": null,
            "width": null,
            "min_width": null,
            "border": null,
            "align_items": null,
            "bottom": null,
            "_model_module": "@jupyter-widgets/base",
            "top": null,
            "grid_column": null,
            "overflow_y": null,
            "overflow_x": null,
            "grid_auto_flow": null,
            "grid_area": null,
            "grid_template_columns": null,
            "flex": null,
            "_model_name": "LayoutModel",
            "justify_items": null,
            "grid_row": null,
            "max_height": null,
            "align_content": null,
            "visibility": null,
            "align_self": null,
            "height": null,
            "min_height": null,
            "padding": null,
            "grid_auto_rows": null,
            "grid_gap": null,
            "max_width": null,
            "order": null,
            "_view_module_version": "1.2.0",
            "grid_template_areas": null,
            "object_position": null,
            "object_fit": null,
            "grid_auto_columns": null,
            "margin": null,
            "display": null,
            "left": null
          }
        },
        "91fda22971b84c7586eef55d1cd2caa7": {
          "model_module": "@jupyter-widgets/controls",
          "model_name": "DescriptionStyleModel",
          "state": {
            "_view_name": "StyleView",
            "_model_name": "DescriptionStyleModel",
            "description_width": "",
            "_view_module": "@jupyter-widgets/base",
            "_model_module_version": "1.5.0",
            "_view_count": null,
            "_view_module_version": "1.2.0",
            "_model_module": "@jupyter-widgets/controls"
          }
        },
        "ca03fcde7ab9453483d13158be9cca69": {
          "model_module": "@jupyter-widgets/base",
          "model_name": "LayoutModel",
          "state": {
            "_view_name": "LayoutView",
            "grid_template_rows": null,
            "right": null,
            "justify_content": null,
            "_view_module": "@jupyter-widgets/base",
            "overflow": null,
            "_model_module_version": "1.2.0",
            "_view_count": null,
            "flex_flow": null,
            "width": null,
            "min_width": null,
            "border": null,
            "align_items": null,
            "bottom": null,
            "_model_module": "@jupyter-widgets/base",
            "top": null,
            "grid_column": null,
            "overflow_y": null,
            "overflow_x": null,
            "grid_auto_flow": null,
            "grid_area": null,
            "grid_template_columns": null,
            "flex": null,
            "_model_name": "LayoutModel",
            "justify_items": null,
            "grid_row": null,
            "max_height": null,
            "align_content": null,
            "visibility": null,
            "align_self": null,
            "height": null,
            "min_height": null,
            "padding": null,
            "grid_auto_rows": null,
            "grid_gap": null,
            "max_width": null,
            "order": null,
            "_view_module_version": "1.2.0",
            "grid_template_areas": null,
            "object_position": null,
            "object_fit": null,
            "grid_auto_columns": null,
            "margin": null,
            "display": null,
            "left": null
          }
        },
        "6447b60d868747bc9c11c2f420272a69": {
          "model_module": "@jupyter-widgets/controls",
          "model_name": "HBoxModel",
          "state": {
            "_view_name": "HBoxView",
            "_dom_classes": [],
            "_model_name": "HBoxModel",
            "_view_module": "@jupyter-widgets/controls",
            "_model_module_version": "1.5.0",
            "_view_count": null,
            "_view_module_version": "1.5.0",
            "box_style": "",
            "layout": "IPY_MODEL_e704e4dd785f4be6afd9ca9045d3ce0a",
            "_model_module": "@jupyter-widgets/controls",
            "children": [
              "IPY_MODEL_520aa59eae704101b65870bf86a9af31",
              "IPY_MODEL_494ecd72b2cb46ad885b168265827640"
            ]
          }
        },
        "e704e4dd785f4be6afd9ca9045d3ce0a": {
          "model_module": "@jupyter-widgets/base",
          "model_name": "LayoutModel",
          "state": {
            "_view_name": "LayoutView",
            "grid_template_rows": null,
            "right": null,
            "justify_content": null,
            "_view_module": "@jupyter-widgets/base",
            "overflow": null,
            "_model_module_version": "1.2.0",
            "_view_count": null,
            "flex_flow": null,
            "width": null,
            "min_width": null,
            "border": null,
            "align_items": null,
            "bottom": null,
            "_model_module": "@jupyter-widgets/base",
            "top": null,
            "grid_column": null,
            "overflow_y": null,
            "overflow_x": null,
            "grid_auto_flow": null,
            "grid_area": null,
            "grid_template_columns": null,
            "flex": null,
            "_model_name": "LayoutModel",
            "justify_items": null,
            "grid_row": null,
            "max_height": null,
            "align_content": null,
            "visibility": null,
            "align_self": null,
            "height": null,
            "min_height": null,
            "padding": null,
            "grid_auto_rows": null,
            "grid_gap": null,
            "max_width": null,
            "order": null,
            "_view_module_version": "1.2.0",
            "grid_template_areas": null,
            "object_position": null,
            "object_fit": null,
            "grid_auto_columns": null,
            "margin": null,
            "display": null,
            "left": null
          }
        },
        "520aa59eae704101b65870bf86a9af31": {
          "model_module": "@jupyter-widgets/controls",
          "model_name": "IntProgressModel",
          "state": {
            "_view_name": "ProgressView",
            "style": "IPY_MODEL_f7f8cd7ae24f49fca792eeaa10ff0272",
            "_dom_classes": [],
            "description": "100%",
            "_model_name": "IntProgressModel",
            "bar_style": "success",
            "max": 469,
            "_view_module": "@jupyter-widgets/controls",
            "_model_module_version": "1.5.0",
            "value": 469,
            "_view_count": null,
            "_view_module_version": "1.5.0",
            "orientation": "horizontal",
            "min": 0,
            "description_tooltip": null,
            "_model_module": "@jupyter-widgets/controls",
            "layout": "IPY_MODEL_927fc8ca45cf4736af06ab86dafb6e41"
          }
        },
        "494ecd72b2cb46ad885b168265827640": {
          "model_module": "@jupyter-widgets/controls",
          "model_name": "HTMLModel",
          "state": {
            "_view_name": "HTMLView",
            "style": "IPY_MODEL_cc808810541e4bd0a9a78f12d8ec3cdd",
            "_dom_classes": [],
            "description": "",
            "_model_name": "HTMLModel",
            "placeholder": "​",
            "_view_module": "@jupyter-widgets/controls",
            "_model_module_version": "1.5.0",
            "value": " 469/469 [1:19:11&lt;00:00, 10.13s/it]",
            "_view_count": null,
            "_view_module_version": "1.5.0",
            "description_tooltip": null,
            "_model_module": "@jupyter-widgets/controls",
            "layout": "IPY_MODEL_9bedc15893594cfcbde5c377d2007610"
          }
        },
        "f7f8cd7ae24f49fca792eeaa10ff0272": {
          "model_module": "@jupyter-widgets/controls",
          "model_name": "ProgressStyleModel",
          "state": {
            "_view_name": "StyleView",
            "_model_name": "ProgressStyleModel",
            "description_width": "initial",
            "_view_module": "@jupyter-widgets/base",
            "_model_module_version": "1.5.0",
            "_view_count": null,
            "_view_module_version": "1.2.0",
            "bar_color": null,
            "_model_module": "@jupyter-widgets/controls"
          }
        },
        "927fc8ca45cf4736af06ab86dafb6e41": {
          "model_module": "@jupyter-widgets/base",
          "model_name": "LayoutModel",
          "state": {
            "_view_name": "LayoutView",
            "grid_template_rows": null,
            "right": null,
            "justify_content": null,
            "_view_module": "@jupyter-widgets/base",
            "overflow": null,
            "_model_module_version": "1.2.0",
            "_view_count": null,
            "flex_flow": null,
            "width": null,
            "min_width": null,
            "border": null,
            "align_items": null,
            "bottom": null,
            "_model_module": "@jupyter-widgets/base",
            "top": null,
            "grid_column": null,
            "overflow_y": null,
            "overflow_x": null,
            "grid_auto_flow": null,
            "grid_area": null,
            "grid_template_columns": null,
            "flex": null,
            "_model_name": "LayoutModel",
            "justify_items": null,
            "grid_row": null,
            "max_height": null,
            "align_content": null,
            "visibility": null,
            "align_self": null,
            "height": null,
            "min_height": null,
            "padding": null,
            "grid_auto_rows": null,
            "grid_gap": null,
            "max_width": null,
            "order": null,
            "_view_module_version": "1.2.0",
            "grid_template_areas": null,
            "object_position": null,
            "object_fit": null,
            "grid_auto_columns": null,
            "margin": null,
            "display": null,
            "left": null
          }
        },
        "cc808810541e4bd0a9a78f12d8ec3cdd": {
          "model_module": "@jupyter-widgets/controls",
          "model_name": "DescriptionStyleModel",
          "state": {
            "_view_name": "StyleView",
            "_model_name": "DescriptionStyleModel",
            "description_width": "",
            "_view_module": "@jupyter-widgets/base",
            "_model_module_version": "1.5.0",
            "_view_count": null,
            "_view_module_version": "1.2.0",
            "_model_module": "@jupyter-widgets/controls"
          }
        },
        "9bedc15893594cfcbde5c377d2007610": {
          "model_module": "@jupyter-widgets/base",
          "model_name": "LayoutModel",
          "state": {
            "_view_name": "LayoutView",
            "grid_template_rows": null,
            "right": null,
            "justify_content": null,
            "_view_module": "@jupyter-widgets/base",
            "overflow": null,
            "_model_module_version": "1.2.0",
            "_view_count": null,
            "flex_flow": null,
            "width": null,
            "min_width": null,
            "border": null,
            "align_items": null,
            "bottom": null,
            "_model_module": "@jupyter-widgets/base",
            "top": null,
            "grid_column": null,
            "overflow_y": null,
            "overflow_x": null,
            "grid_auto_flow": null,
            "grid_area": null,
            "grid_template_columns": null,
            "flex": null,
            "_model_name": "LayoutModel",
            "justify_items": null,
            "grid_row": null,
            "max_height": null,
            "align_content": null,
            "visibility": null,
            "align_self": null,
            "height": null,
            "min_height": null,
            "padding": null,
            "grid_auto_rows": null,
            "grid_gap": null,
            "max_width": null,
            "order": null,
            "_view_module_version": "1.2.0",
            "grid_template_areas": null,
            "object_position": null,
            "object_fit": null,
            "grid_auto_columns": null,
            "margin": null,
            "display": null,
            "left": null
          }
        },
        "f64a9f41814d467f8e00ed1ffe4082e1": {
          "model_module": "@jupyter-widgets/controls",
          "model_name": "HBoxModel",
          "state": {
            "_view_name": "HBoxView",
            "_dom_classes": [],
            "_model_name": "HBoxModel",
            "_view_module": "@jupyter-widgets/controls",
            "_model_module_version": "1.5.0",
            "_view_count": null,
            "_view_module_version": "1.5.0",
            "box_style": "",
            "layout": "IPY_MODEL_a780878445524996afab7620a1762afa",
            "_model_module": "@jupyter-widgets/controls",
            "children": [
              "IPY_MODEL_bef6f27c7ed741debce4e03523cea0d9",
              "IPY_MODEL_332651024b9644c0ae123d7db3ee138e"
            ]
          }
        },
        "a780878445524996afab7620a1762afa": {
          "model_module": "@jupyter-widgets/base",
          "model_name": "LayoutModel",
          "state": {
            "_view_name": "LayoutView",
            "grid_template_rows": null,
            "right": null,
            "justify_content": null,
            "_view_module": "@jupyter-widgets/base",
            "overflow": null,
            "_model_module_version": "1.2.0",
            "_view_count": null,
            "flex_flow": null,
            "width": null,
            "min_width": null,
            "border": null,
            "align_items": null,
            "bottom": null,
            "_model_module": "@jupyter-widgets/base",
            "top": null,
            "grid_column": null,
            "overflow_y": null,
            "overflow_x": null,
            "grid_auto_flow": null,
            "grid_area": null,
            "grid_template_columns": null,
            "flex": null,
            "_model_name": "LayoutModel",
            "justify_items": null,
            "grid_row": null,
            "max_height": null,
            "align_content": null,
            "visibility": null,
            "align_self": null,
            "height": null,
            "min_height": null,
            "padding": null,
            "grid_auto_rows": null,
            "grid_gap": null,
            "max_width": null,
            "order": null,
            "_view_module_version": "1.2.0",
            "grid_template_areas": null,
            "object_position": null,
            "object_fit": null,
            "grid_auto_columns": null,
            "margin": null,
            "display": null,
            "left": null
          }
        },
        "bef6f27c7ed741debce4e03523cea0d9": {
          "model_module": "@jupyter-widgets/controls",
          "model_name": "IntProgressModel",
          "state": {
            "_view_name": "ProgressView",
            "style": "IPY_MODEL_1ac359fedfbd433d92ac2fa888883845",
            "_dom_classes": [],
            "description": "100%",
            "_model_name": "IntProgressModel",
            "bar_style": "success",
            "max": 469,
            "_view_module": "@jupyter-widgets/controls",
            "_model_module_version": "1.5.0",
            "value": 469,
            "_view_count": null,
            "_view_module_version": "1.5.0",
            "orientation": "horizontal",
            "min": 0,
            "description_tooltip": null,
            "_model_module": "@jupyter-widgets/controls",
            "layout": "IPY_MODEL_0c1a018797784ce89d62b88660a2af1e"
          }
        },
        "332651024b9644c0ae123d7db3ee138e": {
          "model_module": "@jupyter-widgets/controls",
          "model_name": "HTMLModel",
          "state": {
            "_view_name": "HTMLView",
            "style": "IPY_MODEL_70ca4520d68d41e7b84fd748fe1b7c48",
            "_dom_classes": [],
            "description": "",
            "_model_name": "HTMLModel",
            "placeholder": "​",
            "_view_module": "@jupyter-widgets/controls",
            "_model_module_version": "1.5.0",
            "value": " 469/469 [22:38&lt;00:00,  2.90s/it]",
            "_view_count": null,
            "_view_module_version": "1.5.0",
            "description_tooltip": null,
            "_model_module": "@jupyter-widgets/controls",
            "layout": "IPY_MODEL_1efd925e9a6f4d2694389cad2ecdd355"
          }
        },
        "1ac359fedfbd433d92ac2fa888883845": {
          "model_module": "@jupyter-widgets/controls",
          "model_name": "ProgressStyleModel",
          "state": {
            "_view_name": "StyleView",
            "_model_name": "ProgressStyleModel",
            "description_width": "initial",
            "_view_module": "@jupyter-widgets/base",
            "_model_module_version": "1.5.0",
            "_view_count": null,
            "_view_module_version": "1.2.0",
            "bar_color": null,
            "_model_module": "@jupyter-widgets/controls"
          }
        },
        "0c1a018797784ce89d62b88660a2af1e": {
          "model_module": "@jupyter-widgets/base",
          "model_name": "LayoutModel",
          "state": {
            "_view_name": "LayoutView",
            "grid_template_rows": null,
            "right": null,
            "justify_content": null,
            "_view_module": "@jupyter-widgets/base",
            "overflow": null,
            "_model_module_version": "1.2.0",
            "_view_count": null,
            "flex_flow": null,
            "width": null,
            "min_width": null,
            "border": null,
            "align_items": null,
            "bottom": null,
            "_model_module": "@jupyter-widgets/base",
            "top": null,
            "grid_column": null,
            "overflow_y": null,
            "overflow_x": null,
            "grid_auto_flow": null,
            "grid_area": null,
            "grid_template_columns": null,
            "flex": null,
            "_model_name": "LayoutModel",
            "justify_items": null,
            "grid_row": null,
            "max_height": null,
            "align_content": null,
            "visibility": null,
            "align_self": null,
            "height": null,
            "min_height": null,
            "padding": null,
            "grid_auto_rows": null,
            "grid_gap": null,
            "max_width": null,
            "order": null,
            "_view_module_version": "1.2.0",
            "grid_template_areas": null,
            "object_position": null,
            "object_fit": null,
            "grid_auto_columns": null,
            "margin": null,
            "display": null,
            "left": null
          }
        },
        "70ca4520d68d41e7b84fd748fe1b7c48": {
          "model_module": "@jupyter-widgets/controls",
          "model_name": "DescriptionStyleModel",
          "state": {
            "_view_name": "StyleView",
            "_model_name": "DescriptionStyleModel",
            "description_width": "",
            "_view_module": "@jupyter-widgets/base",
            "_model_module_version": "1.5.0",
            "_view_count": null,
            "_view_module_version": "1.2.0",
            "_model_module": "@jupyter-widgets/controls"
          }
        },
        "1efd925e9a6f4d2694389cad2ecdd355": {
          "model_module": "@jupyter-widgets/base",
          "model_name": "LayoutModel",
          "state": {
            "_view_name": "LayoutView",
            "grid_template_rows": null,
            "right": null,
            "justify_content": null,
            "_view_module": "@jupyter-widgets/base",
            "overflow": null,
            "_model_module_version": "1.2.0",
            "_view_count": null,
            "flex_flow": null,
            "width": null,
            "min_width": null,
            "border": null,
            "align_items": null,
            "bottom": null,
            "_model_module": "@jupyter-widgets/base",
            "top": null,
            "grid_column": null,
            "overflow_y": null,
            "overflow_x": null,
            "grid_auto_flow": null,
            "grid_area": null,
            "grid_template_columns": null,
            "flex": null,
            "_model_name": "LayoutModel",
            "justify_items": null,
            "grid_row": null,
            "max_height": null,
            "align_content": null,
            "visibility": null,
            "align_self": null,
            "height": null,
            "min_height": null,
            "padding": null,
            "grid_auto_rows": null,
            "grid_gap": null,
            "max_width": null,
            "order": null,
            "_view_module_version": "1.2.0",
            "grid_template_areas": null,
            "object_position": null,
            "object_fit": null,
            "grid_auto_columns": null,
            "margin": null,
            "display": null,
            "left": null
          }
        },
        "8a79240f1b3045eaa5177b9589a6cbae": {
          "model_module": "@jupyter-widgets/controls",
          "model_name": "HBoxModel",
          "state": {
            "_view_name": "HBoxView",
            "_dom_classes": [],
            "_model_name": "HBoxModel",
            "_view_module": "@jupyter-widgets/controls",
            "_model_module_version": "1.5.0",
            "_view_count": null,
            "_view_module_version": "1.5.0",
            "box_style": "",
            "layout": "IPY_MODEL_996156438804499887e8d90ebbcdb0c5",
            "_model_module": "@jupyter-widgets/controls",
            "children": [
              "IPY_MODEL_c66f091f3b3e4822bb5931d04d9cda34",
              "IPY_MODEL_663751ca55c24ad3b736619e9d513431"
            ]
          }
        },
        "996156438804499887e8d90ebbcdb0c5": {
          "model_module": "@jupyter-widgets/base",
          "model_name": "LayoutModel",
          "state": {
            "_view_name": "LayoutView",
            "grid_template_rows": null,
            "right": null,
            "justify_content": null,
            "_view_module": "@jupyter-widgets/base",
            "overflow": null,
            "_model_module_version": "1.2.0",
            "_view_count": null,
            "flex_flow": null,
            "width": null,
            "min_width": null,
            "border": null,
            "align_items": null,
            "bottom": null,
            "_model_module": "@jupyter-widgets/base",
            "top": null,
            "grid_column": null,
            "overflow_y": null,
            "overflow_x": null,
            "grid_auto_flow": null,
            "grid_area": null,
            "grid_template_columns": null,
            "flex": null,
            "_model_name": "LayoutModel",
            "justify_items": null,
            "grid_row": null,
            "max_height": null,
            "align_content": null,
            "visibility": null,
            "align_self": null,
            "height": null,
            "min_height": null,
            "padding": null,
            "grid_auto_rows": null,
            "grid_gap": null,
            "max_width": null,
            "order": null,
            "_view_module_version": "1.2.0",
            "grid_template_areas": null,
            "object_position": null,
            "object_fit": null,
            "grid_auto_columns": null,
            "margin": null,
            "display": null,
            "left": null
          }
        },
        "c66f091f3b3e4822bb5931d04d9cda34": {
          "model_module": "@jupyter-widgets/controls",
          "model_name": "IntProgressModel",
          "state": {
            "_view_name": "ProgressView",
            "style": "IPY_MODEL_04681f3300174e70a2fe6f89407bc8ae",
            "_dom_classes": [],
            "description": "100%",
            "_model_name": "IntProgressModel",
            "bar_style": "success",
            "max": 469,
            "_view_module": "@jupyter-widgets/controls",
            "_model_module_version": "1.5.0",
            "value": 469,
            "_view_count": null,
            "_view_module_version": "1.5.0",
            "orientation": "horizontal",
            "min": 0,
            "description_tooltip": null,
            "_model_module": "@jupyter-widgets/controls",
            "layout": "IPY_MODEL_7b07990d21e64d4392df85f3bd363975"
          }
        },
        "663751ca55c24ad3b736619e9d513431": {
          "model_module": "@jupyter-widgets/controls",
          "model_name": "HTMLModel",
          "state": {
            "_view_name": "HTMLView",
            "style": "IPY_MODEL_eebded8624b0466fba5aedfeec180018",
            "_dom_classes": [],
            "description": "",
            "_model_name": "HTMLModel",
            "placeholder": "​",
            "_view_module": "@jupyter-widgets/controls",
            "_model_module_version": "1.5.0",
            "value": " 469/469 [56:16&lt;00:00,  7.20s/it]",
            "_view_count": null,
            "_view_module_version": "1.5.0",
            "description_tooltip": null,
            "_model_module": "@jupyter-widgets/controls",
            "layout": "IPY_MODEL_6748135017654198b4cebf1ae8879ba5"
          }
        },
        "04681f3300174e70a2fe6f89407bc8ae": {
          "model_module": "@jupyter-widgets/controls",
          "model_name": "ProgressStyleModel",
          "state": {
            "_view_name": "StyleView",
            "_model_name": "ProgressStyleModel",
            "description_width": "initial",
            "_view_module": "@jupyter-widgets/base",
            "_model_module_version": "1.5.0",
            "_view_count": null,
            "_view_module_version": "1.2.0",
            "bar_color": null,
            "_model_module": "@jupyter-widgets/controls"
          }
        },
        "7b07990d21e64d4392df85f3bd363975": {
          "model_module": "@jupyter-widgets/base",
          "model_name": "LayoutModel",
          "state": {
            "_view_name": "LayoutView",
            "grid_template_rows": null,
            "right": null,
            "justify_content": null,
            "_view_module": "@jupyter-widgets/base",
            "overflow": null,
            "_model_module_version": "1.2.0",
            "_view_count": null,
            "flex_flow": null,
            "width": null,
            "min_width": null,
            "border": null,
            "align_items": null,
            "bottom": null,
            "_model_module": "@jupyter-widgets/base",
            "top": null,
            "grid_column": null,
            "overflow_y": null,
            "overflow_x": null,
            "grid_auto_flow": null,
            "grid_area": null,
            "grid_template_columns": null,
            "flex": null,
            "_model_name": "LayoutModel",
            "justify_items": null,
            "grid_row": null,
            "max_height": null,
            "align_content": null,
            "visibility": null,
            "align_self": null,
            "height": null,
            "min_height": null,
            "padding": null,
            "grid_auto_rows": null,
            "grid_gap": null,
            "max_width": null,
            "order": null,
            "_view_module_version": "1.2.0",
            "grid_template_areas": null,
            "object_position": null,
            "object_fit": null,
            "grid_auto_columns": null,
            "margin": null,
            "display": null,
            "left": null
          }
        },
        "eebded8624b0466fba5aedfeec180018": {
          "model_module": "@jupyter-widgets/controls",
          "model_name": "DescriptionStyleModel",
          "state": {
            "_view_name": "StyleView",
            "_model_name": "DescriptionStyleModel",
            "description_width": "",
            "_view_module": "@jupyter-widgets/base",
            "_model_module_version": "1.5.0",
            "_view_count": null,
            "_view_module_version": "1.2.0",
            "_model_module": "@jupyter-widgets/controls"
          }
        },
        "6748135017654198b4cebf1ae8879ba5": {
          "model_module": "@jupyter-widgets/base",
          "model_name": "LayoutModel",
          "state": {
            "_view_name": "LayoutView",
            "grid_template_rows": null,
            "right": null,
            "justify_content": null,
            "_view_module": "@jupyter-widgets/base",
            "overflow": null,
            "_model_module_version": "1.2.0",
            "_view_count": null,
            "flex_flow": null,
            "width": null,
            "min_width": null,
            "border": null,
            "align_items": null,
            "bottom": null,
            "_model_module": "@jupyter-widgets/base",
            "top": null,
            "grid_column": null,
            "overflow_y": null,
            "overflow_x": null,
            "grid_auto_flow": null,
            "grid_area": null,
            "grid_template_columns": null,
            "flex": null,
            "_model_name": "LayoutModel",
            "justify_items": null,
            "grid_row": null,
            "max_height": null,
            "align_content": null,
            "visibility": null,
            "align_self": null,
            "height": null,
            "min_height": null,
            "padding": null,
            "grid_auto_rows": null,
            "grid_gap": null,
            "max_width": null,
            "order": null,
            "_view_module_version": "1.2.0",
            "grid_template_areas": null,
            "object_position": null,
            "object_fit": null,
            "grid_auto_columns": null,
            "margin": null,
            "display": null,
            "left": null
          }
        },
        "2338dbd2a4a14c72afa13d6ecb8a969f": {
          "model_module": "@jupyter-widgets/controls",
          "model_name": "HBoxModel",
          "state": {
            "_view_name": "HBoxView",
            "_dom_classes": [],
            "_model_name": "HBoxModel",
            "_view_module": "@jupyter-widgets/controls",
            "_model_module_version": "1.5.0",
            "_view_count": null,
            "_view_module_version": "1.5.0",
            "box_style": "",
            "layout": "IPY_MODEL_32554da27274480ba0918307ba28755d",
            "_model_module": "@jupyter-widgets/controls",
            "children": [
              "IPY_MODEL_440d013d10bc4bde99e82ad1318062b5",
              "IPY_MODEL_4743d9ec90904dd696375e628e979241"
            ]
          }
        },
        "32554da27274480ba0918307ba28755d": {
          "model_module": "@jupyter-widgets/base",
          "model_name": "LayoutModel",
          "state": {
            "_view_name": "LayoutView",
            "grid_template_rows": null,
            "right": null,
            "justify_content": null,
            "_view_module": "@jupyter-widgets/base",
            "overflow": null,
            "_model_module_version": "1.2.0",
            "_view_count": null,
            "flex_flow": null,
            "width": null,
            "min_width": null,
            "border": null,
            "align_items": null,
            "bottom": null,
            "_model_module": "@jupyter-widgets/base",
            "top": null,
            "grid_column": null,
            "overflow_y": null,
            "overflow_x": null,
            "grid_auto_flow": null,
            "grid_area": null,
            "grid_template_columns": null,
            "flex": null,
            "_model_name": "LayoutModel",
            "justify_items": null,
            "grid_row": null,
            "max_height": null,
            "align_content": null,
            "visibility": null,
            "align_self": null,
            "height": null,
            "min_height": null,
            "padding": null,
            "grid_auto_rows": null,
            "grid_gap": null,
            "max_width": null,
            "order": null,
            "_view_module_version": "1.2.0",
            "grid_template_areas": null,
            "object_position": null,
            "object_fit": null,
            "grid_auto_columns": null,
            "margin": null,
            "display": null,
            "left": null
          }
        },
        "440d013d10bc4bde99e82ad1318062b5": {
          "model_module": "@jupyter-widgets/controls",
          "model_name": "IntProgressModel",
          "state": {
            "_view_name": "ProgressView",
            "style": "IPY_MODEL_8bd081433f4d447e871f6824d8ff1e46",
            "_dom_classes": [],
            "description": "100%",
            "_model_name": "IntProgressModel",
            "bar_style": "success",
            "max": 469,
            "_view_module": "@jupyter-widgets/controls",
            "_model_module_version": "1.5.0",
            "value": 469,
            "_view_count": null,
            "_view_module_version": "1.5.0",
            "orientation": "horizontal",
            "min": 0,
            "description_tooltip": null,
            "_model_module": "@jupyter-widgets/controls",
            "layout": "IPY_MODEL_f7767d44094c4228947613083a05e0d9"
          }
        },
        "4743d9ec90904dd696375e628e979241": {
          "model_module": "@jupyter-widgets/controls",
          "model_name": "HTMLModel",
          "state": {
            "_view_name": "HTMLView",
            "style": "IPY_MODEL_95083024c25d4f128130440dfffb9c8e",
            "_dom_classes": [],
            "description": "",
            "_model_name": "HTMLModel",
            "placeholder": "​",
            "_view_module": "@jupyter-widgets/controls",
            "_model_module_version": "1.5.0",
            "value": " 469/469 [44:54&lt;00:00,  5.74s/it]",
            "_view_count": null,
            "_view_module_version": "1.5.0",
            "description_tooltip": null,
            "_model_module": "@jupyter-widgets/controls",
            "layout": "IPY_MODEL_2569602d08c041daab69523fe42f7349"
          }
        },
        "8bd081433f4d447e871f6824d8ff1e46": {
          "model_module": "@jupyter-widgets/controls",
          "model_name": "ProgressStyleModel",
          "state": {
            "_view_name": "StyleView",
            "_model_name": "ProgressStyleModel",
            "description_width": "initial",
            "_view_module": "@jupyter-widgets/base",
            "_model_module_version": "1.5.0",
            "_view_count": null,
            "_view_module_version": "1.2.0",
            "bar_color": null,
            "_model_module": "@jupyter-widgets/controls"
          }
        },
        "f7767d44094c4228947613083a05e0d9": {
          "model_module": "@jupyter-widgets/base",
          "model_name": "LayoutModel",
          "state": {
            "_view_name": "LayoutView",
            "grid_template_rows": null,
            "right": null,
            "justify_content": null,
            "_view_module": "@jupyter-widgets/base",
            "overflow": null,
            "_model_module_version": "1.2.0",
            "_view_count": null,
            "flex_flow": null,
            "width": null,
            "min_width": null,
            "border": null,
            "align_items": null,
            "bottom": null,
            "_model_module": "@jupyter-widgets/base",
            "top": null,
            "grid_column": null,
            "overflow_y": null,
            "overflow_x": null,
            "grid_auto_flow": null,
            "grid_area": null,
            "grid_template_columns": null,
            "flex": null,
            "_model_name": "LayoutModel",
            "justify_items": null,
            "grid_row": null,
            "max_height": null,
            "align_content": null,
            "visibility": null,
            "align_self": null,
            "height": null,
            "min_height": null,
            "padding": null,
            "grid_auto_rows": null,
            "grid_gap": null,
            "max_width": null,
            "order": null,
            "_view_module_version": "1.2.0",
            "grid_template_areas": null,
            "object_position": null,
            "object_fit": null,
            "grid_auto_columns": null,
            "margin": null,
            "display": null,
            "left": null
          }
        },
        "95083024c25d4f128130440dfffb9c8e": {
          "model_module": "@jupyter-widgets/controls",
          "model_name": "DescriptionStyleModel",
          "state": {
            "_view_name": "StyleView",
            "_model_name": "DescriptionStyleModel",
            "description_width": "",
            "_view_module": "@jupyter-widgets/base",
            "_model_module_version": "1.5.0",
            "_view_count": null,
            "_view_module_version": "1.2.0",
            "_model_module": "@jupyter-widgets/controls"
          }
        },
        "2569602d08c041daab69523fe42f7349": {
          "model_module": "@jupyter-widgets/base",
          "model_name": "LayoutModel",
          "state": {
            "_view_name": "LayoutView",
            "grid_template_rows": null,
            "right": null,
            "justify_content": null,
            "_view_module": "@jupyter-widgets/base",
            "overflow": null,
            "_model_module_version": "1.2.0",
            "_view_count": null,
            "flex_flow": null,
            "width": null,
            "min_width": null,
            "border": null,
            "align_items": null,
            "bottom": null,
            "_model_module": "@jupyter-widgets/base",
            "top": null,
            "grid_column": null,
            "overflow_y": null,
            "overflow_x": null,
            "grid_auto_flow": null,
            "grid_area": null,
            "grid_template_columns": null,
            "flex": null,
            "_model_name": "LayoutModel",
            "justify_items": null,
            "grid_row": null,
            "max_height": null,
            "align_content": null,
            "visibility": null,
            "align_self": null,
            "height": null,
            "min_height": null,
            "padding": null,
            "grid_auto_rows": null,
            "grid_gap": null,
            "max_width": null,
            "order": null,
            "_view_module_version": "1.2.0",
            "grid_template_areas": null,
            "object_position": null,
            "object_fit": null,
            "grid_auto_columns": null,
            "margin": null,
            "display": null,
            "left": null
          }
        },
        "6b29b1855d554a4fae8d6ad2feded3a6": {
          "model_module": "@jupyter-widgets/controls",
          "model_name": "HBoxModel",
          "state": {
            "_view_name": "HBoxView",
            "_dom_classes": [],
            "_model_name": "HBoxModel",
            "_view_module": "@jupyter-widgets/controls",
            "_model_module_version": "1.5.0",
            "_view_count": null,
            "_view_module_version": "1.5.0",
            "box_style": "",
            "layout": "IPY_MODEL_1f5c8bdc6e8b4a0a8a9a4a8b3214d595",
            "_model_module": "@jupyter-widgets/controls",
            "children": [
              "IPY_MODEL_821d508eea17478a8add2fb68f455d9f",
              "IPY_MODEL_a53c2321fe28442aac34c2ea6a0de5a2"
            ]
          }
        },
        "1f5c8bdc6e8b4a0a8a9a4a8b3214d595": {
          "model_module": "@jupyter-widgets/base",
          "model_name": "LayoutModel",
          "state": {
            "_view_name": "LayoutView",
            "grid_template_rows": null,
            "right": null,
            "justify_content": null,
            "_view_module": "@jupyter-widgets/base",
            "overflow": null,
            "_model_module_version": "1.2.0",
            "_view_count": null,
            "flex_flow": null,
            "width": null,
            "min_width": null,
            "border": null,
            "align_items": null,
            "bottom": null,
            "_model_module": "@jupyter-widgets/base",
            "top": null,
            "grid_column": null,
            "overflow_y": null,
            "overflow_x": null,
            "grid_auto_flow": null,
            "grid_area": null,
            "grid_template_columns": null,
            "flex": null,
            "_model_name": "LayoutModel",
            "justify_items": null,
            "grid_row": null,
            "max_height": null,
            "align_content": null,
            "visibility": null,
            "align_self": null,
            "height": null,
            "min_height": null,
            "padding": null,
            "grid_auto_rows": null,
            "grid_gap": null,
            "max_width": null,
            "order": null,
            "_view_module_version": "1.2.0",
            "grid_template_areas": null,
            "object_position": null,
            "object_fit": null,
            "grid_auto_columns": null,
            "margin": null,
            "display": null,
            "left": null
          }
        },
        "821d508eea17478a8add2fb68f455d9f": {
          "model_module": "@jupyter-widgets/controls",
          "model_name": "IntProgressModel",
          "state": {
            "_view_name": "ProgressView",
            "style": "IPY_MODEL_575370ec80c142ee8728f9ea53eb75c5",
            "_dom_classes": [],
            "description": "100%",
            "_model_name": "IntProgressModel",
            "bar_style": "success",
            "max": 469,
            "_view_module": "@jupyter-widgets/controls",
            "_model_module_version": "1.5.0",
            "value": 469,
            "_view_count": null,
            "_view_module_version": "1.5.0",
            "orientation": "horizontal",
            "min": 0,
            "description_tooltip": null,
            "_model_module": "@jupyter-widgets/controls",
            "layout": "IPY_MODEL_900a97a26fd04dbfad9913fd70fc8ac1"
          }
        },
        "a53c2321fe28442aac34c2ea6a0de5a2": {
          "model_module": "@jupyter-widgets/controls",
          "model_name": "HTMLModel",
          "state": {
            "_view_name": "HTMLView",
            "style": "IPY_MODEL_24760498ad794587b31bbd63c8992a03",
            "_dom_classes": [],
            "description": "",
            "_model_name": "HTMLModel",
            "placeholder": "​",
            "_view_module": "@jupyter-widgets/controls",
            "_model_module_version": "1.5.0",
            "value": " 469/469 [22:26&lt;00:00,  2.87s/it]",
            "_view_count": null,
            "_view_module_version": "1.5.0",
            "description_tooltip": null,
            "_model_module": "@jupyter-widgets/controls",
            "layout": "IPY_MODEL_7fb775e8bfb0497ba963c7c913bfa570"
          }
        },
        "575370ec80c142ee8728f9ea53eb75c5": {
          "model_module": "@jupyter-widgets/controls",
          "model_name": "ProgressStyleModel",
          "state": {
            "_view_name": "StyleView",
            "_model_name": "ProgressStyleModel",
            "description_width": "initial",
            "_view_module": "@jupyter-widgets/base",
            "_model_module_version": "1.5.0",
            "_view_count": null,
            "_view_module_version": "1.2.0",
            "bar_color": null,
            "_model_module": "@jupyter-widgets/controls"
          }
        },
        "900a97a26fd04dbfad9913fd70fc8ac1": {
          "model_module": "@jupyter-widgets/base",
          "model_name": "LayoutModel",
          "state": {
            "_view_name": "LayoutView",
            "grid_template_rows": null,
            "right": null,
            "justify_content": null,
            "_view_module": "@jupyter-widgets/base",
            "overflow": null,
            "_model_module_version": "1.2.0",
            "_view_count": null,
            "flex_flow": null,
            "width": null,
            "min_width": null,
            "border": null,
            "align_items": null,
            "bottom": null,
            "_model_module": "@jupyter-widgets/base",
            "top": null,
            "grid_column": null,
            "overflow_y": null,
            "overflow_x": null,
            "grid_auto_flow": null,
            "grid_area": null,
            "grid_template_columns": null,
            "flex": null,
            "_model_name": "LayoutModel",
            "justify_items": null,
            "grid_row": null,
            "max_height": null,
            "align_content": null,
            "visibility": null,
            "align_self": null,
            "height": null,
            "min_height": null,
            "padding": null,
            "grid_auto_rows": null,
            "grid_gap": null,
            "max_width": null,
            "order": null,
            "_view_module_version": "1.2.0",
            "grid_template_areas": null,
            "object_position": null,
            "object_fit": null,
            "grid_auto_columns": null,
            "margin": null,
            "display": null,
            "left": null
          }
        },
        "24760498ad794587b31bbd63c8992a03": {
          "model_module": "@jupyter-widgets/controls",
          "model_name": "DescriptionStyleModel",
          "state": {
            "_view_name": "StyleView",
            "_model_name": "DescriptionStyleModel",
            "description_width": "",
            "_view_module": "@jupyter-widgets/base",
            "_model_module_version": "1.5.0",
            "_view_count": null,
            "_view_module_version": "1.2.0",
            "_model_module": "@jupyter-widgets/controls"
          }
        },
        "7fb775e8bfb0497ba963c7c913bfa570": {
          "model_module": "@jupyter-widgets/base",
          "model_name": "LayoutModel",
          "state": {
            "_view_name": "LayoutView",
            "grid_template_rows": null,
            "right": null,
            "justify_content": null,
            "_view_module": "@jupyter-widgets/base",
            "overflow": null,
            "_model_module_version": "1.2.0",
            "_view_count": null,
            "flex_flow": null,
            "width": null,
            "min_width": null,
            "border": null,
            "align_items": null,
            "bottom": null,
            "_model_module": "@jupyter-widgets/base",
            "top": null,
            "grid_column": null,
            "overflow_y": null,
            "overflow_x": null,
            "grid_auto_flow": null,
            "grid_area": null,
            "grid_template_columns": null,
            "flex": null,
            "_model_name": "LayoutModel",
            "justify_items": null,
            "grid_row": null,
            "max_height": null,
            "align_content": null,
            "visibility": null,
            "align_self": null,
            "height": null,
            "min_height": null,
            "padding": null,
            "grid_auto_rows": null,
            "grid_gap": null,
            "max_width": null,
            "order": null,
            "_view_module_version": "1.2.0",
            "grid_template_areas": null,
            "object_position": null,
            "object_fit": null,
            "grid_auto_columns": null,
            "margin": null,
            "display": null,
            "left": null
          }
        },
        "5bbf8e7dc09346c8852a2e90cf185282": {
          "model_module": "@jupyter-widgets/controls",
          "model_name": "HBoxModel",
          "state": {
            "_view_name": "HBoxView",
            "_dom_classes": [],
            "_model_name": "HBoxModel",
            "_view_module": "@jupyter-widgets/controls",
            "_model_module_version": "1.5.0",
            "_view_count": null,
            "_view_module_version": "1.5.0",
            "box_style": "",
            "layout": "IPY_MODEL_57bbdb6db5fd4aa1a1063d430969008b",
            "_model_module": "@jupyter-widgets/controls",
            "children": [
              "IPY_MODEL_d65d6fa22c6e47308e6d0d775327d7a8",
              "IPY_MODEL_a33960c5c2e34858b9c7deed90620fde"
            ]
          }
        },
        "57bbdb6db5fd4aa1a1063d430969008b": {
          "model_module": "@jupyter-widgets/base",
          "model_name": "LayoutModel",
          "state": {
            "_view_name": "LayoutView",
            "grid_template_rows": null,
            "right": null,
            "justify_content": null,
            "_view_module": "@jupyter-widgets/base",
            "overflow": null,
            "_model_module_version": "1.2.0",
            "_view_count": null,
            "flex_flow": null,
            "width": null,
            "min_width": null,
            "border": null,
            "align_items": null,
            "bottom": null,
            "_model_module": "@jupyter-widgets/base",
            "top": null,
            "grid_column": null,
            "overflow_y": null,
            "overflow_x": null,
            "grid_auto_flow": null,
            "grid_area": null,
            "grid_template_columns": null,
            "flex": null,
            "_model_name": "LayoutModel",
            "justify_items": null,
            "grid_row": null,
            "max_height": null,
            "align_content": null,
            "visibility": null,
            "align_self": null,
            "height": null,
            "min_height": null,
            "padding": null,
            "grid_auto_rows": null,
            "grid_gap": null,
            "max_width": null,
            "order": null,
            "_view_module_version": "1.2.0",
            "grid_template_areas": null,
            "object_position": null,
            "object_fit": null,
            "grid_auto_columns": null,
            "margin": null,
            "display": null,
            "left": null
          }
        },
        "d65d6fa22c6e47308e6d0d775327d7a8": {
          "model_module": "@jupyter-widgets/controls",
          "model_name": "IntProgressModel",
          "state": {
            "_view_name": "ProgressView",
            "style": "IPY_MODEL_d3b7ea901df94f87950d166b853d88b3",
            "_dom_classes": [],
            "description": "100%",
            "_model_name": "IntProgressModel",
            "bar_style": "success",
            "max": 469,
            "_view_module": "@jupyter-widgets/controls",
            "_model_module_version": "1.5.0",
            "value": 469,
            "_view_count": null,
            "_view_module_version": "1.5.0",
            "orientation": "horizontal",
            "min": 0,
            "description_tooltip": null,
            "_model_module": "@jupyter-widgets/controls",
            "layout": "IPY_MODEL_0525c8667c614022906b62d7c50868c5"
          }
        },
        "a33960c5c2e34858b9c7deed90620fde": {
          "model_module": "@jupyter-widgets/controls",
          "model_name": "HTMLModel",
          "state": {
            "_view_name": "HTMLView",
            "style": "IPY_MODEL_3f5cb4c47db9420c8fee6183aa32d5b3",
            "_dom_classes": [],
            "description": "",
            "_model_name": "HTMLModel",
            "placeholder": "​",
            "_view_module": "@jupyter-widgets/controls",
            "_model_module_version": "1.5.0",
            "value": " 469/469 [22:22&lt;00:00,  2.86s/it]",
            "_view_count": null,
            "_view_module_version": "1.5.0",
            "description_tooltip": null,
            "_model_module": "@jupyter-widgets/controls",
            "layout": "IPY_MODEL_56d885cd3ef24d82a42d97ddd9dfc7af"
          }
        },
        "d3b7ea901df94f87950d166b853d88b3": {
          "model_module": "@jupyter-widgets/controls",
          "model_name": "ProgressStyleModel",
          "state": {
            "_view_name": "StyleView",
            "_model_name": "ProgressStyleModel",
            "description_width": "initial",
            "_view_module": "@jupyter-widgets/base",
            "_model_module_version": "1.5.0",
            "_view_count": null,
            "_view_module_version": "1.2.0",
            "bar_color": null,
            "_model_module": "@jupyter-widgets/controls"
          }
        },
        "0525c8667c614022906b62d7c50868c5": {
          "model_module": "@jupyter-widgets/base",
          "model_name": "LayoutModel",
          "state": {
            "_view_name": "LayoutView",
            "grid_template_rows": null,
            "right": null,
            "justify_content": null,
            "_view_module": "@jupyter-widgets/base",
            "overflow": null,
            "_model_module_version": "1.2.0",
            "_view_count": null,
            "flex_flow": null,
            "width": null,
            "min_width": null,
            "border": null,
            "align_items": null,
            "bottom": null,
            "_model_module": "@jupyter-widgets/base",
            "top": null,
            "grid_column": null,
            "overflow_y": null,
            "overflow_x": null,
            "grid_auto_flow": null,
            "grid_area": null,
            "grid_template_columns": null,
            "flex": null,
            "_model_name": "LayoutModel",
            "justify_items": null,
            "grid_row": null,
            "max_height": null,
            "align_content": null,
            "visibility": null,
            "align_self": null,
            "height": null,
            "min_height": null,
            "padding": null,
            "grid_auto_rows": null,
            "grid_gap": null,
            "max_width": null,
            "order": null,
            "_view_module_version": "1.2.0",
            "grid_template_areas": null,
            "object_position": null,
            "object_fit": null,
            "grid_auto_columns": null,
            "margin": null,
            "display": null,
            "left": null
          }
        },
        "3f5cb4c47db9420c8fee6183aa32d5b3": {
          "model_module": "@jupyter-widgets/controls",
          "model_name": "DescriptionStyleModel",
          "state": {
            "_view_name": "StyleView",
            "_model_name": "DescriptionStyleModel",
            "description_width": "",
            "_view_module": "@jupyter-widgets/base",
            "_model_module_version": "1.5.0",
            "_view_count": null,
            "_view_module_version": "1.2.0",
            "_model_module": "@jupyter-widgets/controls"
          }
        },
        "56d885cd3ef24d82a42d97ddd9dfc7af": {
          "model_module": "@jupyter-widgets/base",
          "model_name": "LayoutModel",
          "state": {
            "_view_name": "LayoutView",
            "grid_template_rows": null,
            "right": null,
            "justify_content": null,
            "_view_module": "@jupyter-widgets/base",
            "overflow": null,
            "_model_module_version": "1.2.0",
            "_view_count": null,
            "flex_flow": null,
            "width": null,
            "min_width": null,
            "border": null,
            "align_items": null,
            "bottom": null,
            "_model_module": "@jupyter-widgets/base",
            "top": null,
            "grid_column": null,
            "overflow_y": null,
            "overflow_x": null,
            "grid_auto_flow": null,
            "grid_area": null,
            "grid_template_columns": null,
            "flex": null,
            "_model_name": "LayoutModel",
            "justify_items": null,
            "grid_row": null,
            "max_height": null,
            "align_content": null,
            "visibility": null,
            "align_self": null,
            "height": null,
            "min_height": null,
            "padding": null,
            "grid_auto_rows": null,
            "grid_gap": null,
            "max_width": null,
            "order": null,
            "_view_module_version": "1.2.0",
            "grid_template_areas": null,
            "object_position": null,
            "object_fit": null,
            "grid_auto_columns": null,
            "margin": null,
            "display": null,
            "left": null
          }
        },
        "2df1a8e8ac88484ebe6c29ba8ce0dc6a": {
          "model_module": "@jupyter-widgets/controls",
          "model_name": "HBoxModel",
          "state": {
            "_view_name": "HBoxView",
            "_dom_classes": [],
            "_model_name": "HBoxModel",
            "_view_module": "@jupyter-widgets/controls",
            "_model_module_version": "1.5.0",
            "_view_count": null,
            "_view_module_version": "1.5.0",
            "box_style": "",
            "layout": "IPY_MODEL_5c186a7e456549948c25e2415135feb4",
            "_model_module": "@jupyter-widgets/controls",
            "children": [
              "IPY_MODEL_746079ae0c4f4a80856ec143951b39a4",
              "IPY_MODEL_a475cef8a08740c68375693719a46b3d"
            ]
          }
        },
        "5c186a7e456549948c25e2415135feb4": {
          "model_module": "@jupyter-widgets/base",
          "model_name": "LayoutModel",
          "state": {
            "_view_name": "LayoutView",
            "grid_template_rows": null,
            "right": null,
            "justify_content": null,
            "_view_module": "@jupyter-widgets/base",
            "overflow": null,
            "_model_module_version": "1.2.0",
            "_view_count": null,
            "flex_flow": null,
            "width": null,
            "min_width": null,
            "border": null,
            "align_items": null,
            "bottom": null,
            "_model_module": "@jupyter-widgets/base",
            "top": null,
            "grid_column": null,
            "overflow_y": null,
            "overflow_x": null,
            "grid_auto_flow": null,
            "grid_area": null,
            "grid_template_columns": null,
            "flex": null,
            "_model_name": "LayoutModel",
            "justify_items": null,
            "grid_row": null,
            "max_height": null,
            "align_content": null,
            "visibility": null,
            "align_self": null,
            "height": null,
            "min_height": null,
            "padding": null,
            "grid_auto_rows": null,
            "grid_gap": null,
            "max_width": null,
            "order": null,
            "_view_module_version": "1.2.0",
            "grid_template_areas": null,
            "object_position": null,
            "object_fit": null,
            "grid_auto_columns": null,
            "margin": null,
            "display": null,
            "left": null
          }
        },
        "746079ae0c4f4a80856ec143951b39a4": {
          "model_module": "@jupyter-widgets/controls",
          "model_name": "IntProgressModel",
          "state": {
            "_view_name": "ProgressView",
            "style": "IPY_MODEL_2a5f54472f844b84bb63894897631a26",
            "_dom_classes": [],
            "description": "100%",
            "_model_name": "IntProgressModel",
            "bar_style": "success",
            "max": 469,
            "_view_module": "@jupyter-widgets/controls",
            "_model_module_version": "1.5.0",
            "value": 469,
            "_view_count": null,
            "_view_module_version": "1.5.0",
            "orientation": "horizontal",
            "min": 0,
            "description_tooltip": null,
            "_model_module": "@jupyter-widgets/controls",
            "layout": "IPY_MODEL_57eb4c1e99ac4cbeb27615ddf8e88415"
          }
        },
        "a475cef8a08740c68375693719a46b3d": {
          "model_module": "@jupyter-widgets/controls",
          "model_name": "HTMLModel",
          "state": {
            "_view_name": "HTMLView",
            "style": "IPY_MODEL_6c2eb1bafb994f268e040ad710f99bb0",
            "_dom_classes": [],
            "description": "",
            "_model_name": "HTMLModel",
            "placeholder": "​",
            "_view_module": "@jupyter-widgets/controls",
            "_model_module_version": "1.5.0",
            "value": " 469/469 [11:10&lt;00:00,  1.43s/it]",
            "_view_count": null,
            "_view_module_version": "1.5.0",
            "description_tooltip": null,
            "_model_module": "@jupyter-widgets/controls",
            "layout": "IPY_MODEL_5061966ed45b43259e18cbfad6a0ed6b"
          }
        },
        "2a5f54472f844b84bb63894897631a26": {
          "model_module": "@jupyter-widgets/controls",
          "model_name": "ProgressStyleModel",
          "state": {
            "_view_name": "StyleView",
            "_model_name": "ProgressStyleModel",
            "description_width": "initial",
            "_view_module": "@jupyter-widgets/base",
            "_model_module_version": "1.5.0",
            "_view_count": null,
            "_view_module_version": "1.2.0",
            "bar_color": null,
            "_model_module": "@jupyter-widgets/controls"
          }
        },
        "57eb4c1e99ac4cbeb27615ddf8e88415": {
          "model_module": "@jupyter-widgets/base",
          "model_name": "LayoutModel",
          "state": {
            "_view_name": "LayoutView",
            "grid_template_rows": null,
            "right": null,
            "justify_content": null,
            "_view_module": "@jupyter-widgets/base",
            "overflow": null,
            "_model_module_version": "1.2.0",
            "_view_count": null,
            "flex_flow": null,
            "width": null,
            "min_width": null,
            "border": null,
            "align_items": null,
            "bottom": null,
            "_model_module": "@jupyter-widgets/base",
            "top": null,
            "grid_column": null,
            "overflow_y": null,
            "overflow_x": null,
            "grid_auto_flow": null,
            "grid_area": null,
            "grid_template_columns": null,
            "flex": null,
            "_model_name": "LayoutModel",
            "justify_items": null,
            "grid_row": null,
            "max_height": null,
            "align_content": null,
            "visibility": null,
            "align_self": null,
            "height": null,
            "min_height": null,
            "padding": null,
            "grid_auto_rows": null,
            "grid_gap": null,
            "max_width": null,
            "order": null,
            "_view_module_version": "1.2.0",
            "grid_template_areas": null,
            "object_position": null,
            "object_fit": null,
            "grid_auto_columns": null,
            "margin": null,
            "display": null,
            "left": null
          }
        },
        "6c2eb1bafb994f268e040ad710f99bb0": {
          "model_module": "@jupyter-widgets/controls",
          "model_name": "DescriptionStyleModel",
          "state": {
            "_view_name": "StyleView",
            "_model_name": "DescriptionStyleModel",
            "description_width": "",
            "_view_module": "@jupyter-widgets/base",
            "_model_module_version": "1.5.0",
            "_view_count": null,
            "_view_module_version": "1.2.0",
            "_model_module": "@jupyter-widgets/controls"
          }
        },
        "5061966ed45b43259e18cbfad6a0ed6b": {
          "model_module": "@jupyter-widgets/base",
          "model_name": "LayoutModel",
          "state": {
            "_view_name": "LayoutView",
            "grid_template_rows": null,
            "right": null,
            "justify_content": null,
            "_view_module": "@jupyter-widgets/base",
            "overflow": null,
            "_model_module_version": "1.2.0",
            "_view_count": null,
            "flex_flow": null,
            "width": null,
            "min_width": null,
            "border": null,
            "align_items": null,
            "bottom": null,
            "_model_module": "@jupyter-widgets/base",
            "top": null,
            "grid_column": null,
            "overflow_y": null,
            "overflow_x": null,
            "grid_auto_flow": null,
            "grid_area": null,
            "grid_template_columns": null,
            "flex": null,
            "_model_name": "LayoutModel",
            "justify_items": null,
            "grid_row": null,
            "max_height": null,
            "align_content": null,
            "visibility": null,
            "align_self": null,
            "height": null,
            "min_height": null,
            "padding": null,
            "grid_auto_rows": null,
            "grid_gap": null,
            "max_width": null,
            "order": null,
            "_view_module_version": "1.2.0",
            "grid_template_areas": null,
            "object_position": null,
            "object_fit": null,
            "grid_auto_columns": null,
            "margin": null,
            "display": null,
            "left": null
          }
        }
      }
    }
  },
  "cells": [
    {
      "cell_type": "markdown",
      "metadata": {
        "colab_type": "text",
        "id": "KwcZ3r_vMgGt"
      },
      "source": [
        "<center> <h1> OTGAN </h1> </center>\n",
        "\n",
        "\n",
        "Based on :\n",
        "\n",
        "[1] Tim Salimans, Han Zhang, Alec Radford, and Dimitris Metaxas. **Improving GANs using optimal\n",
        "transport.** In ICLR, 2018."
      ]
    },
    {
      "cell_type": "code",
      "metadata": {
        "colab_type": "code",
        "id": "AMQwFoyIMgGv",
        "colab": {
          "base_uri": "https://localhost:8080/",
          "height": 72
        },
        "outputId": "9835d9f3-f21b-458d-f6dc-9b9955ac5583"
      },
      "source": [
        "import numpy as np\n",
        "import matplotlib.pyplot as plt\n",
        "plt.rcParams['image.cmap'] = 'gray'\n",
        "import seaborn as sns \n",
        "sns.set(palette='gray')\n",
        "\n",
        "import os\n",
        "import argparse\n",
        "from datetime import datetime\n",
        "\n",
        "import torch\n",
        "import torchvision\n",
        "from torchvision import datasets, transforms\n",
        "import torch.nn as nn\n",
        "from torch import Tensor\n",
        "import torch.nn.functional as F\n",
        "import torch.optim as optim\n",
        "from torch.utils.data import DataLoader\n",
        "from torch.autograd import Variable\n",
        "from tqdm.auto import tqdm\n",
        "import pickle\n",
        "\n"
      ],
      "execution_count": 1,
      "outputs": [
        {
          "output_type": "stream",
          "text": [
            "/usr/local/lib/python3.6/dist-packages/statsmodels/tools/_testing.py:19: FutureWarning: pandas.util.testing is deprecated. Use the functions in the public API at pandas.testing instead.\n",
            "  import pandas.util.testing as tm\n"
          ],
          "name": "stderr"
        }
      ]
    },
    {
      "cell_type": "code",
      "metadata": {
        "colab_type": "code",
        "id": "T2WXzqsHMgG0",
        "colab": {}
      },
      "source": [
        "# path = \"C:/Users/Philo/Documents/3A -- ENSAE/Optimal transport/OTGAN\"\n",
        "# os.chdir(path)"
      ],
      "execution_count": 0,
      "outputs": []
    },
    {
      "cell_type": "markdown",
      "metadata": {
        "colab_type": "text",
        "id": "Yk-2d_i5MgG5"
      },
      "source": [
        "### Model parameters and hyperparameters"
      ]
    },
    {
      "cell_type": "code",
      "metadata": {
        "colab_type": "code",
        "id": "fIz-tJ9HMgG6",
        "colab": {}
      },
      "source": [
        "args={}\n",
        "kwargs={}\n",
        "args['batch_size']=128\n",
        "args['val_batch_size']=128\n",
        "args['n_epochs']=2\n",
        "\n",
        "# Use the same value as author's for CIFAR for Adam LR and beta values :\n",
        "args['lr']=3e-4\n",
        "args['beta1']= 0.5\n",
        "args['beta2']= 0.999\n",
        "\n",
        "\n",
        "args['seed']=1 #random seed\n",
        "args['cuda']=True if torch.cuda.is_available() else False\n",
        "device = \"cuda\" if args['cuda']==True else \"cpu\"\n",
        "\n",
        "\n",
        "args[\"n_gen\"] = 3 # number of generator updates per critic update (as in CIFAR's example)"
      ],
      "execution_count": 0,
      "outputs": []
    },
    {
      "cell_type": "code",
      "metadata": {
        "id": "wnasx2vI47bb",
        "colab_type": "code",
        "outputId": "f9a592f5-fd08-4079-d99e-b981a72c25ff",
        "colab": {
          "base_uri": "https://localhost:8080/",
          "height": 212
        }
      },
      "source": [
        "print ('parameters \\n')\n",
        "for key in args.keys():\n",
        "  print(key, args[key])"
      ],
      "execution_count": 4,
      "outputs": [
        {
          "output_type": "stream",
          "text": [
            "parameters \n",
            "\n",
            "batch_size 128\n",
            "val_batch_size 128\n",
            "n_epochs 2\n",
            "lr 0.0003\n",
            "beta1 0.5\n",
            "beta2 0.999\n",
            "seed 1\n",
            "cuda True\n",
            "n_gen 3\n"
          ],
          "name": "stdout"
        }
      ]
    },
    {
      "cell_type": "code",
      "metadata": {
        "colab_type": "code",
        "id": "tLWBAMwjMgG9",
        "outputId": "6d92edfa-a023-4c71-f5fd-3baa0fb5772f",
        "colab": {
          "base_uri": "https://localhost:8080/",
          "height": 35
        }
      },
      "source": [
        "# Random seeds\n",
        "np.random.seed(args['seed'])\n",
        "torch.random.manual_seed(args['seed']) #noGPU\n",
        "# torch.cuda.seed(args['seed']) #single GPU\n",
        "# torch.cuda.manual_seed_all(args['seed']) #several GPUs\n"
      ],
      "execution_count": 5,
      "outputs": [
        {
          "output_type": "execute_result",
          "data": {
            "text/plain": [
              "<torch._C.Generator at 0x7fe5b22a4770>"
            ]
          },
          "metadata": {
            "tags": []
          },
          "execution_count": 5
        }
      ]
    },
    {
      "cell_type": "code",
      "metadata": {
        "id": "6d2CVrs17LBD",
        "colab_type": "code",
        "outputId": "373b7258-d450-4e9e-8354-d1c5d73d94e9",
        "colab": {
          "base_uri": "https://localhost:8080/",
          "height": 126
        }
      },
      "source": [
        "#if using colab \n",
        "colab = True\n",
        "if colab:\n",
        "  from google.colab import drive\n",
        "  drive.mount('/content/drive')"
      ],
      "execution_count": 6,
      "outputs": [
        {
          "output_type": "stream",
          "text": [
            "Go to this URL in a browser: https://accounts.google.com/o/oauth2/auth?client_id=947318989803-6bn6qk8qdgf4n4g3pfee6491hc0brc4i.apps.googleusercontent.com&redirect_uri=urn%3aietf%3awg%3aoauth%3a2.0%3aoob&response_type=code&scope=email%20https%3a%2f%2fwww.googleapis.com%2fauth%2fdocs.test%20https%3a%2f%2fwww.googleapis.com%2fauth%2fdrive%20https%3a%2f%2fwww.googleapis.com%2fauth%2fdrive.photos.readonly%20https%3a%2f%2fwww.googleapis.com%2fauth%2fpeopleapi.readonly\n",
            "\n",
            "Enter your authorization code:\n",
            "··········\n",
            "Mounted at /content/drive\n"
          ],
          "name": "stdout"
        }
      ]
    },
    {
      "cell_type": "markdown",
      "metadata": {
        "colab_type": "text",
        "id": "JqBjN5zcMgHD"
      },
      "source": [
        "# Data preprocessing"
      ]
    },
    {
      "cell_type": "markdown",
      "metadata": {
        "colab_type": "text",
        "id": "icK2qFJVMgHE"
      },
      "source": [
        "##  MNIST dataset\n",
        "\n",
        "- Mnist (train set ) : 60000  gray images representing digits of size 28 x 28\n",
        "Usps  (train set ) \n",
        "- We normalize them by substracting the mean and the std"
      ]
    },
    {
      "cell_type": "code",
      "metadata": {
        "colab_type": "code",
        "id": "2zL9nDggMgHE",
        "colab": {}
      },
      "source": [
        "path_data = '/content/drive/My Drive/optimal_transport/data'  #where to download data\n",
        "path = '/content/drive/My Drive/optimal_transport/' #where to save pickle with trained model\n",
        "#path_data = '../data/MNIST'\n",
        "\n",
        "# Define dataset transformation\n",
        "transform = transforms.Compose([transforms.ToTensor(),\n",
        "                              transforms.Normalize((0.1307,), (0.3081,)) #use MNIST mean and std #A changer ?\n",
        "                              ])\n",
        "\n",
        "# ## Preliminary step : download dataset\n",
        "trainset = datasets.MNIST(root= path_data, download=True, train=True, transform=transform)\n",
        "# valset = datasets.MNIST('../data/MNIST', download=True, train=False, transform=transform)\n",
        "\n",
        "trainset = torchvision.datasets.MNIST(root=path_data, train=True, transform=transform)\n",
        "# valset = torchvision.datasets.MNIST('../data/MNIST', train=False, transform=transform)\n"
      ],
      "execution_count": 0,
      "outputs": []
    },
    {
      "cell_type": "code",
      "metadata": {
        "id": "JZ6FFp4a8MDg",
        "colab_type": "code",
        "outputId": "ee525ad6-1f24-4d64-c7de-eaf3b286c7dd",
        "colab": {
          "base_uri": "https://localhost:8080/",
          "height": 177
        }
      },
      "source": [
        "trainset"
      ],
      "execution_count": 8,
      "outputs": [
        {
          "output_type": "execute_result",
          "data": {
            "text/plain": [
              "Dataset MNIST\n",
              "    Number of datapoints: 60000\n",
              "    Root location: /content/drive/My Drive/optimal_transport/data\n",
              "    Split: Train\n",
              "    StandardTransform\n",
              "Transform: Compose(\n",
              "               ToTensor()\n",
              "               Normalize(mean=(0.1307,), std=(0.3081,))\n",
              "           )"
            ]
          },
          "metadata": {
            "tags": []
          },
          "execution_count": 8
        }
      ]
    },
    {
      "cell_type": "code",
      "metadata": {
        "colab_type": "code",
        "id": "0YgaNHH2MgHI",
        "outputId": "939f2ab0-2509-4521-ca78-21e86cbc9771",
        "colab": {
          "base_uri": "https://localhost:8080/",
          "height": 302
        }
      },
      "source": [
        "index = 10\n",
        "print(\"Size of the input image : \",trainset[index][0].size())\n",
        "plt.imshow(trainset[index][0].view(trainset[index][0].size()[1],trainset[index][0].size()[2]))\n",
        "plt.title(\"Initial image, Target label : \"+str(trainset[index][1]))\n",
        "plt.show()"
      ],
      "execution_count": 9,
      "outputs": [
        {
          "output_type": "stream",
          "text": [
            "Size of the input image :  torch.Size([1, 28, 28])\n"
          ],
          "name": "stdout"
        },
        {
          "output_type": "display_data",
          "data": {
            "image/png": "[encoded data removed]",
            "text/plain": [
              "<Figure size 432x288 with 1 Axes>"
            ]
          },
          "metadata": {
            "tags": [],
            "needs_background": "light"
          }
        }
      ]
    },
    {
      "cell_type": "markdown",
      "metadata": {
        "colab_type": "text",
        "id": "oGhkKfNIMgHN"
      },
      "source": [
        "### Train and validation loaders"
      ]
    },
    {
      "cell_type": "code",
      "metadata": {
        "colab_type": "code",
        "id": "N5QdU7veMgHP",
        "colab": {}
      },
      "source": [
        "train_loader = DataLoader(trainset, args['batch_size'], shuffle=True, **kwargs)\n",
        "# val_loader = DataLoader(valset, args['val_batch_size'], shuffle=True, **kwargs)"
      ],
      "execution_count": 0,
      "outputs": []
    },
    {
      "cell_type": "markdown",
      "metadata": {
        "colab_type": "text",
        "id": "XiNaT5ttMgHT"
      },
      "source": [
        "### pad the images or resize them  to obtain 32x32 images\n",
        "\n",
        "- We need to get images of this size to use the same architecture as in the article "
      ]
    },
    {
      "cell_type": "code",
      "metadata": {
        "colab_type": "code",
        "id": "W1UI1ssxMgHU",
        "colab": {}
      },
      "source": [
        "from torchvision.datasets import VisionDataset\n",
        "from torchvision import transforms"
      ],
      "execution_count": 0,
      "outputs": []
    },
    {
      "cell_type": "code",
      "metadata": {
        "colab_type": "code",
        "id": "Iy79J1aBMgHX",
        "colab": {}
      },
      "source": [
        "# check_black = [tup[0][0,0,0].item() for tup in trainset]+[tup[0][0,0,0].item() for tup in valset]\n",
        "# assert len(check_black) == len(trainset) + len(valset)\n",
        "# padding_val = list(set(check_black))[0]\n",
        "padding_val = trainset[0][0][0][0][0]\n",
        "resizing_val = 32"
      ],
      "execution_count": 0,
      "outputs": []
    },
    {
      "cell_type": "code",
      "metadata": {
        "id": "McPe-FtK2BaL",
        "colab_type": "code",
        "outputId": "aefc168c-747b-4076-9980-5ba46756e417",
        "colab": {
          "base_uri": "https://localhost:8080/",
          "height": 35
        }
      },
      "source": [
        "padding_val.item()"
      ],
      "execution_count": 13,
      "outputs": [
        {
          "output_type": "execute_result",
          "data": {
            "text/plain": [
              "-0.4242129623889923"
            ]
          },
          "metadata": {
            "tags": []
          },
          "execution_count": 13
        }
      ]
    },
    {
      "cell_type": "code",
      "metadata": {
        "colab_type": "code",
        "id": "gQA2xI6mMgHd",
        "colab": {}
      },
      "source": [
        "class MNISTPad(VisionDataset):\n",
        "    '''Class of dataset MNIST padded\n",
        "\n",
        "    Attributes\n",
        "    dataset : initial data set \n",
        "    rescaling_method : string : string \" either padding or resizing\n",
        "    padding : integer :value of padding if rescaling_method = padding\n",
        "    resize_shape: integer : value of resized image  if rescaling_method = 'resizing\n",
        "    '''\n",
        "\n",
        "    def __init__(self, dataset, rescaling_method = 'padding', padding=2, \n",
        "                 resize_shape=None):\n",
        "        self.images = [tup[0] for tup in dataset]\n",
        "        self.target = [tup[1] for tup in dataset]\n",
        "        self.rescaling_method = rescaling_method  \n",
        "        self.padding = padding \n",
        "        self.resize_shape = resize_shape \n",
        "        self.root = dataset \n",
        "        \n",
        "        # Check length of target and image match\n",
        "        assert len(self.images) == len(self.target)\n",
        "        \n",
        "    def __len__(self):\n",
        "        return len(self.images)\n",
        "\n",
        "    def __getitem__(self, index):\n",
        "        target = self.target[index]\n",
        "        img = self.images[index]\n",
        "        if self.rescaling_method == \"padding\":\n",
        "            img = F.pad(img, \n",
        "                        # utiliser l'étoile ? \n",
        "                        pad=(self.padding, self.padding, self.padding, self.padding),\n",
        "                        mode='constant', value=padding_val)\n",
        "        \n",
        "        if self.rescaling_method  == \"resizing\":\n",
        "            #TODO : add the resizing option instead of padding \n",
        "            self.transform = Compose([\n",
        "#                         transforms.ToPILImage(),\n",
        "                        transforms.Resize(self.resize_shape),\n",
        "                        transforms.ToTensor(),\n",
        "                        ])\n",
        "            img = self.transform(img)\n",
        "            \n",
        "        return img, target"
      ],
      "execution_count": 0,
      "outputs": []
    },
    {
      "cell_type": "code",
      "metadata": {
        "colab_type": "code",
        "id": "0-9SKgYKMgHn",
        "outputId": "34042676-8f95-4d16-c635-8bd03091d1f7",
        "colab": {
          "base_uri": "https://localhost:8080/",
          "height": 212
        }
      },
      "source": [
        "#trainset with padding images \n",
        "trainset_pad = MNISTPad(trainset, \"padding\", 2)\n",
        "trainset_pad"
      ],
      "execution_count": 15,
      "outputs": [
        {
          "output_type": "execute_result",
          "data": {
            "text/plain": [
              "Dataset MNISTPad\n",
              "    Number of datapoints: 60000\n",
              "    Root location: Dataset MNIST\n",
              "    Number of datapoints: 60000\n",
              "    Root location: /content/drive/My Drive/optimal_transport/data\n",
              "    Split: Train\n",
              "    StandardTransform\n",
              "Transform: Compose(\n",
              "               ToTensor()\n",
              "               Normalize(mean=(0.1307,), std=(0.3081,))\n",
              "           )"
            ]
          },
          "metadata": {
            "tags": []
          },
          "execution_count": 15
        }
      ]
    },
    {
      "cell_type": "code",
      "metadata": {
        "id": "vV51trWu2hWG",
        "colab_type": "code",
        "colab": {}
      },
      "source": [
        "# trainset_resized= MNISTPad(trainset, rescaling_method='resizing', resize_shape=32)"
      ],
      "execution_count": 0,
      "outputs": []
    },
    {
      "cell_type": "markdown",
      "metadata": {
        "id": "SwyY8hjBslxJ",
        "colab_type": "text"
      },
      "source": [
        "#### using the transforms\n"
      ]
    },
    {
      "cell_type": "code",
      "metadata": {
        "id": "HlbvpI9OstRd",
        "colab_type": "code",
        "colab": {}
      },
      "source": [
        "#padding_transform = transforms.Compose([\n",
        "                  #transforms.Pad(padding=2, fill=padding_val.item()), \n",
        "                    #transforms.Normalize((0.1307,), (0.3081,)), #cette ligne fait buguer le loader\n",
        "                    #transforms.ToTensor()])\n",
        "#trainset_pad= datasets.MNIST(root = path_data, download=True, train=True, transform=padding_transform )"
      ],
      "execution_count": 0,
      "outputs": []
    },
    {
      "cell_type": "code",
      "metadata": {
        "id": "WQvcEbfTtgsO",
        "colab_type": "code",
        "colab": {}
      },
      "source": [
        "#trainset_pad[0]"
      ],
      "execution_count": 0,
      "outputs": []
    },
    {
      "cell_type": "code",
      "metadata": {
        "id": "U2JLhzBH5zbd",
        "colab_type": "code",
        "colab": {}
      },
      "source": [
        "resized_transform = transforms.Compose([\n",
        "                    transforms.Resize(32), \n",
        "                    #transforms.Normalize((0.1307,), (0.3081,)), #cette ligne fait buguer le loader\n",
        "                    transforms.ToTensor()])\n",
        "trainset_resized = datasets.MNIST(root = path_data, download=True, train=True, transform=resized_transform )"
      ],
      "execution_count": 0,
      "outputs": []
    },
    {
      "cell_type": "code",
      "metadata": {
        "colab_type": "code",
        "id": "4Cu_v7dqMgHt",
        "colab": {}
      },
      "source": [
        "# valset_pad = MNISTPad(valset, \"padding\", 2)\n",
        "# valset_pad"
      ],
      "execution_count": 0,
      "outputs": []
    },
    {
      "cell_type": "markdown",
      "metadata": {
        "colab_type": "text",
        "id": "Kuv5LYKlMgH7"
      },
      "source": [
        "###New Train and validation loaders"
      ]
    },
    {
      "cell_type": "code",
      "metadata": {
        "colab_type": "code",
        "id": "SCmMyW9_MgH7",
        "colab": {}
      },
      "source": [
        "train_pad_loader = DataLoader(trainset_pad, args['batch_size'], shuffle=True, **kwargs)\n",
        "train_resized_loader = DataLoader(trainset_resized, args['batch_size'], shuffle=True, **kwargs)"
      ],
      "execution_count": 0,
      "outputs": []
    },
    {
      "cell_type": "code",
      "metadata": {
        "id": "LZHmNWEy_cSx",
        "colab_type": "code",
        "outputId": "9d8b8f63-f547-4b21-ef71-1af84b9dbcf9",
        "colab": {
          "base_uri": "https://localhost:8080/",
          "height": 52
        }
      },
      "source": [
        "dataiter_mnist_resized = iter(train_resized_loader)\n",
        "dataiter_mnist_pad = iter(train_pad_loader)\n",
        "images_mnist_resized, _ = dataiter_mnist_resized.next()\n",
        "images_mnist_pad, _ = dataiter_mnist_pad.next()\n",
        "print('mnist shape resized ', images_mnist_resized.shape) \n",
        "print('mnist shape padded ', images_mnist_pad.shape) \n"
      ],
      "execution_count": 22,
      "outputs": [
        {
          "output_type": "stream",
          "text": [
            "mnist shape resized  torch.Size([128, 1, 32, 32])\n",
            "mnist shape padded  torch.Size([128, 1, 32, 32])\n"
          ],
          "name": "stdout"
        }
      ]
    },
    {
      "cell_type": "code",
      "metadata": {
        "id": "1oGxVvNfJ_Or",
        "colab_type": "code",
        "outputId": "d46a9ed9-20cf-4381-bb48-0e9543a17df2",
        "colab": {
          "base_uri": "https://localhost:8080/",
          "height": 320
        }
      },
      "source": [
        "fig, ax = plt.subplots(1, 2, figsize=(10,5))\n",
        "ax[0].imshow(images_mnist_pad[0].numpy().squeeze())\n",
        "ax[0].set_title('padded image')\n",
        "ax[1].imshow(images_mnist_resized[0].numpy().squeeze())\n",
        "ax[1].set_title('resized image')\n",
        "plt.show()"
      ],
      "execution_count": 23,
      "outputs": [
        {
          "output_type": "display_data",
          "data": {
            "image/png": "[encoded data removed]",
            "text/plain": [
              "<Figure size 720x360 with 2 Axes>"
            ]
          },
          "metadata": {
            "tags": [],
            "needs_background": "light"
          }
        }
      ]
    },
    {
      "cell_type": "markdown",
      "metadata": {
        "colab_type": "text",
        "id": "jmbE4hehMgIA"
      },
      "source": [
        "## Create gaussian mixture 'images'"
      ]
    },
    {
      "cell_type": "code",
      "metadata": {
        "colab_type": "code",
        "id": "5NwkZgqtMgIB",
        "colab": {}
      },
      "source": [
        "def simulate_gaussian_mixture(cov_mixt_ratio, size_mixt, nb_modes = 8):\n",
        "    '''Simulate gaussian mixture with nb_modes modes arranges around the unit circle\n",
        "    Inputs :\n",
        "    cov_mixt_ratio : the ratio by which the identity is divided when defining the covariance matrix\n",
        "    size_mixt : the size of the vector for EACH gaussian. #number of points generated for each gaussian\n",
        "    nb_modes : the number of gaussiam  mixtures\n",
        "    Outputs : \n",
        "    a numpy array of dimension (size_mixt*nb_modes , 2)\n",
        "    '''\n",
        "    val = np.arange(0,2*np.pi,np.pi/(nb_modes/2)) \n",
        "    x_val = np.cos(val)\n",
        "    y_val = np.sin(val)\n",
        "    mixture = []\n",
        "    for i in range(len(val)):\n",
        "        mixture.append(np.random.multivariate_normal(mean = [x_val[i],y_val[i]], cov = np.identity(2)/cov_mixt_ratio, size = size_mixt))\n",
        "\n",
        "    mixture_vect = mixture[0]\n",
        "    for i in range(1,len(val)):\n",
        "        mixture_vect = np.concatenate([mixture_vect,mixture[i]])\n",
        "    return mixture_vect"
      ],
      "execution_count": 0,
      "outputs": []
    },
    {
      "cell_type": "code",
      "metadata": {
        "colab_type": "code",
        "id": "hhuCdA6bMgIE",
        "outputId": "be20ca3b-5b2c-44df-ebe9-4f7f3a2295c1",
        "colab": {
          "base_uri": "https://localhost:8080/",
          "height": 284
        }
      },
      "source": [
        "nb_modes = 8\n",
        "size_mixt = 100\n",
        "cov_mixt_ratio = 50 #aparent modes but not too separeted\n",
        "mixture_vect = simulate_gaussian_mixture(cov_mixt_ratio, size_mixt, nb_modes)\n",
        "plt.scatter(mixture_vect[:,0],mixture_vect[:,1])\n",
        "plt.title(\"Simulated gaussian mixture of size \"+str(nb_modes*size_mixt)+\" and variance of \"+str(1/cov_mixt_ratio))\n",
        "plt.show()"
      ],
      "execution_count": 25,
      "outputs": [
        {
          "output_type": "display_data",
          "data": {
            "image/png": "[encoded data removed]",
            "text/plain": [
              "<Figure size 432x288 with 1 Axes>"
            ]
          },
          "metadata": {
            "tags": [],
            "needs_background": "light"
          }
        }
      ]
    },
    {
      "cell_type": "markdown",
      "metadata": {
        "colab_type": "text",
        "id": "wMV3PUNIMgII"
      },
      "source": [
        "The simulated gaussian mixtures need to be converted to an image. "
      ]
    },
    {
      "cell_type": "code",
      "metadata": {
        "colab_type": "code",
        "id": "-q-IlJgsMgIJ",
        "colab": {}
      },
      "source": [
        "def array_to_img(array, img_size, return_normalized = False):\n",
        "    \"\"\"Function\n",
        "    array : an array of dimension Kx2\n",
        "    img_size : the dimension of the (squared) image obtained\n",
        "    return_normalized : also return the normalized array (for comparison)\n",
        "    \"\"\"\n",
        "    mixture_norm = array+np.abs(np.min(array))\n",
        "    mixture_norm = mixture_norm/(np.max(mixture_norm)-np.min(mixture_norm))\n",
        "    round_array = np.round(mixture_norm*(img_size-1))\n",
        "    gauss_img = np.zeros((img_size,img_size))\n",
        "    for i in range(round_array.shape[0]):\n",
        "        gauss_img[int(round_array[i,:][0]),int(round_array[i,:][1])] = 255\n",
        "    if return_normalized == False :\n",
        "        return gauss_img\n",
        "    else :\n",
        "        return gauss_img, mixture_norm"
      ],
      "execution_count": 0,
      "outputs": []
    },
    {
      "cell_type": "code",
      "metadata": {
        "colab_type": "code",
        "id": "A-iDi80tMgIM",
        "outputId": "00fe60d8-b400-4395-cd2f-372252af1e0c",
        "colab": {
          "base_uri": "https://localhost:8080/",
          "height": 447
        }
      },
      "source": [
        "img_size = 32\n",
        "gauss_img, mixture_norm = array_to_img(mixture_vect, img_size, return_normalized = True)\n",
        "\n",
        "fig, ax = plt.subplots(1,2, figsize=(15,7))\n",
        "ax[0].scatter(mixture_norm[:,0],mixture_norm[:,1])\n",
        "ax[0].set_title('Normalized array')\n",
        "ax[1].imshow(gauss_img, cmap=plt.cm.gray)\n",
        "ax[1].set_title('Square image of size '+str(img_size))\n",
        "plt.show()"
      ],
      "execution_count": 27,
      "outputs": [
        {
          "output_type": "display_data",
          "data": {
            "image/png": "[encoded data removed]",
            "text/plain": [
              "<Figure size 1080x504 with 2 Axes>"
            ]
          },
          "metadata": {
            "tags": [],
            "needs_background": "light"
          }
        }
      ]
    },
    {
      "cell_type": "code",
      "metadata": {
        "colab_type": "code",
        "id": "g0FcAj1CMgIP",
        "colab": {}
      },
      "source": [
        "class GaussianMixtureDB(VisionDataset):\n",
        "    '''Class with gaussian mixture data'''\n",
        "    def __init__(self, dataset):\n",
        "        self.images = dataset\n",
        "        self.target = [0 for i in range(len(dataset))]\n",
        "        self.root = \"add/pickle/location\"\n",
        "        \n",
        "        # Check length of target and image match\n",
        "        assert len(self.images) == len(self.target)\n",
        "        \n",
        "    def __len__(self):\n",
        "        return len(self.images)\n",
        "\n",
        "    def __getitem__(self, index):\n",
        "        target = self.target[index]\n",
        "        img = self.images[index]\n",
        "            \n",
        "        return img, target"
      ],
      "execution_count": 0,
      "outputs": []
    },
    {
      "cell_type": "code",
      "metadata": {
        "colab_type": "code",
        "id": "QQudyXOAMgIU",
        "colab": {}
      },
      "source": [
        "size_GaussianMixtureDB = 20*args[\"batch_size\"]\n",
        "GaussianMixture_array = [simulate_gaussian_mixture(cov_mixt_ratio, size_mixt, nb_modes) for i in range(size_GaussianMixtureDB)]\n",
        "GaussianMixture_imgs = [array_to_img(array, img_size, return_normalized = False) for array in GaussianMixture_array]\n",
        "GaussianMixture_trainset = GaussianMixtureDB(GaussianMixture_imgs)\n",
        "GaussianMixture_loader = DataLoader(GaussianMixture_trainset, args['batch_size'], shuffle=True, **kwargs)"
      ],
      "execution_count": 0,
      "outputs": []
    },
    {
      "cell_type": "code",
      "metadata": {
        "colab_type": "code",
        "id": "PfcoDdB7MgIa",
        "outputId": "29646e7e-c2d8-4645-b667-7ec7b2a56fbb",
        "colab": {
          "base_uri": "https://localhost:8080/",
          "height": 70
        }
      },
      "source": [
        "GaussianMixture_trainset"
      ],
      "execution_count": 30,
      "outputs": [
        {
          "output_type": "execute_result",
          "data": {
            "text/plain": [
              "Dataset GaussianMixtureDB\n",
              "    Number of datapoints: 2560\n",
              "    Root location: add/pickle/location"
            ]
          },
          "metadata": {
            "tags": []
          },
          "execution_count": 30
        }
      ]
    },
    {
      "cell_type": "code",
      "metadata": {
        "colab_type": "code",
        "id": "NBHAnFHZMgIh",
        "colab": {}
      },
      "source": [
        "try :\n",
        "    del GaussianMixture_array\n",
        "#     del GaussianMixture_imgs\n",
        "except :\n",
        "    print(\"deleted\")"
      ],
      "execution_count": 0,
      "outputs": []
    },
    {
      "cell_type": "markdown",
      "metadata": {
        "id": "4njOGv1UAup4",
        "colab_type": "text"
      },
      "source": [
        "# Build the GAN "
      ]
    },
    {
      "cell_type": "markdown",
      "metadata": {
        "colab_type": "text",
        "id": "Co_d2YAwMgIk"
      },
      "source": [
        "## Generator"
      ]
    },
    {
      "cell_type": "markdown",
      "metadata": {
        "colab_type": "text",
        "id": "Ax-nUFABMgIk"
      },
      "source": [
        "### Define Generator's architecture \n",
        "See Table 3 of [1]\n",
        "\n",
        "As showed in the article for the CIFAR dataset : we use a $Uniform([-1,1])$ to generate noise\n",
        "\n",
        "**Note** : We consider 3 dimensions for the 32x32 image, but we could have considered only one (greyscale image)"
      ]
    },
    {
      "cell_type": "code",
      "metadata": {
        "colab_type": "code",
        "id": "XU4TOY3sMgIl",
        "colab": {}
      },
      "source": [
        "class _UpBlock_Generator(nn.Module):\n",
        "    '''\n",
        "    Class used in the Generator architecture\n",
        "    Defines the 2xNN upsample, convolution and GLU for a given input size in_channels\n",
        "    Input size : [bs, in_channels, n, n]\n",
        "    Output size : [bs, in_channels/2, 2*n, 2*n]\n",
        "    '''\n",
        "    def __init__(self, in_channels):\n",
        "        super().__init__()\n",
        "        self.conv = nn.Conv2d(in_channels = 2*in_channels, out_channels = 2*in_channels, \n",
        "                              kernel_size = 5, padding=2, stride = 1)\n",
        "        #in_channels = 2*initial dimension because NN upsampler multiplies by 2 height and width\n",
        "\n",
        "    def forward(self, x: Tensor) -> Tensor:\n",
        "        x =  F.interpolate(x, scale_factor=(2,2), mode = \"nearest\") #multiplies by 2\n",
        "        x = self.conv(x)\n",
        "        x = F.glu(x,dim=1) #GLU activation devides by 2 the number of channels\n",
        "        return x"
      ],
      "execution_count": 0,
      "outputs": []
    },
    {
      "cell_type": "code",
      "metadata": {
        "colab_type": "code",
        "id": "ew5Nk2gLMgIo",
        "colab": {}
      },
      "source": [
        "class Generator32x32(nn.Module):\n",
        "    '''Class defining the Generator with the same architecture as used by Salimans. et al. for the CIFAR dataset\n",
        "    Input : \n",
        "    input_dim : dimension of the noise z\n",
        "    out_channels : number of colour channel (1 by default for greyscale images)\n",
        "    \n",
        "    '''\n",
        "    def __init__(self, input_dim: int=100, out_channels = 1):\n",
        "        super(Generator32x32, self).__init__()\n",
        "        self.linear = nn.Linear(in_features=input_dim, out_features=32768)\n",
        "        #need to define out features = 2*16384 because glu devides by 2 the number of units\n",
        "        self.up1 = _UpBlock_Generator(512) ###Pas bizarre de mettre un padding de 2?? \n",
        "        self.up2 = _UpBlock_Generator(256)\n",
        "        self.up3 = _UpBlock_Generator(128)\n",
        "        self.last_conv = nn.Conv2d(in_channels = 128, out_channels = out_channels, kernel_size = 5, padding=2, stride = 1)\n",
        "    \n",
        "    def generate_noise(self, bs, k=100):\n",
        "        ''' Generate noise with dimension [bs, k] following a Uniform([-1,1])'''\n",
        "        z = (torch.rand([bs, k], requires_grad = True)*2)-1\n",
        "        return z\n",
        "    \n",
        "    def forward(self, x: Tensor):\n",
        "        bs = x.size()[0]\n",
        "        ## Linear layer and reshape\n",
        "        x1 = self.linear(x) \n",
        "        x1_a = F.glu(x1) \n",
        "        assert x1_a.size() == (bs, 16384)\n",
        "        x2 = x1_a.reshape(bs,1024,4,4) # size [bs, 1024, 4, 4] \n",
        "        assert x2.size() == (bs, 1024, 4, 4)\n",
        "        ## Up blocks : upsample, convolution and GLU\n",
        "        x3 =  self.up1(x2) # size [bs, 512, 8, 8]\n",
        "        assert x3.size() == (bs, 512, 8, 8)\n",
        "        x4 =  self.up2(x3) # size [bs, 256, 16, 16]\n",
        "        assert x4.size() == (bs, 256, 16, 16)\n",
        "        x5 =  self.up3(x4) # size [bs, 128, 32, 32]\n",
        "        assert x5.size() == (bs, 128, 32, 32)\n",
        "        \n",
        "        ## last convolution and activation\n",
        "        x6 = self.last_conv(x5) # size [bs, 1, 32, 32]\n",
        "        x7 = torch.tanh(x6) \n",
        "        out = x7 # size [bs, 1, 32, 32]\n",
        "        assert out.size() == (bs, 1, 32, 32)\n",
        "        return out "
      ],
      "execution_count": 0,
      "outputs": []
    },
    {
      "cell_type": "markdown",
      "metadata": {
        "id": "lhOXRD8FWTgg",
        "colab_type": "text"
      },
      "source": [
        "#### New architecure\n",
        "\n",
        "<a href = 'https://medium.com/intel-student-ambassadors/mnist-gan-detailed-step-by-step-explanation-implementation-in-code-ecc93b22dc60'> architecture found here </a>"
      ]
    },
    {
      "cell_type": "code",
      "metadata": {
        "id": "s-YxC_w-WXAw",
        "colab_type": "code",
        "colab": {}
      },
      "source": [
        "class Generator(nn.Module):\n",
        "    def __init__(self, input_size=100, hidden_dim=32, output_size=784):\n",
        "      super(Generator, self).__init__()\n",
        "      \n",
        "      # 1\n",
        "      self.fc1 = nn.Linear(input_size, hidden_dim)\n",
        "      self.fc2 = nn.Linear(hidden_dim, hidden_dim*2)\n",
        "      self.fc3 = nn.Linear(hidden_dim*2, hidden_dim*4)\n",
        "      \n",
        "      # 2\n",
        "      self.fc4 = nn.Linear(hidden_dim*4, output_size)\n",
        "    \n",
        "      # 3\n",
        "      self.dropout = nn.Dropout(0.3)\n",
        "\n",
        "    def generate_noise(self, bs, k=100):\n",
        "        ''' Generate noise with dimension [bs, k] following a Uniform([-1,1])'''\n",
        "        z = (torch.rand([bs, k], requires_grad = True)*2)-1\n",
        "        return z\n",
        "\n",
        "    def forward(self, x):\n",
        "      # 4\n",
        "      x = F.leaky_relu(self.fc1(x), 0.2) # (input, negative_slope=0.2)\n",
        "      x = self.dropout(x)\n",
        "      x = F.leaky_relu(self.fc2(x), 0.2)\n",
        "      x = self.dropout(x)\n",
        "      x = F.leaky_relu(self.fc3(x), 0.2)\n",
        "      x = self.dropout(x)\n",
        "      # 5\n",
        "      out = F.tanh(self.fc4(x))\n",
        "      return out"
      ],
      "execution_count": 0,
      "outputs": []
    },
    {
      "cell_type": "code",
      "metadata": {
        "id": "2xfjJSHdXF90",
        "colab_type": "code",
        "outputId": "4adc29d8-1cf5-49d5-887d-07f95ba79469",
        "colab": {
          "base_uri": "https://localhost:8080/",
          "height": 52
        }
      },
      "source": [
        "generator = Generator()\n",
        "z = generator.generate_noise(bs = 128, k = 100)\n",
        "out = generator(z)\n"
      ],
      "execution_count": 35,
      "outputs": [
        {
          "output_type": "stream",
          "text": [
            "/usr/local/lib/python3.6/dist-packages/torch/nn/functional.py:1558: UserWarning: nn.functional.tanh is deprecated. Use torch.tanh instead.\n",
            "  warnings.warn(\"nn.functional.tanh is deprecated. Use torch.tanh instead.\")\n"
          ],
          "name": "stderr"
        }
      ]
    },
    {
      "cell_type": "markdown",
      "metadata": {
        "colab_type": "text",
        "id": "klwrrhvSMgIr"
      },
      "source": [
        "### Generate noise "
      ]
    },
    {
      "cell_type": "code",
      "metadata": {
        "colab_type": "code",
        "id": "0bE8NnS5MgIr",
        "colab": {}
      },
      "source": [
        "# Initialize random seed\n",
        "torch.random.manual_seed(args['seed'])\n",
        "\n",
        "# Define generator model\n",
        "generate = Generator32x32()"
      ],
      "execution_count": 0,
      "outputs": []
    },
    {
      "cell_type": "code",
      "metadata": {
        "colab_type": "code",
        "id": "GlcSP-TaMgIu",
        "outputId": "ef6e239b-df48-4fd4-a55f-bbb38d2c4c0f",
        "colab": {
          "base_uri": "https://localhost:8080/",
          "height": 304
        }
      },
      "source": [
        "# Generate noise of given batch size\n",
        "k=100\n",
        "# z = generate.generate_noise(bs = args[\"batch_size\"], k = k)\n",
        "z = generate.generate_noise(bs = 1, k = k)\n",
        "print('noize shape', z.size())\n",
        "\n",
        "\n",
        "# Scatter one example of noise\n",
        "plt.scatter(range(k),z[0].detach())\n",
        "plt.title(\"Noise following a $Uniform([-1,1])$ of size \"+str(k))\n",
        "plt.show()"
      ],
      "execution_count": 37,
      "outputs": [
        {
          "output_type": "stream",
          "text": [
            "noize shape torch.Size([1, 100])\n"
          ],
          "name": "stdout"
        },
        {
          "output_type": "display_data",
          "data": {
            "image/png": "[encoded data removed]",
            "text/plain": [
              "<Figure size 432x288 with 1 Axes>"
            ]
          },
          "metadata": {
            "tags": [],
            "needs_background": "light"
          }
        }
      ]
    },
    {
      "cell_type": "code",
      "metadata": {
        "colab_type": "code",
        "id": "kbQQwJZ8MgIz",
        "outputId": "4e308698-fa7f-4896-ef08-db350593b6fc",
        "scrolled": true,
        "colab": {
          "base_uri": "https://localhost:8080/",
          "height": 52
        }
      },
      "source": [
        "# Test the output of the generator network\n",
        "z = generate.generate_noise(bs = 10, k = k)\n",
        "print(z.size())\n",
        "generator_output = generate(z)\n",
        "print(\"Output size : \",generator_output.size())\n",
        "#print(generator_output)"
      ],
      "execution_count": 38,
      "outputs": [
        {
          "output_type": "stream",
          "text": [
            "torch.Size([10, 100])\n",
            "Output size :  torch.Size([10, 1, 32, 32])\n"
          ],
          "name": "stdout"
        }
      ]
    },
    {
      "cell_type": "markdown",
      "metadata": {
        "colab_type": "text",
        "id": "Kt3FgyeGMgJG"
      },
      "source": [
        "## Critic / Discriminator"
      ]
    },
    {
      "cell_type": "markdown",
      "metadata": {
        "colab_type": "text",
        "id": "SqEUcbL7MgJG"
      },
      "source": [
        "### Define critic architecture\n",
        "See Table 4 of [1]\n",
        "\n",
        "- Concatenated ReLU has two outputs, one ReLU and one negative ReLU, concatenated together. In other words, for an input vector x, CRelu(x) =$[(x)_+ ; (-x)_+] = [Relu(x);Relu(-x)]$. Because it has two outputs, CReLU doubles the output dimension.\n",
        "\n"
      ]
    },
    {
      "cell_type": "code",
      "metadata": {
        "colab_type": "code",
        "id": "Y88rOzVuMgJH",
        "colab": {}
      },
      "source": [
        "class _DownBlock_Critic(nn.Module):\n",
        "    '''\n",
        "    Class used in the Critic architecture\n",
        "    Defines the convolution and CReLU \n",
        "    Input size : [bs, in_channels, n, n]\n",
        "    Output size : [bs, in_channels*2, n/2, n/2]\n",
        "    Inputs : \n",
        "    in_channels : int\n",
        "    '''\n",
        "    def __init__(self, in_channels):\n",
        "        super().__init__()\n",
        "        self.relu = nn.ReLU()\n",
        "        self.conv = nn.Conv2d(in_channels = in_channels, out_channels = in_channels, \n",
        "                              kernel_size = 5, padding=2, stride = 2)\n",
        "\n",
        "    def forward(self, x: Tensor) -> Tensor:\n",
        "        x =  self.conv(x) \n",
        "        x = torch.cat((self.relu(x),self.relu(-x)),dim=1) #doubles the outpout dimension\n",
        "        return x"
      ],
      "execution_count": 0,
      "outputs": []
    },
    {
      "cell_type": "code",
      "metadata": {
        "colab_type": "code",
        "id": "S0bOi9CmMgJL",
        "colab": {}
      },
      "source": [
        "class Critic32x32(nn.Module):\n",
        "    '''Class defining the critic with the same architecture as used by Salimans. et al. for the CIFAR dataset\n",
        "    Input : \n",
        "    nb_channels : number of channels in the image (in particular, 1 or 3 ?)\n",
        "    \n",
        "    '''\n",
        "    def __init__(self, nb_channels: int=1):\n",
        "        super(Critic32x32, self).__init__()\n",
        "        self.relu=nn.ReLU()\n",
        "        self.init_conv = nn.Conv2d(in_channels = nb_channels, \n",
        "        out_channels = 128, kernel_size = 5, padding = 2, stride = 1) #? \n",
        "        self.down1 = _DownBlock_Critic(256)\n",
        "        self.down2 = _DownBlock_Critic(512)\n",
        "        self.down3 = _DownBlock_Critic(1024)\n",
        "        \n",
        "        \n",
        "    def forward(self, x: Tensor):\n",
        "        bs = x.size()[0]\n",
        "        ## Initial convolution and CReLU\n",
        "        x1 = self.init_conv(x) # size [bs, 128, 32, 32]\n",
        "        assert x1.size() == (bs, 128, 32, 32)\n",
        "        x2 = torch.cat((self.relu(x1),self.relu(-x1)),dim=1) #size [bs, 256, 32, 32]\n",
        "        assert x2.size() == (bs, 256, 32, 32)\n",
        "        ## Apply down block three times\n",
        "        x3 = self.down1(x2) # size [bs, 512, 16, 16]\n",
        "        assert x3.size() == (bs,  512, 16, 16)\n",
        "        x4 = self.down2(x3) # size [bs, 1024, 8, 8]\n",
        "        assert x4.size() == (bs, 1024, 8, 8)\n",
        "        x5 = self.down3(x4) # size [bs, 2048, 4, 4]\n",
        "        assert x5.size() == (bs, 2048, 4, 4)\n",
        "        ## Reshaping and l2 normalization\n",
        "        x5_reshape = x5.reshape(bs, 32768) # size [bs, 32768]\n",
        "        assert x5_reshape.size() == (bs, 32768)\n",
        "#         x5_norm = (torch.norm(x5_reshape, p=2, dim=1)+1e-10).view(bs,1) # size [1, bs]\n",
        "        x5_norm = (torch.norm(x5_reshape, p=2, dim=1)).view(bs,1) # size [1, bs] #l2 normalization\n",
        "        assert x5_norm.size() == (bs, 1)\n",
        "        out = x5_reshape/(x5_norm) # size [bs, 32768]\n",
        "        assert out.size() == (bs, 32768)\n",
        "        return out"
      ],
      "execution_count": 0,
      "outputs": []
    },
    {
      "cell_type": "code",
      "metadata": {
        "colab_type": "code",
        "id": "SGNUw-cSMgJP",
        "outputId": "9ee86f59-08ca-4a7a-b9e8-884a92dc5bb4",
        "colab": {
          "base_uri": "https://localhost:8080/",
          "height": 266
        }
      },
      "source": [
        "# Test with the first batch images from train_pad_loader\n",
        "iterator = enumerate(train_pad_loader)\n",
        "batch_idx, (imgs, targets) = next(iter(iterator))\n",
        "critic = Critic32x32(nb_channels=1)\n",
        "critic_output = critic(imgs)\n",
        "print(\"Critic output size : \",critic_output.size())\n",
        "print(critic_output)\n"
      ],
      "execution_count": 41,
      "outputs": [
        {
          "output_type": "stream",
          "text": [
            "Critic output size :  torch.Size([128, 32768])\n",
            "tensor([[0.0000e+00, 0.0000e+00, 0.0000e+00,  ..., 0.0000e+00, 0.0000e+00,\n",
            "         7.2839e-03],\n",
            "        [0.0000e+00, 0.0000e+00, 0.0000e+00,  ..., 0.0000e+00, 1.1188e-02,\n",
            "         7.1388e-03],\n",
            "        [0.0000e+00, 0.0000e+00, 2.6514e-05,  ..., 0.0000e+00, 8.9717e-03,\n",
            "         6.3402e-03],\n",
            "        ...,\n",
            "        [0.0000e+00, 0.0000e+00, 0.0000e+00,  ..., 1.0327e-04, 6.7771e-03,\n",
            "         5.6003e-03],\n",
            "        [0.0000e+00, 0.0000e+00, 0.0000e+00,  ..., 0.0000e+00, 1.5012e-02,\n",
            "         1.3495e-03],\n",
            "        [0.0000e+00, 0.0000e+00, 0.0000e+00,  ..., 0.0000e+00, 7.1284e-03,\n",
            "         0.0000e+00]], grad_fn=<DivBackward0>)\n"
          ],
          "name": "stdout"
        }
      ]
    },
    {
      "cell_type": "markdown",
      "metadata": {
        "id": "wF_xJjQwTfDe",
        "colab_type": "text"
      },
      "source": [
        "#### New architecture"
      ]
    },
    {
      "cell_type": "code",
      "metadata": {
        "id": "pExEvGOQRw0K",
        "colab_type": "code",
        "colab": {}
      },
      "source": [
        "class Discriminator(nn.Module):\n",
        "    def __init__(self, input_size=784, hidden_dim=32, output_size=1):\n",
        "      super(Discriminator, self).__init__()\n",
        "      \n",
        "      # 1\n",
        "      self.fc1 = nn.Linear(input_size, hidden_dim*4)\n",
        "      self.fc2 = nn.Linear(hidden_dim*4, hidden_dim*2)\n",
        "      self.fc3 = nn.Linear(hidden_dim*2, hidden_dim)\n",
        "      \n",
        "      # 2\n",
        "      self.fc4 = nn.Linear(hidden_dim, output_size)\n",
        "      \n",
        "      # dropout layer \n",
        "      self.dropout = nn.Dropout(0.3)\n",
        "      \n",
        "      \n",
        "    def forward(self, x: Tensor):\n",
        "      #3 \n",
        "      x = x.view(-1, 28*28)\n",
        "      #4 \n",
        "      x = F.leaky_relu(self.fc1(x), 0.2) # (input, negative_slope=0.2)\n",
        "      x = self.dropout(x)\n",
        "      x = F.leaky_relu(self.fc2(x), 0.2)\n",
        "      x = self.dropout(x)\n",
        "      x = F.leaky_relu(self.fc3(x), 0.2)\n",
        "      x = self.dropout(x)\n",
        "      # 5\n",
        "      out = self.fc4(x)\n",
        "      return out"
      ],
      "execution_count": 0,
      "outputs": []
    },
    {
      "cell_type": "code",
      "metadata": {
        "id": "q1byP_hiUFn1",
        "colab_type": "code",
        "outputId": "926e0b21-a9b9-46c9-dacd-d515cbfdec60",
        "colab": {
          "base_uri": "https://localhost:8080/",
          "height": 35
        }
      },
      "source": [
        "iter_X = iter(train_loader)\n",
        "img, _ = iter_X.next()\n",
        "img.size()\n",
        "img.view(-1, 28*28).size()"
      ],
      "execution_count": 43,
      "outputs": [
        {
          "output_type": "execute_result",
          "data": {
            "text/plain": [
              "torch.Size([128, 784])"
            ]
          },
          "metadata": {
            "tags": []
          },
          "execution_count": 43
        }
      ]
    },
    {
      "cell_type": "code",
      "metadata": {
        "id": "CTsWVZjrUFlC",
        "colab_type": "code",
        "colab": {}
      },
      "source": [
        "disc = Discriminator()\n",
        "out = disc(img)"
      ],
      "execution_count": 0,
      "outputs": []
    },
    {
      "cell_type": "code",
      "metadata": {
        "id": "exbT2OHCUFh-",
        "colab_type": "code",
        "colab": {}
      },
      "source": [
        ""
      ],
      "execution_count": 0,
      "outputs": []
    },
    {
      "cell_type": "markdown",
      "metadata": {
        "id": "KcqTXT7E1JJ7",
        "colab_type": "text"
      },
      "source": [
        "# Training\n",
        "\n",
        "- We use the algorithm 1 of [1]\n",
        "- The loss is a combination of optimal transport theory (with the sinkhorn distance ) and of an energy distance . It's called : Mini batch energy distance  and is defined as : \n",
        "$$\\mathcal{L} = \\mathcal{W}_c(X, Y) + \\mathcal{W}_c(X, Y') + \\mathcal{W}_c(X', Y) + \\mathcal{W}_c(X', Y') - 2\\mathcal{W}_c(X, X') - 2\\mathcal{W}_c(Y, Y')$$\n",
        "Where X and X' are independant batches of real images and Y and Y' are independant batches of fake images i.e generated by the generator.\n",
        "$\\mathcal{W}_c(X, Y)$ is the sinkhorn distance defined in equation (5) . Or as we described it in class : \n",
        "$$\n",
        " \\mathcal{W}_c(X, Y) =    \\min_{P \\in   \\mathcal{M}  }\\langle C, P \\rangle + \\epsilon \\sum_{ij} P_{ij} [ \\log(P_{ij}) - 1].\n",
        "$$\n",
        "- where $C \\in \\mathbb{R}^{K \\times K}$ is the cost matrix between each vector of batches X and Y. (K vectors per batch). It will be define by the cosine distance \n",
        "- $\\epsilon$ is the minimum entropy required for the coupling P \n",
        "- $\\mathcal{M}$  is the set of all couplings ie all the columns and rows of P must sum to 1. In class we had the set $\\mathcal{U}(a,b)$. Here a and b $\\in \\mathbb{R}^K$ and $\\forall i =1 \\dots K, a_i = b_i = 1$"
      ]
    },
    {
      "cell_type": "markdown",
      "metadata": {
        "colab_type": "text",
        "id": "vSHVKodWMgJU"
      },
      "source": [
        "## Sinkhorn minibatch distance\n",
        "\n",
        "Pytorch implementation : https://github.com/dfdazac/wassdistance/blob/master/layers.py\n"
      ]
    },
    {
      "cell_type": "markdown",
      "metadata": {
        "colab_type": "text",
        "id": "fURmUbL6MgJW"
      },
      "source": [
        "##### <span style=\"color:red\"> Question : normalize C ? (cf TP : divide by max value) : Inside or outside of the function ?? \n",
        "##### <span style=\"color:red\"> TODO : verify dimensions, verify the end\n",
        "##### /!\\ No need to propagate gradients for the sinkhorn distance : use detach or torch.no_grad ?? -> torch.no_grad to continue the propagation once the distance has been computed ? "
      ]
    },
    {
      "cell_type": "code",
      "metadata": {
        "colab_type": "code",
        "id": "g1E0sGiyMgJX",
        "colab": {}
      },
      "source": [
        "def sinkhorn_distance(C, epsilon=500, max_iters=500, a = \"default\", b = \"default\", detach = True, device = device):\n",
        "    \"\"\"Sinkhorn's distance\n",
        "    Inputs : \n",
        "    C the cost matrix (a torch tensor) of size K x K between batch X (K images) and batch Y (K images)\n",
        "    epsilon : the regularization parameter of the Entropy-regularized Optimal Transport problem\n",
        "    default value = 500 as in the article\n",
        "    max_iters : number of iterations for the Sinkhorn's algorithm\n",
        "    a : either \"default\" (then a will be initialized to a vector full of 1s) or a torch tensor\n",
        "    b : either \"default\" (then a will be initialized to a vector full of 1s) or a torch tensor\n",
        "    \n",
        "    Output : the Sinkhorn distance between minibatch vectors X and Y\n",
        "    \"\"\"\n",
        "  \n",
        "\n",
        "#     n = C.shape[0]\n",
        "    # Note : in our case we should have m = n (= K in the article's notations) if minibatches are of identical size\n",
        "    n = C.size()[0]\n",
        "    m = C.size()[1]\n",
        "    \n",
        "    ## Initialize a and b if necessary\n",
        "    if a == \"default\":\n",
        "#         a = np.ones(n)\n",
        "        a = torch.ones([n], dtype=torch.float64)\n",
        "    if b == \"default\":\n",
        "#         b = np.ones(n)\n",
        "        b = torch.ones([m], dtype=torch.float64)\n",
        "    \n",
        "    a = a.to(device)\n",
        "    b = b.to(device)\n",
        "\n",
        "    if detach == True :\n",
        "        ## Stop gradient propagation during the computation of the distance\n",
        "        with torch.no_grad():\n",
        "\n",
        "            ## Compute the kernel matrix K\n",
        "        #     K = np.exp(-C/epsilon)\n",
        "            K = torch.exp(-C/epsilon)\n",
        "\n",
        "            ## Alternate projections\n",
        "        #     v = np.ones(b.shape[0])\n",
        "            v = torch.ones([b.size()[0]])\n",
        "            for _ in range(max_iters):\n",
        "        #         u = a / K.dot(v)\n",
        "        #         v = b / K.T.dot(u)\n",
        "                u = a / torch.matmul(K.double(),v.double())\n",
        "                v = b / torch.matmul(torch.transpose(K,0,1).double(),u.double())\n",
        "\n",
        "            ## Compute the matching matrix\n",
        "        #     M = np.diag(u).dot(K).dot(np.diag(v))\n",
        "            M = torch.matmul(torch.matmul(torch.diag(u),K.double()),torch.diag(v))\n",
        "            return torch.sum(M*C)\n",
        "    else :\n",
        "    ## Compute the kernel matrix K\n",
        "    #     K = np.exp(-C/epsilon)\n",
        "        K = torch.exp(-C/epsilon)\n",
        "\n",
        "        ## Alternate projections\n",
        "    #     v = np.ones(b.shape[0])\n",
        "        v = torch.ones([b.size()[0]])\n",
        "        v = v.to(device)\n",
        "\n",
        "        for _ in range(max_iters):\n",
        "    #         u = a / K.dot(v)\n",
        "    #         v = b / K.T.dot(u)\n",
        "            u = a / torch.matmul(K.double(),v.double())\n",
        "            v = b / torch.matmul(torch.transpose(K,0,1).double(),u.double())\n",
        "\n",
        "        ## Compute the matching matrix\n",
        "    #     M = np.diag(u).dot(K).dot(np.diag(v))\n",
        "        M = torch.matmul(torch.matmul(torch.diag(u),K.double()),torch.diag(v))\n",
        "        return torch.sum(M*C)"
      ],
      "execution_count": 0,
      "outputs": []
    },
    {
      "cell_type": "markdown",
      "metadata": {
        "colab_type": "text",
        "id": "08vR7Q_VMgJh"
      },
      "source": [
        "### Cosine distance\n",
        "In order to compare our algorithm when the transportation cost is adversarially learned, we compare with the cosine distance. \n",
        "\n",
        "According to article [1] section 4: \n",
        "$$c_\\eta(x, y) = 1 - \\frac{v_\\eta(x). v_\\eta(y)}{||v_\\eta(x)||_2 ||v_\\eta(y)||_2}$$\n",
        "where $v_\\eta(x)$ is the mapping of image x by the critic ie a vector of dimension 32768\n"
      ]
    },
    {
      "cell_type": "code",
      "metadata": {
        "colab_type": "code",
        "id": "Cea_Fd6cMgJi",
        "colab": {}
      },
      "source": [
        "# # Define the cosine similarity for torch tensors with 2 dimensions (including batch size)\n",
        "# cos_similarity = torch.nn.CosineSimilarity(dim=1, eps=1e-08)\n",
        "# def cos_dist(x,y):\n",
        "#     '''Cosine distance between torch tensors x and y'''\n",
        "#     return 1-cos_similarity(x,y)\n",
        "\n",
        "def cos_dist(X,Y):\n",
        "    '''Cosine distance between \n",
        "    Inputs : torch tensors of size [bs,n]\n",
        "    Output : torch tensor of size [bs, bs]\n",
        "    '''\n",
        "    X_norm = X / X.norm(dim=1)[:, None]\n",
        "    Y_norm = Y / Y.norm(dim=1)[:, None]\n",
        "    cos_dist = 1- torch.mm(X_norm, Y_norm.transpose(0,1))\n",
        "    return cos_dist\n",
        "\n",
        "def loss_cos_dist(X, Xp, Y, Yp, detach = False):\n",
        "    '''Compute the loss of the OTGAN when the cost function is the cosine distance (cf Appendix D)\n",
        "    Inputs : \n",
        "    X and Xp minibatches of real data\n",
        "    Y and Yp minibatches of synthesized data\n",
        "    detach : a boolean, whether or not to propagate gradient through Sinkhorn's distance calculation\n",
        "\n",
        "    Returns \n",
        "    loss_g = loss of the generator which corresponds to the 4 first terms in algorithm 1 \n",
        "    loss_c = loss of the critic (2 last termes) \n",
        "    (will be useful to monitor separately the performances of the critic and the generator)\n",
        "    loss = total loss ie loss_g - loss_d\n",
        "    '''\n",
        "\n",
        "    \n",
        "\n",
        "    #loss of the generator \n",
        "    loss_g = sinkhorn_distance(cos_dist(X,Y), detach=detach) \n",
        "    loss_g += sinkhorn_distance(cos_dist(X,Yp), detach=detach) \n",
        "    loss_g += sinkhorn_distance(cos_dist(Xp,Y), detach=detach)\n",
        "    loss_g += sinkhorn_distance(cos_dist(Xp,Yp), detach=detach)\n",
        "\n",
        "    #loss of the discriminator \n",
        "    loss_c = 2*sinkhorn_distance(cos_dist(X,Xp), detach=detach)\n",
        "    loss_c += 2*sinkhorn_distance(cos_dist(Y,Yp), detach=detach)\n",
        "\n",
        "    #total loss\n",
        "    loss = loss_g - loss_c\n",
        "\n",
        "    return loss, loss_g, loss_c"
      ],
      "execution_count": 0,
      "outputs": []
    },
    {
      "cell_type": "code",
      "metadata": {
        "id": "aUxIkI3SRY0M",
        "colab_type": "code",
        "outputId": "bdd86a83-6953-46d6-e907-f9c5cd107143",
        "colab": {
          "base_uri": "https://localhost:8080/",
          "height": 70
        }
      },
      "source": [
        "X = torch.randn(10,2).to('cuda')\n",
        "Xp = torch.randn(10,2).to('cuda')\n",
        "Y = torch.randn(10,2).to('cuda')\n",
        "Yp = torch.randn(10,2).to('cuda')\n",
        "loss_cos_dist(X, Xp, Y, Yp)"
      ],
      "execution_count": 47,
      "outputs": [
        {
          "output_type": "execute_result",
          "data": {
            "text/plain": [
              "(tensor(1.4968, device='cuda:0', dtype=torch.float64),\n",
              " tensor(41.2803, device='cuda:0', dtype=torch.float64),\n",
              " tensor(39.7835, device='cuda:0', dtype=torch.float64))"
            ]
          },
          "metadata": {
            "tags": []
          },
          "execution_count": 47
        }
      ]
    },
    {
      "cell_type": "markdown",
      "metadata": {
        "colab_type": "text",
        "id": "6TOS2t-hMgJm"
      },
      "source": [
        "## Training Loop\n",
        "\n",
        "/!\\\n",
        "\n",
        "- initialization --> possible to initialize weights\n",
        "- save both generator & critic's infos\n",
        "\n",
        "\n",
        "#### Issue : \n",
        "- if detach == False : then we backpropagate the gradients (!= what the authors seem to do)\n",
        "- if detach == True : error, no gradient exists so backward is not possible"
      ]
    },
    {
      "cell_type": "code",
      "metadata": {
        "id": "9XJ2HvgOYcCL",
        "colab_type": "code",
        "colab": {}
      },
      "source": [
        "#mnist_loader = train_resized_loader\n",
        "mnist_loader = train_loader"
      ],
      "execution_count": 0,
      "outputs": []
    },
    {
      "cell_type": "code",
      "metadata": {
        "id": "5mnMrCqyyrl8",
        "colab_type": "code",
        "colab": {}
      },
      "source": [
        "#saving and loading checkpoints\n",
        "import shutil\n",
        "\n",
        "def save_ckp(state, is_best=False, checkpoint_dir=path, best_model_dir = path+'best_models/', \n",
        "             checkpoint_name='checkpoint_otgan_v3.pt'):\n",
        "    \"\"\"\n",
        "    Saves the state of model\n",
        "    params : state : dictionnary of checkpoint with the models and optimizers parameters\n",
        "    checkpoint_dir : directory for saving the checpoint\n",
        "    checkpoint_name : name of the checkpoint \n",
        "    is_best : boolean : if model is best so far, save it in a another directoy\n",
        "    best_model_dir : best_models directory\n",
        "    \"\"\"\n",
        "    f_path = checkpoint_dir + checkpoint_name\n",
        "    torch.save(state, f_path)\n",
        "    if is_best:\n",
        "        best_fpath = best_model_dir + checkpoint_name\n",
        "        torch.save(state, best_fpath)\n",
        "    \n",
        "\n",
        "def load_ckp(checkpoint_fpath, model, optimizer,  device=device):\n",
        "    '''\n",
        "    load models from a given checkpoint \n",
        "    '''\n",
        "    checkpoint = torch.load(checkpoint_fpath)\n",
        "\n",
        "    model.load_state_dict(checkpoint['model_state_dict'])\n",
        "    model.to(device)\n",
        "\n",
        "    optimizer.load_state_dict(checkpoint['optimizer_state_dict'])\n",
        "\n",
        "    return  model, optimizer,  checkpoint['epoch'], checkpoint['loss_history']"
      ],
      "execution_count": 0,
      "outputs": []
    },
    {
      "cell_type": "code",
      "metadata": {
        "id": "RO1ZMp2CcgwT",
        "colab_type": "code",
        "outputId": "40ae0328-8c19-4cf0-b6d6-3075de19b132",
        "colab": {
          "base_uri": "https://localhost:8080/",
          "height": 177
        }
      },
      "source": [
        "args['n_epochs'] = 10\n",
        "args['lr'] = 0.002\n",
        "args['beta1'] = 0.5\n",
        "args['n_gen'] = 6\n",
        "args"
      ],
      "execution_count": 50,
      "outputs": [
        {
          "output_type": "execute_result",
          "data": {
            "text/plain": [
              "{'batch_size': 128,\n",
              " 'beta1': 0.5,\n",
              " 'beta2': 0.999,\n",
              " 'cuda': True,\n",
              " 'lr': 0.002,\n",
              " 'n_epochs': 10,\n",
              " 'n_gen': 6,\n",
              " 'seed': 1,\n",
              " 'val_batch_size': 128}"
            ]
          },
          "metadata": {
            "tags": []
          },
          "execution_count": 50
        }
      ]
    },
    {
      "cell_type": "code",
      "metadata": {
        "colab_type": "code",
        "id": "jT454lbao_gt",
        "colab": {}
      },
      "source": [
        "def training_loop(args = args,  \n",
        "                  dataloader = mnist_loader, verbose=True, \n",
        "                  warm_start=False, device=device,\n",
        "                  path=path, checkpoint_name='checkpoint_otgan_v4'):\n",
        "  \n",
        "    '''\n",
        "    Define the training of the OTGAN \n",
        "\n",
        "    Parameters : \n",
        "    args: dictionnary of arguments for training such as batch size etc \n",
        "    dataloader : dataloader of mnist images \n",
        "    verbose : Boolean : wether to print monitoring values during one epoch \n",
        "    warm_start : boolean : wether to resume the training of a precedent model \n",
        "    path : working directory \n",
        "    checkpoint_name : name of the checkpoint \n",
        "\n",
        "    Returns : the trained Generator and Critic and generated images\n",
        "    '''\n",
        "    ##################################\n",
        "\n",
        "    #.       Initialization\n",
        "\n",
        "    ##################################\n",
        "\n",
        "   \n",
        "    #initialize models\n",
        "    # generator = Generator32x32().to(device)\n",
        "    # critic = Critic32x32().to(device)\n",
        "    \n",
        "    generator = Generator().to(device)\n",
        "    critic = Discriminator().to(device)\n",
        "\n",
        "    #get parameters of generator (\\theta in the article)\n",
        "    #get parameters of critic (\\eta in the article )\n",
        "    g_params = list(generator.parameters())\n",
        "    c_params = list(critic.parameters())\n",
        "\n",
        "    #initialze the optimizers\n",
        "    #optimizer of the generator . \n",
        "    #At each gradient step, only the gradient of the loss wrt theta will be substracted\n",
        "    optimizer_G = optim.Adam(g_params, args['lr'], [args['beta1'], args['beta2']])\n",
        "    #optimizer of the critic\n",
        "    optimizer_C = optim.Adam(c_params, args['lr'], [args['beta1'], args['beta2']])\n",
        "\n",
        "    #loss history \n",
        "    loss_history = []\n",
        "\n",
        "    if warm_start:\n",
        "      ckp_path = path + checkpoint_name\n",
        "\n",
        "      #load generator\n",
        "      generator, optimizer_G,  previous_epoch, loss_history = load_ckp(ckp_path+'_generator.pt', generator, optimizer_G)\n",
        "      #load critic \n",
        "      critic, optimizer_C,  _, _  = load_ckp(ckp_path+'_critic.pt', critic, optimizer_C)\n",
        "      start_epoch = previous_epoch+1\n",
        "      previous_loss = loss_history[-1]\n",
        "      \n",
        "\n",
        "      print('\\n----------------------')\n",
        "      print('Warm Start : Resuming training of {} at epoch {} with current loss {}'.format(checkpoint_name, start_epoch, previous_loss))\n",
        "      print('------------------------')\n",
        "    else:\n",
        "      start_epoch = 1 \n",
        "      print('\\n-----------------------')\n",
        "      print('No warm start')\n",
        "      print('------------------------')\n",
        "\n",
        "    #create an iterator for mnist images \n",
        "    iter_X = iter(dataloader)\n",
        "\n",
        "    #number of iterations per epoch. Depends on batch size\n",
        "    iter_per_epoch = len(iter_X)\n",
        "\n",
        "    #batchsize\n",
        "    bs = args['batch_size']\n",
        "\n",
        "    #number of epochs \n",
        "    n_epochs = args['n_epochs']\n",
        "\n",
        "    \n",
        "\n",
        "\n",
        "    #---------------------------------------------------\n",
        "\n",
        "    #.               TRAINING LOOP\n",
        "\n",
        "    #---------------------------------------------------\n",
        "    print('\\n-----------------')\n",
        "    print('LEARNING RATE :', args['lr'])\n",
        "    print('BETA_1 :', args['beta1'])\n",
        "    print('BETA_2 :', args['beta2'])\n",
        "    print('NUMBER of EPOCHS to complete :', n_epochs)\n",
        "    print('BATCH_SIZE :', bs)\n",
        "    print('ITERATION PER EPOCH :', iter_per_epoch, '\\n-------------------\\n\\n\\n')\n",
        "\n",
        "    for epoch in range(start_epoch, start_epoch + n_epochs):\n",
        "      #iterate over epochs\n",
        "      #reset data_iter for each epoch\n",
        "      iter_X = iter(mnist_loader) #iterator for the X\n",
        "      iter_Xp = iter(mnist_loader) #iterator for the X'\n",
        "\n",
        "      #total loss over all the data for one epoch\n",
        "      total_loss =[] #loss of algo 1\n",
        "\n",
        "      #only for monitoring purpose\n",
        "      total_g_loss = [] #the 4 first terms of loss in algorithm 1 \n",
        "      total_c_loss =[] #the two last terms \n",
        "\n",
        "      for step in tqdm(range(1, iter_per_epoch+1)): #each iteration corresponds to a batch\n",
        "        \n",
        "        # get data. Two independant batches\n",
        "        X, _ = iter_X.next()\n",
        "        X = X.to(device)\n",
        "        Xp, _ = iter_Xp.next()\n",
        "        Xp = Xp.to(device)\n",
        "\n",
        "\n",
        "        #get two codes\n",
        "        Z = generator.generate_noise(bs, k=100).to(device)\n",
        "        Zp = generator.generate_noise(bs, k=100).to(device)\n",
        "\n",
        "\n",
        "        #generate synthetic images from codes\n",
        "        Y = generator(Z)\n",
        "        Yp = generator(Zp)\n",
        "\n",
        "\n",
        "        #Get Embed representations of  images into the feature space by using the critic mapping\n",
        "        out_X = critic(X)\n",
        "        out_Xp = critic(Xp)\n",
        "        out_Y = critic(Y)\n",
        "        out_Yp = critic(Yp)\n",
        "\n",
        "        ###################################################\n",
        "    \n",
        "        #      TRAIN THE GENERATOR AND THE CRITIC\n",
        "\n",
        "        ###################################################\n",
        "\n",
        "        #compute the loss of generator an critic\n",
        "        loss, loss_g , loss_c= loss_cos_dist(out_X, out_Xp, out_Y, out_Yp)\n",
        "\n",
        "        #loss_g and loss_c are just respectively\n",
        "        #the 4 first terms of loss in algorithm 1 \n",
        "        #the 2 last terms. Just useful for monitoring purpose\n",
        "\n",
        "\n",
        "        #add to the list of loss for monitoring at the end of each epoch\n",
        "        total_loss.append(loss.item())\n",
        "        total_g_loss.append(loss_g.item())\n",
        "        total_c_loss.append(loss_c.item())\n",
        "\n",
        "\n",
        "        if step % args[\"n_gen\"] == 0:  #update the critic\n",
        "          (-loss).backward() #-loss for gradient ascent \n",
        "          optimizer_C.step() #take a step of gradients\n",
        "          #zero the gradients \n",
        "          optimizer_C.zero_grad()\n",
        "\n",
        "        else: #update the generator \n",
        "          loss.backward()  #gradient descent \n",
        "          optimizer_G.step()\n",
        "          optimizer_G.zero_grad()\n",
        "\n",
        "\n",
        "        #monitioring discriminator real  loss \n",
        "        if (step % 100 == 0) and verbose:\n",
        "          print('\\n, Monitoring of iteration {} of epoch {}'.format(step, epoch))\n",
        "          print('\\n--------------------------')\n",
        "          print('AVERAGE TOTAL LOSS   : ', np.mean(total_loss))\n",
        "          print('GENERATOR LOSS ', np.mean(total_g_loss))\n",
        "          print('CRITIC LOSS ', np.mean(total_c_loss))\n",
        "          print('--------------------------')\n",
        "\n",
        "\n",
        "      #monitoring at the end of each epoch\n",
        "      print('\\n\\n EPOCH {} completed'.format(epoch))\n",
        "      print('MONITORING', '\\n--------------------------')\n",
        "      print('AVERAGE GENERATOR LOSS', np.mean(total_g_loss))\n",
        "      print('AVERAGE CRITIC LOSS', np.mean(total_c_loss))\n",
        "      print('AVERAGE TOTAL LOSS :' , np.mean(total_loss))\n",
        "      print('--------------------------')\n",
        "\n",
        "      print('SAVING')\n",
        "      print('--------------------------')\n",
        "\n",
        "      #saving  checkpoint for future warm starts \n",
        "      loss_history.append(np.mean(total_loss))\n",
        "\n",
        "      #check if model is best so far\n",
        "      if loss_history[-1] == np.min(loss_history):\n",
        "        is_best = True\n",
        "      else:\n",
        "        is_best = False\n",
        "      print('best so far ', is_best)\n",
        "      checkpoint_g = {\n",
        "          'epoch':epoch,\n",
        "          'args':args,\n",
        "          'loss_history':loss_history,\n",
        "          'model_state_dict': generator.state_dict(),\n",
        "          'optimizer_state_dict':optimizer_G.state_dict()}\n",
        "      save_ckp(checkpoint_g,  is_best, checkpoint_dir=path, \n",
        "               best_model_dir = path+'best_models',\n",
        "               checkpoint_name = checkpoint_name+'_generator.pt')\n",
        "\n",
        "      checkpoint_c = {\n",
        "          'epoch':epoch,\n",
        "          'args':args,\n",
        "          'loss_history':loss_history,\n",
        "          'model_state_dict': critic.state_dict(),\n",
        "          'optimizer_state_dict':optimizer_C.state_dict()\n",
        "      }\n",
        "      save_ckp(checkpoint_c, is_best,  checkpoint_dir=path, \n",
        "               best_model_dir = path+'best_models',\n",
        "               checkpoint_name = checkpoint_name+'_critic.pt')\n",
        "\n",
        "\n",
        "    trained_model = {'critic':critic, 'generator' :generator}\n",
        "    return trained_model\n",
        "\n",
        "    \n",
        "   "
      ],
      "execution_count": 0,
      "outputs": []
    },
    {
      "cell_type": "code",
      "metadata": {
        "id": "KyrEeBL9s9g2",
        "colab_type": "code",
        "outputId": "acc5ef9a-6bcf-4bb6-e673-44a915fb7ed1",
        "colab": {
          "base_uri": "https://localhost:8080/",
          "height": 1000,
          "referenced_widgets": [
            "bc11e92caa554f6ea7da59a308739e13",
            "d0bd827580de40b0a335c946edd862cc",
            "7daafdfa3686464fa50e93d5075fd17d",
            "301ee2fd43ab4efcb1c0a7287aee1e62",
            "2150e447d54c44fc8e53b9991e688fc8",
            "a6b7615d329f4c6cad2c9fbcc3a042c6",
            "ce24e94c2d7c4f8db1846e4576c1392c",
            "31887fa4f4034a288fd168316ac10759",
            "4b1735172a684267868ab9d09ec9b57a",
            "df7a3b7d9e9245afb5fdc5c3b3c47a7a",
            "ec50a1ccd9874304962843f67a4f1ba8",
            "a87d42ea35714194bb96aeee9fb294b1",
            "84964ae6e6eb40619f23b8e51cd31008",
            "c51656549a7c454fa0c9f878bb2da2ac",
            "3ca55a44a715494781ad3efebb530d0b",
            "2169850cb3604ac58b7b30787ddecc49",
            "2ba6330a6a9646b794fd5f178a72c392",
            "3bb1fcfc7bc044ffa7032e04a651b8c6",
            "08bb06726a2d492487f9d2f6858f3e36",
            "0976d46b6a564eb7a3d32207d2b943f2",
            "b7494a8451084ce89d0951520df3388c",
            "43e307a8222d47a9b42ac96558e2ba3f",
            "91fda22971b84c7586eef55d1cd2caa7",
            "ca03fcde7ab9453483d13158be9cca69",
            "6447b60d868747bc9c11c2f420272a69",
            "e704e4dd785f4be6afd9ca9045d3ce0a",
            "520aa59eae704101b65870bf86a9af31",
            "494ecd72b2cb46ad885b168265827640",
            "f7f8cd7ae24f49fca792eeaa10ff0272",
            "927fc8ca45cf4736af06ab86dafb6e41",
            "cc808810541e4bd0a9a78f12d8ec3cdd",
            "9bedc15893594cfcbde5c377d2007610",
            "f64a9f41814d467f8e00ed1ffe4082e1",
            "a780878445524996afab7620a1762afa",
            "bef6f27c7ed741debce4e03523cea0d9",
            "332651024b9644c0ae123d7db3ee138e",
            "1ac359fedfbd433d92ac2fa888883845",
            "0c1a018797784ce89d62b88660a2af1e",
            "70ca4520d68d41e7b84fd748fe1b7c48",
            "1efd925e9a6f4d2694389cad2ecdd355",
            "8a79240f1b3045eaa5177b9589a6cbae",
            "996156438804499887e8d90ebbcdb0c5",
            "c66f091f3b3e4822bb5931d04d9cda34",
            "663751ca55c24ad3b736619e9d513431",
            "04681f3300174e70a2fe6f89407bc8ae",
            "7b07990d21e64d4392df85f3bd363975",
            "eebded8624b0466fba5aedfeec180018",
            "6748135017654198b4cebf1ae8879ba5",
            "2338dbd2a4a14c72afa13d6ecb8a969f",
            "32554da27274480ba0918307ba28755d",
            "440d013d10bc4bde99e82ad1318062b5",
            "4743d9ec90904dd696375e628e979241",
            "8bd081433f4d447e871f6824d8ff1e46",
            "f7767d44094c4228947613083a05e0d9",
            "95083024c25d4f128130440dfffb9c8e",
            "2569602d08c041daab69523fe42f7349",
            "6b29b1855d554a4fae8d6ad2feded3a6",
            "1f5c8bdc6e8b4a0a8a9a4a8b3214d595",
            "821d508eea17478a8add2fb68f455d9f",
            "a53c2321fe28442aac34c2ea6a0de5a2",
            "575370ec80c142ee8728f9ea53eb75c5",
            "900a97a26fd04dbfad9913fd70fc8ac1",
            "24760498ad794587b31bbd63c8992a03",
            "7fb775e8bfb0497ba963c7c913bfa570",
            "5bbf8e7dc09346c8852a2e90cf185282",
            "57bbdb6db5fd4aa1a1063d430969008b",
            "d65d6fa22c6e47308e6d0d775327d7a8",
            "a33960c5c2e34858b9c7deed90620fde",
            "d3b7ea901df94f87950d166b853d88b3",
            "0525c8667c614022906b62d7c50868c5",
            "3f5cb4c47db9420c8fee6183aa32d5b3",
            "56d885cd3ef24d82a42d97ddd9dfc7af",
            "2df1a8e8ac88484ebe6c29ba8ce0dc6a",
            "5c186a7e456549948c25e2415135feb4",
            "746079ae0c4f4a80856ec143951b39a4",
            "a475cef8a08740c68375693719a46b3d",
            "2a5f54472f844b84bb63894897631a26",
            "57eb4c1e99ac4cbeb27615ddf8e88415",
            "6c2eb1bafb994f268e040ad710f99bb0",
            "5061966ed45b43259e18cbfad6a0ed6b"
          ]
        }
      },
      "source": [
        "args[\"n_gen\"]=2\n",
        "args[\"lr\"]=0.0002\n",
        "trained_model = training_loop(args=args, verbose=False, warm_start=False, \n",
        "                              checkpoint_name='checkpoint_otgan_v11')"
      ],
      "execution_count": 90,
      "outputs": [
        {
          "output_type": "stream",
          "text": [
            "\n",
            "-----------------------\n",
            "No warm start\n",
            "------------------------\n",
            "\n",
            "-----------------\n",
            "LEARNING RATE : 0.0002\n",
            "BETA_1 : 0.5\n",
            "BETA_2 : 0.999\n",
            "NUMBER of EPOCHS to complete : 10\n",
            "BATCH_SIZE : 128\n",
            "ITERATION PER EPOCH : 469 \n",
            "-------------------\n",
            "\n",
            "\n",
            "\n"
          ],
          "name": "stdout"
        },
        {
          "output_type": "display_data",
          "data": {
            "application/vnd.jupyter.widget-view+json": {
              "model_id": "bc11e92caa554f6ea7da59a308739e13",
              "version_minor": 0,
              "version_major": 2
            },
            "text/plain": [
              "HBox(children=(IntProgress(value=0, max=469), HTML(value='')))"
            ]
          },
          "metadata": {
            "tags": []
          }
        },
        {
          "output_type": "stream",
          "text": [
            "/usr/local/lib/python3.6/dist-packages/torch/nn/functional.py:1558: UserWarning: nn.functional.tanh is deprecated. Use torch.tanh instead.\n",
            "  warnings.warn(\"nn.functional.tanh is deprecated. Use torch.tanh instead.\")\n"
          ],
          "name": "stderr"
        },
        {
          "output_type": "stream",
          "text": [
            "\n",
            "\n",
            "\n",
            " EPOCH 1 completed\n",
            "MONITORING \n",
            "--------------------------\n",
            "AVERAGE GENERATOR LOSS 53.01069752795937\n",
            "AVERAGE CRITIC LOSS 47.88424508918807\n",
            "AVERAGE TOTAL LOSS : 5.126452438771298\n",
            "--------------------------\n",
            "SAVING\n",
            "--------------------------\n",
            "best so far  True\n"
          ],
          "name": "stdout"
        },
        {
          "output_type": "display_data",
          "data": {
            "application/vnd.jupyter.widget-view+json": {
              "model_id": "4b1735172a684267868ab9d09ec9b57a",
              "version_minor": 0,
              "version_major": 2
            },
            "text/plain": [
              "HBox(children=(IntProgress(value=0, max=469), HTML(value='')))"
            ]
          },
          "metadata": {
            "tags": []
          }
        },
        {
          "output_type": "stream",
          "text": [
            "\n",
            "\n",
            "\n",
            " EPOCH 2 completed\n",
            "MONITORING \n",
            "--------------------------\n",
            "AVERAGE GENERATOR LOSS 96.63827520876164\n",
            "AVERAGE CRITIC LOSS 82.87198652783871\n",
            "AVERAGE TOTAL LOSS : 13.766288680922907\n",
            "--------------------------\n",
            "SAVING\n",
            "--------------------------\n",
            "best so far  False\n"
          ],
          "name": "stdout"
        },
        {
          "output_type": "display_data",
          "data": {
            "application/vnd.jupyter.widget-view+json": {
              "model_id": "2ba6330a6a9646b794fd5f178a72c392",
              "version_minor": 0,
              "version_major": 2
            },
            "text/plain": [
              "HBox(children=(IntProgress(value=0, max=469), HTML(value='')))"
            ]
          },
          "metadata": {
            "tags": []
          }
        },
        {
          "output_type": "stream",
          "text": [
            "\n",
            "\n",
            "\n",
            " EPOCH 3 completed\n",
            "MONITORING \n",
            "--------------------------\n",
            "AVERAGE GENERATOR LOSS 767.2572790835294\n",
            "AVERAGE CRITIC LOSS 63.71683660441247\n",
            "AVERAGE TOTAL LOSS : 703.5404424791168\n",
            "--------------------------\n",
            "SAVING\n",
            "--------------------------\n",
            "best so far  False\n"
          ],
          "name": "stdout"
        },
        {
          "output_type": "display_data",
          "data": {
            "application/vnd.jupyter.widget-view+json": {
              "model_id": "6447b60d868747bc9c11c2f420272a69",
              "version_minor": 0,
              "version_major": 2
            },
            "text/plain": [
              "HBox(children=(IntProgress(value=0, max=469), HTML(value='')))"
            ]
          },
          "metadata": {
            "tags": []
          }
        },
        {
          "output_type": "stream",
          "text": [
            "\n",
            "\n",
            "\n",
            " EPOCH 4 completed\n",
            "MONITORING \n",
            "--------------------------\n",
            "AVERAGE GENERATOR LOSS 1012.4043369069885\n",
            "AVERAGE CRITIC LOSS 11.56121530239054\n",
            "AVERAGE TOTAL LOSS : 1000.8431216045981\n",
            "--------------------------\n",
            "SAVING\n",
            "--------------------------\n",
            "best so far  False\n"
          ],
          "name": "stdout"
        },
        {
          "output_type": "display_data",
          "data": {
            "application/vnd.jupyter.widget-view+json": {
              "model_id": "f64a9f41814d467f8e00ed1ffe4082e1",
              "version_minor": 0,
              "version_major": 2
            },
            "text/plain": [
              "HBox(children=(IntProgress(value=0, max=469), HTML(value='')))"
            ]
          },
          "metadata": {
            "tags": []
          }
        },
        {
          "output_type": "stream",
          "text": [
            "\n",
            "\n",
            "\n",
            " EPOCH 5 completed\n",
            "MONITORING \n",
            "--------------------------\n",
            "AVERAGE GENERATOR LOSS 1020.1080310565421\n",
            "AVERAGE CRITIC LOSS 3.8844922823123524\n",
            "AVERAGE TOTAL LOSS : 1016.2235387742296\n",
            "--------------------------\n",
            "SAVING\n",
            "--------------------------\n",
            "best so far  False\n"
          ],
          "name": "stdout"
        },
        {
          "output_type": "display_data",
          "data": {
            "application/vnd.jupyter.widget-view+json": {
              "model_id": "8a79240f1b3045eaa5177b9589a6cbae",
              "version_minor": 0,
              "version_major": 2
            },
            "text/plain": [
              "HBox(children=(IntProgress(value=0, max=469), HTML(value='')))"
            ]
          },
          "metadata": {
            "tags": []
          }
        },
        {
          "output_type": "stream",
          "text": [
            "\n",
            "\n",
            "\n",
            " EPOCH 6 completed\n",
            "MONITORING \n",
            "--------------------------\n",
            "AVERAGE GENERATOR LOSS 1021.7511775364533\n",
            "AVERAGE CRITIC LOSS 2.249047212925621\n",
            "AVERAGE TOTAL LOSS : 1019.5021303235278\n",
            "--------------------------\n",
            "SAVING\n",
            "--------------------------\n",
            "best so far  False\n"
          ],
          "name": "stdout"
        },
        {
          "output_type": "display_data",
          "data": {
            "application/vnd.jupyter.widget-view+json": {
              "model_id": "2338dbd2a4a14c72afa13d6ecb8a969f",
              "version_minor": 0,
              "version_major": 2
            },
            "text/plain": [
              "HBox(children=(IntProgress(value=0, max=469), HTML(value='')))"
            ]
          },
          "metadata": {
            "tags": []
          }
        },
        {
          "output_type": "stream",
          "text": [
            "\n",
            "\n",
            "\n",
            " EPOCH 7 completed\n",
            "MONITORING \n",
            "--------------------------\n",
            "AVERAGE GENERATOR LOSS 1021.9811241065394\n",
            "AVERAGE CRITIC LOSS 2.0189042931078323\n",
            "AVERAGE TOTAL LOSS : 1019.9622198134315\n",
            "--------------------------\n",
            "SAVING\n",
            "--------------------------\n",
            "best so far  False\n"
          ],
          "name": "stdout"
        },
        {
          "output_type": "display_data",
          "data": {
            "application/vnd.jupyter.widget-view+json": {
              "model_id": "6b29b1855d554a4fae8d6ad2feded3a6",
              "version_minor": 0,
              "version_major": 2
            },
            "text/plain": [
              "HBox(children=(IntProgress(value=0, max=469), HTML(value='')))"
            ]
          },
          "metadata": {
            "tags": []
          }
        },
        {
          "output_type": "stream",
          "text": [
            "\n",
            "\n",
            "\n",
            " EPOCH 8 completed\n",
            "MONITORING \n",
            "--------------------------\n",
            "AVERAGE GENERATOR LOSS 1022.9342985694058\n",
            "AVERAGE CRITIC LOSS 1.0658294493308265\n",
            "AVERAGE TOTAL LOSS : 1021.868469120075\n",
            "--------------------------\n",
            "SAVING\n",
            "--------------------------\n",
            "best so far  False\n"
          ],
          "name": "stdout"
        },
        {
          "output_type": "display_data",
          "data": {
            "application/vnd.jupyter.widget-view+json": {
              "model_id": "5bbf8e7dc09346c8852a2e90cf185282",
              "version_minor": 0,
              "version_major": 2
            },
            "text/plain": [
              "HBox(children=(IntProgress(value=0, max=469), HTML(value='')))"
            ]
          },
          "metadata": {
            "tags": []
          }
        },
        {
          "output_type": "stream",
          "text": [
            "\n",
            "\n",
            "\n",
            " EPOCH 9 completed\n",
            "MONITORING \n",
            "--------------------------\n",
            "AVERAGE GENERATOR LOSS 1023.002661063401\n",
            "AVERAGE CRITIC LOSS 0.9977334879916393\n",
            "AVERAGE TOTAL LOSS : 1022.0049275754094\n",
            "--------------------------\n",
            "SAVING\n",
            "--------------------------\n",
            "best so far  False\n"
          ],
          "name": "stdout"
        },
        {
          "output_type": "display_data",
          "data": {
            "application/vnd.jupyter.widget-view+json": {
              "model_id": "2df1a8e8ac88484ebe6c29ba8ce0dc6a",
              "version_minor": 0,
              "version_major": 2
            },
            "text/plain": [
              "HBox(children=(IntProgress(value=0, max=469), HTML(value='')))"
            ]
          },
          "metadata": {
            "tags": []
          }
        },
        {
          "output_type": "stream",
          "text": [
            "\n",
            "\n",
            "\n",
            " EPOCH 10 completed\n",
            "MONITORING \n",
            "--------------------------\n",
            "AVERAGE GENERATOR LOSS 1023.1389894009623\n",
            "AVERAGE CRITIC LOSS 0.8611386177743233\n",
            "AVERAGE TOTAL LOSS : 1022.2778507831879\n",
            "--------------------------\n",
            "SAVING\n",
            "--------------------------\n",
            "best so far  False\n"
          ],
          "name": "stdout"
        }
      ]
    },
    {
      "cell_type": "markdown",
      "metadata": {
        "id": "Ptqv6YYGzSoI",
        "colab_type": "text"
      },
      "source": [
        "# Test the OT GAN \n",
        "\n",
        "- inception score ??\n",
        "- v3 = same architecture and  hyperparameters as in the article\n",
        "  - 8 epochs : Stop learning after 5 epochs approximatively .\n",
        "  - last loss : 0.00115\n",
        "- v4 : architecture found on medium, eps = 0.1. generator and discriminator perform equally after a certain number of epochs, loss even reached 0 : idea try to reduce the number ms to suof updates of the discriminator. Seems to suffer from the collapse mode...Even after 18 epochs it's not better.\n",
        "- v5 : ngen = 6, very unstable . Also mode collapsing \n",
        "- v6 : beta1 = 0.5, negative loss at epoch 8 but after increased again \n",
        "- v7 same as v6 with lr = 0.0002. Afterb7 epochs loss started to increase...\n",
        "- v8 : idea : go back to eps = 500? increase max_iter to 500?\n",
        "- v9 : eps = 500, max_iter = 500, n_gen=6\n",
        "- v10 : eps = 500, max_iter = 500, n_gen=2\n",
        "\n",
        "- new architecture training more instable. But faster and it seems to generate digits. But always the same one ..\n",
        "\n",
        "- IDEA for next architecture : don't use linear layer but convolutional and deconvolutional layers "
      ]
    },
    {
      "cell_type": "code",
      "metadata": {
        "id": "KH-NPCFLzEk1",
        "colab_type": "code",
        "colab": {}
      },
      "source": [
        "def plot_gen_images(checkpoint_path, generator, image_size=28, plot_history=False):\n",
        "    '''\n",
        "    plot images generated by a given model\n",
        "\n",
        "    Parameters\n",
        "    checkpoint_path : path where the model is saved\n",
        "    generator : initial model\n",
        "    image_size : either 28 or 32\n",
        "    '''\n",
        "    checkpoint = torch.load(checkpoint_path)\n",
        "    try:\n",
        "      args = checkpoint['args']\n",
        "      print('args \\n')\n",
        "      for arg in list(args.keys()):\n",
        "        print(arg, args[arg])\n",
        "    except:\n",
        "      pass\n",
        "\n",
        "    generator.load_state_dict(checkpoint['model_state_dict'])\n",
        "    with torch.no_grad():\n",
        "      n = 4 \n",
        "      z = generator.generate_noise(4, 100)\n",
        "      images = generator(z)\n",
        "      images.size()\n",
        "      images = images.reshape(4, 1, image_size,image_size)\n",
        "      images.size()\n",
        "\n",
        "      fig, ax = plt.subplots(1,4, figsize=(10, 5))\n",
        "      for i in range(4):\n",
        "        img = images[i]\n",
        "        ax[i].imshow(img.numpy().squeeze(), cmap='gray')\n",
        "      if plot_history:\n",
        "        plt.figure(figsize=(10,5))\n",
        "        plt.plot(checkpoint['loss_history'])\n",
        "        plt.title('Loss evolution')\n",
        "        plt.xlabel('epoch')\n",
        "        plt.ylabel('loss')\n",
        "        plt.show()"
      ],
      "execution_count": 0,
      "outputs": []
    },
    {
      "cell_type": "code",
      "metadata": {
        "id": "CHEW4wQnMPto",
        "colab_type": "code",
        "outputId": "468465e2-8e95-4e9b-fea0-04dc03126b83",
        "colab": {
          "base_uri": "https://localhost:8080/",
          "height": 174
        }
      },
      "source": [
        "checkpoint_path = path + 'checkpoint_otgan_v3_generator.pt'\n",
        "plot_gen_images(checkpoint_path, generator=Generator32x32(), image_size=32)\n",
        "#forgott the loss history at beginning"
      ],
      "execution_count": 88,
      "outputs": [
        {
          "output_type": "display_data",
          "data": {
            "image/png": "[encoded data removed]",
            "text/plain": [
              "<Figure size 720x360 with 4 Axes>"
            ]
          },
          "metadata": {
            "tags": [],
            "needs_background": "light"
          }
        }
      ]
    },
    {
      "cell_type": "code",
      "metadata": {
        "id": "IF_fNX4JLxWQ",
        "colab_type": "code",
        "outputId": "d89bab36-e6c4-4fc8-c263-6e45828ebf30",
        "colab": {
          "base_uri": "https://localhost:8080/",
          "height": 743
        }
      },
      "source": [
        "checkpoint_path = path + 'checkpoint_otgan_v4_generator.pt'\n",
        "plot_gen_images(checkpoint_path, generator=Generator(), plot_history=True)"
      ],
      "execution_count": 55,
      "outputs": [
        {
          "output_type": "stream",
          "text": [
            "args \n",
            "\n",
            "batch_size 128\n",
            "val_batch_size 128\n",
            "n_epochs 20\n",
            "lr 0.002\n",
            "beta1 0.9\n",
            "beta2 0.999\n",
            "seed 1\n",
            "cuda True\n",
            "n_gen 3\n"
          ],
          "name": "stdout"
        },
        {
          "output_type": "stream",
          "text": [
            "/usr/local/lib/python3.6/dist-packages/torch/nn/functional.py:1558: UserWarning: nn.functional.tanh is deprecated. Use torch.tanh instead.\n",
            "  warnings.warn(\"nn.functional.tanh is deprecated. Use torch.tanh instead.\")\n"
          ],
          "name": "stderr"
        },
        {
          "output_type": "display_data",
          "data": {
            "image/png": "[encoded data removed]",
            "text/plain": [
              "<Figure size 720x360 with 4 Axes>"
            ]
          },
          "metadata": {
            "tags": [],
            "needs_background": "light"
          }
        },
        {
          "output_type": "display_data",
          "data": {
            "image/png": "[encoded data removed]",
            "text/plain": [
              "<Figure size 720x360 with 1 Axes>"
            ]
          },
          "metadata": {
            "tags": [],
            "needs_background": "light"
          }
        }
      ]
    },
    {
      "cell_type": "code",
      "metadata": {
        "id": "UeonYK2hLta4",
        "colab_type": "code",
        "outputId": "c9347474-dd75-4da9-cc4e-aab7cb9c00a1",
        "colab": {
          "base_uri": "https://localhost:8080/",
          "height": 743
        }
      },
      "source": [
        "checkpoint_path = path + 'checkpoint_otgan_v5_generator.pt'\n",
        "plot_gen_images(checkpoint_path, generator=Generator(), plot_history=True)"
      ],
      "execution_count": 67,
      "outputs": [
        {
          "output_type": "stream",
          "text": [
            "args \n",
            "\n",
            "batch_size 128\n",
            "val_batch_size 128\n",
            "n_epochs 5\n",
            "lr 0.002\n",
            "beta1 0.9\n",
            "beta2 0.999\n",
            "seed 1\n",
            "cuda True\n",
            "n_gen 6\n"
          ],
          "name": "stdout"
        },
        {
          "output_type": "stream",
          "text": [
            "/usr/local/lib/python3.6/dist-packages/torch/nn/functional.py:1558: UserWarning: nn.functional.tanh is deprecated. Use torch.tanh instead.\n",
            "  warnings.warn(\"nn.functional.tanh is deprecated. Use torch.tanh instead.\")\n"
          ],
          "name": "stderr"
        },
        {
          "output_type": "display_data",
          "data": {
            "image/png": "[encoded data removed]",
            "text/plain": [
              "<Figure size 720x360 with 4 Axes>"
            ]
          },
          "metadata": {
            "tags": [],
            "needs_background": "light"
          }
        },
        {
          "output_type": "display_data",
          "data": {
            "image/png": "[encoded data removed]",
            "text/plain": [
              "<Figure size 720x360 with 1 Axes>"
            ]
          },
          "metadata": {
            "tags": [],
            "needs_background": "light"
          }
        }
      ]
    },
    {
      "cell_type": "code",
      "metadata": {
        "id": "eNnJBUUpKxWI",
        "colab_type": "code",
        "outputId": "d8667a77-6f46-46a3-801a-3865b13adca0",
        "colab": {
          "base_uri": "https://localhost:8080/",
          "height": 743
        }
      },
      "source": [
        "checkpoint_path = path + 'checkpoint_otgan_v6_generator.pt'\n",
        "plot_gen_images(checkpoint_path, generator=Generator(), plot_history=True)"
      ],
      "execution_count": 69,
      "outputs": [
        {
          "output_type": "stream",
          "text": [
            "args \n",
            "\n",
            "batch_size 128\n",
            "val_batch_size 128\n",
            "n_epochs 10\n",
            "lr 0.002\n",
            "beta1 0.5\n",
            "beta2 0.999\n",
            "seed 1\n",
            "cuda True\n",
            "n_gen 6\n"
          ],
          "name": "stdout"
        },
        {
          "output_type": "stream",
          "text": [
            "/usr/local/lib/python3.6/dist-packages/torch/nn/functional.py:1558: UserWarning: nn.functional.tanh is deprecated. Use torch.tanh instead.\n",
            "  warnings.warn(\"nn.functional.tanh is deprecated. Use torch.tanh instead.\")\n"
          ],
          "name": "stderr"
        },
        {
          "output_type": "display_data",
          "data": {
            "image/png": "[encoded data removed]",
            "text/plain": [
              "<Figure size 720x360 with 4 Axes>"
            ]
          },
          "metadata": {
            "tags": [],
            "needs_background": "light"
          }
        },
        {
          "output_type": "display_data",
          "data": {
            "image/png": "[encoded data removed]",
            "text/plain": [
              "<Figure size 720x360 with 1 Axes>"
            ]
          },
          "metadata": {
            "tags": [],
            "needs_background": "light"
          }
        }
      ]
    },
    {
      "cell_type": "code",
      "metadata": {
        "id": "XPdS64w-Mfh4",
        "colab_type": "code",
        "outputId": "a75a5995-8004-43be-8ac8-e2aa792f402c",
        "colab": {
          "base_uri": "https://localhost:8080/",
          "height": 743
        }
      },
      "source": [
        "checkpoint_path = path + 'checkpoint_otgan_v7_generator.pt' #after 6 epochs\n",
        "plot_gen_images(checkpoint_path, generator=Generator(), plot_history=True)"
      ],
      "execution_count": 70,
      "outputs": [
        {
          "output_type": "stream",
          "text": [
            "args \n",
            "\n",
            "batch_size 128\n",
            "val_batch_size 128\n",
            "n_epochs 10\n",
            "lr 0.0002\n",
            "beta1 0.5\n",
            "beta2 0.999\n",
            "seed 1\n",
            "cuda True\n",
            "n_gen 6\n"
          ],
          "name": "stdout"
        },
        {
          "output_type": "stream",
          "text": [
            "/usr/local/lib/python3.6/dist-packages/torch/nn/functional.py:1558: UserWarning: nn.functional.tanh is deprecated. Use torch.tanh instead.\n",
            "  warnings.warn(\"nn.functional.tanh is deprecated. Use torch.tanh instead.\")\n"
          ],
          "name": "stderr"
        },
        {
          "output_type": "display_data",
          "data": {
            "image/png": "[encoded data removed]",
            "text/plain": [
              "<Figure size 720x360 with 4 Axes>"
            ]
          },
          "metadata": {
            "tags": [],
            "needs_background": "light"
          }
        },
        {
          "output_type": "display_data",
          "data": {
            "image/png": "[encoded data removed]",
            "text/plain": [
              "<Figure size 720x360 with 1 Axes>"
            ]
          },
          "metadata": {
            "tags": [],
            "needs_background": "light"
          }
        }
      ]
    },
    {
      "cell_type": "code",
      "metadata": {
        "id": "nQBMswolpY1o",
        "colab_type": "code",
        "colab": {}
      },
      "source": [
        "# %load_ext autoreload\n",
        "# %autoreload 2\n",
        "# %reload_ext autoreload"
      ],
      "execution_count": 0,
      "outputs": []
    },
    {
      "cell_type": "code",
      "metadata": {
        "id": "CDSG7JyvMfxK",
        "colab_type": "code",
        "outputId": "baa91902-ce3d-4b57-ab08-7abfe0a1121b",
        "colab": {
          "base_uri": "https://localhost:8080/",
          "height": 743
        }
      },
      "source": [
        "checkpoint_path = path + 'checkpoint_otgan_v8_generator.pt' #after 6 epochs\n",
        "plot_gen_images(checkpoint_path, generator=Generator(), plot_history=True)"
      ],
      "execution_count": 80,
      "outputs": [
        {
          "output_type": "stream",
          "text": [
            "args \n",
            "\n",
            "batch_size 128\n",
            "val_batch_size 128\n",
            "n_epochs 10\n",
            "lr 0.002\n",
            "beta1 0.5\n",
            "beta2 0.999\n",
            "seed 1\n",
            "cuda True\n",
            "n_gen 6\n"
          ],
          "name": "stdout"
        },
        {
          "output_type": "stream",
          "text": [
            "/usr/local/lib/python3.6/dist-packages/torch/nn/functional.py:1558: UserWarning: nn.functional.tanh is deprecated. Use torch.tanh instead.\n",
            "  warnings.warn(\"nn.functional.tanh is deprecated. Use torch.tanh instead.\")\n"
          ],
          "name": "stderr"
        },
        {
          "output_type": "display_data",
          "data": {
            "image/png": "[encoded data removed]",
            "text/plain": [
              "<Figure size 720x360 with 4 Axes>"
            ]
          },
          "metadata": {
            "tags": [],
            "needs_background": "light"
          }
        },
        {
          "output_type": "display_data",
          "data": {
            "image/png": "[encoded data removed]",
            "text/plain": [
              "<Figure size 720x360 with 1 Axes>"
            ]
          },
          "metadata": {
            "tags": [],
            "needs_background": "light"
          }
        }
      ]
    },
    {
      "cell_type": "code",
      "metadata": {
        "id": "AXp3qFplMfud",
        "colab_type": "code",
        "colab": {
          "base_uri": "https://localhost:8080/",
          "height": 743
        },
        "outputId": "d1618857-dddc-4499-efba-75a337e6ca54"
      },
      "source": [
        "checkpoint_path = path + 'checkpoint_otgan_v9_generator.pt' #after 6 epochs\n",
        "plot_gen_images(checkpoint_path, generator=Generator(), plot_history=True)"
      ],
      "execution_count": 74,
      "outputs": [
        {
          "output_type": "stream",
          "text": [
            "args \n",
            "\n",
            "batch_size 128\n",
            "val_batch_size 128\n",
            "n_epochs 10\n",
            "lr 0.002\n",
            "beta1 0.5\n",
            "beta2 0.999\n",
            "seed 1\n",
            "cuda True\n",
            "n_gen 6\n"
          ],
          "name": "stdout"
        },
        {
          "output_type": "stream",
          "text": [
            "/usr/local/lib/python3.6/dist-packages/torch/nn/functional.py:1558: UserWarning: nn.functional.tanh is deprecated. Use torch.tanh instead.\n",
            "  warnings.warn(\"nn.functional.tanh is deprecated. Use torch.tanh instead.\")\n"
          ],
          "name": "stderr"
        },
        {
          "output_type": "display_data",
          "data": {
            "image/png": "[encoded data removed]",
            "text/plain": [
              "<Figure size 720x360 with 4 Axes>"
            ]
          },
          "metadata": {
            "tags": [],
            "needs_background": "light"
          }
        },
        {
          "output_type": "display_data",
          "data": {
            "image/png": "[encoded data removed]",
            "text/plain": [
              "<Figure size 720x360 with 1 Axes>"
            ]
          },
          "metadata": {
            "tags": [],
            "needs_background": "light"
          }
        }
      ]
    },
    {
      "cell_type": "code",
      "metadata": {
        "id": "ITwsnBrNMfqh",
        "colab_type": "code",
        "colab": {
          "base_uri": "https://localhost:8080/",
          "height": 743
        },
        "outputId": "e51d49f2-d589-46b7-ee7e-87d8d9853e04"
      },
      "source": [
        "checkpoint_path = path + 'checkpoint_otgan_v10_generator.pt' #after 6 epochs\n",
        "plot_gen_images(checkpoint_path, generator=Generator(), plot_history=True)"
      ],
      "execution_count": 89,
      "outputs": [
        {
          "output_type": "stream",
          "text": [
            "args \n",
            "\n",
            "batch_size 128\n",
            "val_batch_size 128\n",
            "n_epochs 10\n",
            "lr 0.002\n",
            "beta1 0.5\n",
            "beta2 0.999\n",
            "seed 1\n",
            "cuda True\n",
            "n_gen 2\n"
          ],
          "name": "stdout"
        },
        {
          "output_type": "stream",
          "text": [
            "/usr/local/lib/python3.6/dist-packages/torch/nn/functional.py:1558: UserWarning: nn.functional.tanh is deprecated. Use torch.tanh instead.\n",
            "  warnings.warn(\"nn.functional.tanh is deprecated. Use torch.tanh instead.\")\n"
          ],
          "name": "stderr"
        },
        {
          "output_type": "display_data",
          "data": {
            "image/png": "[encoded data removed]",
            "text/plain": [
              "<Figure size 720x360 with 4 Axes>"
            ]
          },
          "metadata": {
            "tags": [],
            "needs_background": "light"
          }
        },
        {
          "output_type": "display_data",
          "data": {
            "image/png": "[encoded data removed]",
            "text/plain": [
              "<Figure size 720x360 with 1 Axes>"
            ]
          },
          "metadata": {
            "tags": [],
            "needs_background": "light"
          }
        }
      ]
    },
    {
      "cell_type": "code",
      "metadata": {
        "id": "3m__1mv-TrHm",
        "colab_type": "code",
        "colab": {
          "base_uri": "https://localhost:8080/",
          "height": 743
        },
        "outputId": "5d6a37f5-22d8-45ff-a9be-e69d8ddd7857"
      },
      "source": [
        "checkpoint_path = path + 'checkpoint_otgan_v11_generator.pt' #after 6 epochs\n",
        "plot_gen_images(checkpoint_path, generator=Generator(), plot_history=True)"
      ],
      "execution_count": 91,
      "outputs": [
        {
          "output_type": "stream",
          "text": [
            "args \n",
            "\n",
            "batch_size 128\n",
            "val_batch_size 128\n",
            "n_epochs 10\n",
            "lr 0.0002\n",
            "beta1 0.5\n",
            "beta2 0.999\n",
            "seed 1\n",
            "cuda True\n",
            "n_gen 2\n"
          ],
          "name": "stdout"
        },
        {
          "output_type": "stream",
          "text": [
            "/usr/local/lib/python3.6/dist-packages/torch/nn/functional.py:1558: UserWarning: nn.functional.tanh is deprecated. Use torch.tanh instead.\n",
            "  warnings.warn(\"nn.functional.tanh is deprecated. Use torch.tanh instead.\")\n"
          ],
          "name": "stderr"
        },
        {
          "output_type": "display_data",
          "data": {
            "image/png": "[encoded data removed]",
            "text/plain": [
              "<Figure size 720x360 with 4 Axes>"
            ]
          },
          "metadata": {
            "tags": [],
            "needs_background": "light"
          }
        },
        {
          "output_type": "display_data",
          "data": {
            "image/png": "[encoded data removed]",
            "text/plain": [
              "<Figure size 720x360 with 1 Axes>"
            ]
          },
          "metadata": {
            "tags": [],
            "needs_background": "light"
          }
        }
      ]
    },
    {
      "cell_type": "code",
      "metadata": {
        "id": "aNmCyjKgMfoI",
        "colab_type": "code",
        "colab": {}
      },
      "source": [
        ""
      ],
      "execution_count": 0,
      "outputs": []
    },
    {
      "cell_type": "code",
      "metadata": {
        "id": "qey2tWpaMfmF",
        "colab_type": "code",
        "colab": {}
      },
      "source": [
        ""
      ],
      "execution_count": 0,
      "outputs": []
    },
    {
      "cell_type": "code",
      "metadata": {
        "id": "OkcRG8Xqs9eI",
        "colab_type": "code",
        "colab": {}
      },
      "source": [
        "\n",
        "# class NoiseDB(VisionDataset):\n",
        "#     '''Class with noise data'''\n",
        "#     def __init__(self, dataset):\n",
        "#         self.images = dataset\n",
        "#         self.target = [0 for i in range(len(dataset))]\n",
        "#         self.root = \"add/pickle/location\"\n",
        "        \n",
        "#         # Check length of target and image match\n",
        "#         assert len(self.images) == len(self.target)\n",
        "        \n",
        "#     def __len__(self):\n",
        "#         return len(self.images)\n",
        "\n",
        "#     def __getitem__(self, index):\n",
        "#         target = self.target[index]\n",
        "#         img = self.images[index]\n",
        "            \n",
        "#         return img, target"
      ],
      "execution_count": 0,
      "outputs": []
    },
    {
      "cell_type": "code",
      "metadata": {
        "id": "MLU57A7uHtiz",
        "colab_type": "code",
        "colab": {}
      },
      "source": [
        "# class ConcatenateDB(VisionDataset):\n",
        "#     '''Class to concatenate two dataset and return a tuple\n",
        "#     Inputs : datasets to concatenate \n",
        "#     /!\\ Assumptions :\n",
        "#     - several datasets are provided\n",
        "#     - both an image and a target are available (full of 0 if no target exists)\n",
        "#     - the datasets are of same size \n",
        "#     Output : an iterable dataset, with a tuple of images and a tuple of targets provided at each iteration\n",
        "#     '''\n",
        "#     def __init__(self, *datasets):\n",
        "#         nb_datasets = len(datasets)\n",
        "#         len_datasets = len(datasets[0]) #assumes all datasets have the same length\n",
        "#         all_images = [[DB[i][0] for i in range(len_datasets)] for DB in datasets]\n",
        "#         all_targets = [[DB[i][1] for i in range(len_datasets)] for DB in datasets]\n",
        "        \n",
        "#         self.images = list(zip(*all_images))\n",
        "#         self.targets = list(zip(*all_targets))\n",
        "#         self.root = \"add/pickle/location\"\n",
        "        \n",
        "#         # Check length of target and image match\n",
        "#         assert len(self.images) == len(self.targets)\n",
        "        \n",
        "#     def __len__(self):\n",
        "#         return len(self.images)\n",
        "\n",
        "#     def __getitem__(self, index):\n",
        "#         target = self.targets[index]\n",
        "#         img = self.images[index]\n",
        "            \n",
        "#         return img, target"
      ],
      "execution_count": 0,
      "outputs": []
    },
    {
      "cell_type": "code",
      "metadata": {
        "id": "otO1vta0H2QL",
        "colab_type": "code",
        "colab": {}
      },
      "source": [
        "# # Trainset that concatenates the MNIST dataset and a dataset full of noise\n",
        "# conc_trainset = ConcatenateDB(trainset_pad,Noise_trainset)\n",
        "# # Data loader\n",
        "# conc_loader = DataLoader(conc_trainset, args['batch_size'], shuffle=True, **kwargs)"
      ],
      "execution_count": 0,
      "outputs": []
    },
    {
      "cell_type": "code",
      "metadata": {
        "colab_type": "code",
        "id": "AFKXluw4MgJn",
        "colab": {}
      },
      "source": [
        "# #philo\n",
        "\n",
        "\n",
        "# all_loss_G = []\n",
        "# all_loss_C = []\n",
        "# all_synth_img = []\n",
        "# all_features_real = []\n",
        "# all_features_synth = []\n",
        "    \n",
        "# def train(model_C, model_G, loader, optimizer_C, optimizer_G, args, epoch, device = 'cpu'):\n",
        "#     print('Training epoch {:d}'.format(epoch))\n",
        "    \n",
        "#     model_G.train() #?? ca fait quoi cette fonction\n",
        "#     model_C.train()\n",
        "\n",
        "#     # /!\\/!\\To uncomment (defined outside for now do to memory issues)\n",
        "# #     all_loss_G = []\n",
        "# #     all_loss_C = []\n",
        "# #     all_synth_img = []\n",
        "# #     all_features_real = []\n",
        "# #     all_features_synth = []\n",
        "\n",
        "#     for batch_idx, ((img, noise), (target, _)) in loader:\n",
        "#         ## Sample two independent minibatches\n",
        "\n",
        "#         # Sample a first minibatch\n",
        "#         X = img.to(device)\n",
        "#         Z = noise.detach().to(device)\n",
        "\n",
        "#         # Take the next step of iterator to sample a second minibatch\n",
        "#         batch_idx, ((imgp, noisep),(targetp, _p)) = next(loader)\n",
        "#         Xp = imgp.to(device)\n",
        "#         Zp = noisep.detach().to(device)\n",
        "\n",
        "#         # Embed real images into feature space by applying critic\n",
        "#         out_X = model_C(X).to(device) #added\n",
        "#         out_Xp = model_C(Xp).to(device) #added\n",
        "#         all_features_real.append((out_X,out_Xp))\n",
        "\n",
        "#         # Generate synthesized image from noise\n",
        "#         Y = model_G(Z)\n",
        "#         Yp = model_G(Zp)\n",
        "#         all_synth_img.append((Y,Yp))\n",
        "\n",
        "#         # Embed synthesized images into the feature space by using the critic\n",
        "#         # Question : remove gradient coming from the generator part ?? --> cf .detach()\n",
        "#         out_Y = model_C(Y.detach()).to(device) #added\n",
        "#         out_Yp = model_C(Yp.detach()).to(device) #added\n",
        "#         all_features_synth.append((out_Y,out_Yp))\n",
        "\n",
        "#         # Generator's update\n",
        "#         loss_G = loss_cos_dist(out_X,out_Xp,out_Y,out_Yp, detach = False, device = device)\n",
        "#         loss_G.backward(retain_graph=True) #?\n",
        "#         optimizer_G.step()\n",
        "#         optimizer_G.zero_grad()\n",
        "#         all_loss_G.append(loss_G)\n",
        "\n",
        "#         # Critic update (take into account the fact that we sample two minibatches at each round)\n",
        "#         if batch_idx % (2*args[\"n_gen\"]) == 0 :\n",
        "#             loss_C = -loss_G\n",
        "#             loss_C.backward()\n",
        "#             optimizer_C.step()\n",
        "#             optimizer_C.zero_grad()\n",
        "#             all_loss_C.append(loss_C)\n",
        "    \n",
        "#     return {\"loss_C\": all_loss_C,\n",
        "#            \"loss_G\": all_loss_G,\n",
        "#            \"all_synth_img\": all_synth_img,\n",
        "#            \"all_features_synth\" : all_features_synth,\n",
        "#            \"all_features_real\" : all_features_real}"
      ],
      "execution_count": 0,
      "outputs": []
    },
    {
      "cell_type": "code",
      "metadata": {
        "colab_type": "code",
        "id": "dPNruvvVMgJs",
        "colab": {}
      },
      "source": [
        "# ######### Initialize everything again\n",
        "# # Load critic\n",
        "# model_C = Critic32x32()\n",
        "# model_C = model_C.to(device)\n",
        "# optimizer_C = torch.optim.Adam(params = model_C.parameters(), lr=args[\"lr\"], betas=(args[\"beta1\"], args[\"beta2\"]))\n",
        "\n",
        "# # Load generator\n",
        "# model_G = Generator32x32()\n",
        "# model_G = model_G.to(device)\n",
        "# optimizer_G = torch.optim.Adam(params = model_G.parameters(), lr=args[\"lr\"], betas=(args[\"beta1\"], args[\"beta2\"]))\n",
        "\n",
        "# # Check have an even number of minibatches\n",
        "# assert len(conc_trainset) % 2 == 0\n",
        "\n",
        "# ######### Define iterator\n",
        "# conc_iterator = enumerate(conc_loader)\n",
        "\n",
        "\n",
        "# ######## Test training\n",
        "# train_result=[]\n",
        "# for epoch in range(args[\"epochs\"]):\n",
        "#     train_result.append(train(model_C, model_G, conc_iterator, optimizer_C, optimizer_G, args, epoch, device = device))"
      ],
      "execution_count": 0,
      "outputs": []
    },
    {
      "cell_type": "markdown",
      "metadata": {
        "colab_type": "text",
        "id": "PfC_eDdbMgJy"
      },
      "source": [
        "Plot synthesized images after initialization of the generator network. \n",
        "\n",
        "**TODO** : check if padding is a problem when training the model --> look at the border of synthesized images"
      ]
    },
    {
      "cell_type": "code",
      "metadata": {
        "colab_type": "code",
        "id": "aHGGa2omMgJz",
        "colab": {}
      },
      "source": [
        "# ##### First epoch\n",
        "# # all_synth_img = train_result[0][\"all_synth_img\"]\n",
        "\n",
        "# fig, ax = plt.subplots(1,4, figsize=(15,7))\n",
        "# # First iteration (only take the first image of each minibatch)\n",
        "# ax[0].imshow(all_synth_img[0][0][0][0].detach(), cmap=plt.cm.gray)\n",
        "# ax[1].imshow(all_synth_img[0][1][0][0].detach(), cmap=plt.cm.gray)\n",
        "# # Second iteration\n",
        "# ax[2].imshow(all_synth_img[1][0][0][0].detach(), cmap=plt.cm.gray)\n",
        "# ax[3].imshow(all_synth_img[1][1][0][0].detach(), cmap=plt.cm.gray)\n",
        "# plt.suptitle(\"Plot generated images after two iterations\")\n",
        "# plt.subplots_adjust(top=1.2)\n",
        "# plt.show()"
      ],
      "execution_count": 0,
      "outputs": []
    }
  ]
}