{
  "nbformat": 4,
  "nbformat_minor": 0,
  "metadata": {
    "accelerator": "GPU",
    "colab": {
      "name": "OTGAN.ipynb",
      "provenance": [],
      "collapsed_sections": [],
      "toc_visible": true,
      "machine_shape": "hm"
    },
    "kernelspec": {
      "display_name": "Python 3",
      "language": "python",
      "name": "python3"
    },
    "language_info": {
      "codemirror_mode": {
        "name": "ipython",
        "version": 3
      },
      "file_extension": ".py",
      "mimetype": "text/x-python",
      "name": "python",
      "nbconvert_exporter": "python",
      "pygments_lexer": "ipython3",
      "version": "3.7.4"
    },
    "widgets": {
      "application/vnd.jupyter.widget-state+json": {
        "192d87b1104d48db8646060486e6cc58": {
          "model_module": "@jupyter-widgets/controls",
          "model_name": "HBoxModel",
          "state": {
            "_view_name": "HBoxView",
            "_dom_classes": [],
            "_model_name": "HBoxModel",
            "_view_module": "@jupyter-widgets/controls",
            "_model_module_version": "1.5.0",
            "_view_count": null,
            "_view_module_version": "1.5.0",
            "box_style": "",
            "layout": "IPY_MODEL_f9a6d3ac98214ff1b3406f332d17b385",
            "_model_module": "@jupyter-widgets/controls",
            "children": [
              "IPY_MODEL_fb9ac092f26144c7967deca92910847d",
              "IPY_MODEL_b8672d66230b48f1a2585b22bc0ceed8"
            ]
          }
        },
        "f9a6d3ac98214ff1b3406f332d17b385": {
          "model_module": "@jupyter-widgets/base",
          "model_name": "LayoutModel",
          "state": {
            "_view_name": "LayoutView",
            "grid_template_rows": null,
            "right": null,
            "justify_content": null,
            "_view_module": "@jupyter-widgets/base",
            "overflow": null,
            "_model_module_version": "1.2.0",
            "_view_count": null,
            "flex_flow": null,
            "width": null,
            "min_width": null,
            "border": null,
            "align_items": null,
            "bottom": null,
            "_model_module": "@jupyter-widgets/base",
            "top": null,
            "grid_column": null,
            "overflow_y": null,
            "overflow_x": null,
            "grid_auto_flow": null,
            "grid_area": null,
            "grid_template_columns": null,
            "flex": null,
            "_model_name": "LayoutModel",
            "justify_items": null,
            "grid_row": null,
            "max_height": null,
            "align_content": null,
            "visibility": null,
            "align_self": null,
            "height": null,
            "min_height": null,
            "padding": null,
            "grid_auto_rows": null,
            "grid_gap": null,
            "max_width": null,
            "order": null,
            "_view_module_version": "1.2.0",
            "grid_template_areas": null,
            "object_position": null,
            "object_fit": null,
            "grid_auto_columns": null,
            "margin": null,
            "display": null,
            "left": null
          }
        },
        "fb9ac092f26144c7967deca92910847d": {
          "model_module": "@jupyter-widgets/controls",
          "model_name": "IntProgressModel",
          "state": {
            "_view_name": "ProgressView",
            "style": "IPY_MODEL_1392bd3bec2f48efbcd865f64e5f5ce9",
            "_dom_classes": [],
            "description": "  0%",
            "_model_name": "IntProgressModel",
            "bar_style": "danger",
            "max": 469,
            "_view_module": "@jupyter-widgets/controls",
            "_model_module_version": "1.5.0",
            "value": 1,
            "_view_count": null,
            "_view_module_version": "1.5.0",
            "orientation": "horizontal",
            "min": 0,
            "description_tooltip": null,
            "_model_module": "@jupyter-widgets/controls",
            "layout": "IPY_MODEL_f7836ae137f74055800f4591ee94782b"
          }
        },
        "b8672d66230b48f1a2585b22bc0ceed8": {
          "model_module": "@jupyter-widgets/controls",
          "model_name": "HTMLModel",
          "state": {
            "_view_name": "HTMLView",
            "style": "IPY_MODEL_46062b6ea37843f59e337fccdfa6946f",
            "_dom_classes": [],
            "description": "",
            "_model_name": "HTMLModel",
            "placeholder": "​",
            "_view_module": "@jupyter-widgets/controls",
            "_model_module_version": "1.5.0",
            "value": " 1/469 [00:03&lt;12:51,  1.65s/it]",
            "_view_count": null,
            "_view_module_version": "1.5.0",
            "description_tooltip": null,
            "_model_module": "@jupyter-widgets/controls",
            "layout": "IPY_MODEL_c56795c3b4ac44e99673251cd2f63fb5"
          }
        },
        "1392bd3bec2f48efbcd865f64e5f5ce9": {
          "model_module": "@jupyter-widgets/controls",
          "model_name": "ProgressStyleModel",
          "state": {
            "_view_name": "StyleView",
            "_model_name": "ProgressStyleModel",
            "description_width": "initial",
            "_view_module": "@jupyter-widgets/base",
            "_model_module_version": "1.5.0",
            "_view_count": null,
            "_view_module_version": "1.2.0",
            "bar_color": null,
            "_model_module": "@jupyter-widgets/controls"
          }
        },
        "f7836ae137f74055800f4591ee94782b": {
          "model_module": "@jupyter-widgets/base",
          "model_name": "LayoutModel",
          "state": {
            "_view_name": "LayoutView",
            "grid_template_rows": null,
            "right": null,
            "justify_content": null,
            "_view_module": "@jupyter-widgets/base",
            "overflow": null,
            "_model_module_version": "1.2.0",
            "_view_count": null,
            "flex_flow": null,
            "width": null,
            "min_width": null,
            "border": null,
            "align_items": null,
            "bottom": null,
            "_model_module": "@jupyter-widgets/base",
            "top": null,
            "grid_column": null,
            "overflow_y": null,
            "overflow_x": null,
            "grid_auto_flow": null,
            "grid_area": null,
            "grid_template_columns": null,
            "flex": null,
            "_model_name": "LayoutModel",
            "justify_items": null,
            "grid_row": null,
            "max_height": null,
            "align_content": null,
            "visibility": null,
            "align_self": null,
            "height": null,
            "min_height": null,
            "padding": null,
            "grid_auto_rows": null,
            "grid_gap": null,
            "max_width": null,
            "order": null,
            "_view_module_version": "1.2.0",
            "grid_template_areas": null,
            "object_position": null,
            "object_fit": null,
            "grid_auto_columns": null,
            "margin": null,
            "display": null,
            "left": null
          }
        },
        "46062b6ea37843f59e337fccdfa6946f": {
          "model_module": "@jupyter-widgets/controls",
          "model_name": "DescriptionStyleModel",
          "state": {
            "_view_name": "StyleView",
            "_model_name": "DescriptionStyleModel",
            "description_width": "",
            "_view_module": "@jupyter-widgets/base",
            "_model_module_version": "1.5.0",
            "_view_count": null,
            "_view_module_version": "1.2.0",
            "_model_module": "@jupyter-widgets/controls"
          }
        },
        "c56795c3b4ac44e99673251cd2f63fb5": {
          "model_module": "@jupyter-widgets/base",
          "model_name": "LayoutModel",
          "state": {
            "_view_name": "LayoutView",
            "grid_template_rows": null,
            "right": null,
            "justify_content": null,
            "_view_module": "@jupyter-widgets/base",
            "overflow": null,
            "_model_module_version": "1.2.0",
            "_view_count": null,
            "flex_flow": null,
            "width": null,
            "min_width": null,
            "border": null,
            "align_items": null,
            "bottom": null,
            "_model_module": "@jupyter-widgets/base",
            "top": null,
            "grid_column": null,
            "overflow_y": null,
            "overflow_x": null,
            "grid_auto_flow": null,
            "grid_area": null,
            "grid_template_columns": null,
            "flex": null,
            "_model_name": "LayoutModel",
            "justify_items": null,
            "grid_row": null,
            "max_height": null,
            "align_content": null,
            "visibility": null,
            "align_self": null,
            "height": null,
            "min_height": null,
            "padding": null,
            "grid_auto_rows": null,
            "grid_gap": null,
            "max_width": null,
            "order": null,
            "_view_module_version": "1.2.0",
            "grid_template_areas": null,
            "object_position": null,
            "object_fit": null,
            "grid_auto_columns": null,
            "margin": null,
            "display": null,
            "left": null
          }
        }
      }
    }
  },
  "cells": [
    {
      "cell_type": "markdown",
      "metadata": {
        "colab_type": "text",
        "id": "KwcZ3r_vMgGt"
      },
      "source": [
        "<center> <h1> OTGAN </h1> </center>\n",
        "\n",
        "\n",
        "Based on :\n",
        "\n",
        "[1] Tim Salimans, Han Zhang, Alec Radford, and Dimitris Metaxas. **Improving GANs using optimal\n",
        "transport.** In ICLR, 2018."
      ]
    },
    {
      "cell_type": "code",
      "metadata": {
        "colab_type": "code",
        "id": "AMQwFoyIMgGv",
        "colab": {}
      },
      "source": [
        "import numpy as np\n",
        "import matplotlib.pyplot as plt\n",
        "plt.rcParams['image.cmap'] = 'gray'\n",
        "import seaborn as sns \n",
        "sns.set(palette='gray')\n",
        "\n",
        "import os\n",
        "import argparse\n",
        "from datetime import datetime\n",
        "\n",
        "import torch\n",
        "import torchvision\n",
        "from torchvision import datasets, transforms\n",
        "import torch.nn as nn\n",
        "from torch import Tensor\n",
        "import torch.nn.functional as F\n",
        "import torch.optim as optim\n",
        "from torch.utils.data import DataLoader\n",
        "from torch.autograd import Variable\n",
        "from tqdm.auto import tqdm\n",
        "import pickle\n",
        "\n"
      ],
      "execution_count": 0,
      "outputs": []
    },
    {
      "cell_type": "code",
      "metadata": {
        "colab_type": "code",
        "id": "T2WXzqsHMgG0",
        "colab": {}
      },
      "source": [
        "# path = \"C:/Users/Philo/Documents/3A -- ENSAE/Optimal transport/OTGAN\"\n",
        "# os.chdir(path)"
      ],
      "execution_count": 0,
      "outputs": []
    },
    {
      "cell_type": "markdown",
      "metadata": {
        "colab_type": "text",
        "id": "Yk-2d_i5MgG5"
      },
      "source": [
        "### Model parameters and hyperparameters"
      ]
    },
    {
      "cell_type": "code",
      "metadata": {
        "colab_type": "code",
        "id": "fIz-tJ9HMgG6",
        "colab": {}
      },
      "source": [
        "args={}\n",
        "kwargs={}\n",
        "args['batch_size']=128\n",
        "args['val_batch_size']=128\n",
        "args['n_epochs']=2\n",
        "\n",
        "# Use the same value as author's for CIFAR for Adam LR and beta values :\n",
        "args['lr']=3e-4\n",
        "args['beta1']= 0.5\n",
        "args['beta2']= 0.999\n",
        "\n",
        "\n",
        "args['seed']=1 #random seed\n",
        "args['cuda']=True if torch.cuda.is_available() else False\n",
        "device = \"cuda\" if args['cuda']==True else \"cpu\"\n",
        "\n",
        "\n",
        "args[\"n_gen\"] = 3 # number of generator updates per critic update (as in CIFAR's example)"
      ],
      "execution_count": 0,
      "outputs": []
    },
    {
      "cell_type": "code",
      "metadata": {
        "id": "wnasx2vI47bb",
        "colab_type": "code",
        "outputId": "fee7547b-dd16-4ebb-ae0d-86d5d90baa50",
        "colab": {
          "base_uri": "https://localhost:8080/",
          "height": 204
        }
      },
      "source": [
        "print ('parameters \\n')\n",
        "for key in args.keys():\n",
        "  print(key, args[key])"
      ],
      "execution_count": 4,
      "outputs": [
        {
          "output_type": "stream",
          "text": [
            "parameters \n",
            "\n",
            "batch_size 128\n",
            "val_batch_size 128\n",
            "n_epochs 2\n",
            "lr 0.0003\n",
            "beta1 0.5\n",
            "beta2 0.999\n",
            "seed 1\n",
            "cuda True\n",
            "n_gen 3\n"
          ],
          "name": "stdout"
        }
      ]
    },
    {
      "cell_type": "code",
      "metadata": {
        "colab_type": "code",
        "id": "tLWBAMwjMgG9",
        "outputId": "1e1115ca-db21-47ef-bb20-3b4ef5683e36",
        "colab": {
          "base_uri": "https://localhost:8080/",
          "height": 34
        }
      },
      "source": [
        "# Random seeds\n",
        "np.random.seed(args['seed'])\n",
        "torch.random.manual_seed(args['seed']) #noGPU\n",
        "# torch.cuda.seed(args['seed']) #single GPU\n",
        "# torch.cuda.manual_seed_all(args['seed']) #several GPUs\n"
      ],
      "execution_count": 5,
      "outputs": [
        {
          "output_type": "execute_result",
          "data": {
            "text/plain": [
              "<torch._C.Generator at 0x7ff41af84730>"
            ]
          },
          "metadata": {
            "tags": []
          },
          "execution_count": 5
        }
      ]
    },
    {
      "cell_type": "code",
      "metadata": {
        "id": "6d2CVrs17LBD",
        "colab_type": "code",
        "outputId": "52cf77b4-569b-4c69-8fd1-f8d8ba6fa919",
        "colab": {
          "base_uri": "https://localhost:8080/",
          "height": 122
        }
      },
      "source": [
        "#if using colab \n",
        "colab = True\n",
        "if colab:\n",
        "  from google.colab import drive\n",
        "  drive.mount('/content/drive')"
      ],
      "execution_count": 6,
      "outputs": [
        {
          "output_type": "stream",
          "text": [
            "Go to this URL in a browser: https://accounts.google.com/o/oauth2/auth?client_id=947318989803-6bn6qk8qdgf4n4g3pfee6491hc0brc4i.apps.googleusercontent.com&redirect_uri=urn%3aietf%3awg%3aoauth%3a2.0%3aoob&response_type=code&scope=email%20https%3a%2f%2fwww.googleapis.com%2fauth%2fdocs.test%20https%3a%2f%2fwww.googleapis.com%2fauth%2fdrive%20https%3a%2f%2fwww.googleapis.com%2fauth%2fdrive.photos.readonly%20https%3a%2f%2fwww.googleapis.com%2fauth%2fpeopleapi.readonly\n",
            "\n",
            "Enter your authorization code:\n",
            "··········\n",
            "Mounted at /content/drive\n"
          ],
          "name": "stdout"
        }
      ]
    },
    {
      "cell_type": "markdown",
      "metadata": {
        "colab_type": "text",
        "id": "JqBjN5zcMgHD"
      },
      "source": [
        "# Data preprocessing"
      ]
    },
    {
      "cell_type": "markdown",
      "metadata": {
        "colab_type": "text",
        "id": "icK2qFJVMgHE"
      },
      "source": [
        "##  MNIST dataset\n",
        "\n",
        "- Mnist (train set ) : 60000  gray images representing digits of size 28 x 28\n",
        "Usps  (train set ) \n",
        "- We normalize them by substracting the mean and the std"
      ]
    },
    {
      "cell_type": "code",
      "metadata": {
        "colab_type": "code",
        "id": "2zL9nDggMgHE",
        "colab": {}
      },
      "source": [
        "path_data = '/content/drive/My Drive/optimal_transport/data'  #where to download data\n",
        "path = '/content/drive/My Drive/optimal_transport/' #where to save pickle with trained model\n",
        "#path_data = '../data/MNIST'\n",
        "\n",
        "# Define dataset transformation\n",
        "transform = transforms.Compose([transforms.ToTensor(),\n",
        "                              transforms.Normalize((0.1307,), (0.3081,)) #use MNIST mean and std #A changer ?\n",
        "                              ])\n",
        "\n",
        "# ## Preliminary step : download dataset\n",
        "trainset = datasets.MNIST(root= path_data, download=True, train=True, transform=transform)\n",
        "# valset = datasets.MNIST('../data/MNIST', download=True, train=False, transform=transform)\n",
        "\n",
        "trainset = torchvision.datasets.MNIST(root=path_data, train=True, transform=transform)\n",
        "# valset = torchvision.datasets.MNIST('../data/MNIST', train=False, transform=transform)\n"
      ],
      "execution_count": 0,
      "outputs": []
    },
    {
      "cell_type": "code",
      "metadata": {
        "id": "JZ6FFp4a8MDg",
        "colab_type": "code",
        "outputId": "eebe2d29-e96c-4998-92a7-3a6cdb23ef46",
        "colab": {
          "base_uri": "https://localhost:8080/",
          "height": 170
        }
      },
      "source": [
        "trainset"
      ],
      "execution_count": 8,
      "outputs": [
        {
          "output_type": "execute_result",
          "data": {
            "text/plain": [
              "Dataset MNIST\n",
              "    Number of datapoints: 60000\n",
              "    Root location: /content/drive/My Drive/optimal_transport/data\n",
              "    Split: Train\n",
              "    StandardTransform\n",
              "Transform: Compose(\n",
              "               ToTensor()\n",
              "               Normalize(mean=(0.1307,), std=(0.3081,))\n",
              "           )"
            ]
          },
          "metadata": {
            "tags": []
          },
          "execution_count": 8
        }
      ]
    },
    {
      "cell_type": "code",
      "metadata": {
        "colab_type": "code",
        "id": "0YgaNHH2MgHI",
        "outputId": "a8d81e08-54eb-4e27-8123-0a02d956a000",
        "colab": {
          "base_uri": "https://localhost:8080/",
          "height": 298
        }
      },
      "source": [
        "index = 10\n",
        "print(\"Size of the input image : \",trainset[index][0].size())\n",
        "plt.imshow(trainset[index][0].view(trainset[index][0].size()[1],trainset[index][0].size()[2]))\n",
        "plt.title(\"Initial image, Target label : \"+str(trainset[index][1]))\n",
        "plt.show()"
      ],
      "execution_count": 9,
      "outputs": [
        {
          "output_type": "stream",
          "text": [
            "Size of the input image :  torch.Size([1, 28, 28])\n"
          ],
          "name": "stdout"
        },
        {
          "output_type": "display_data",
          "data": {
            "image/png": "[encoded data removed]",
            "text/plain": [
              "<Figure size 432x288 with 1 Axes>"
            ]
          },
          "metadata": {
            "tags": [],
            "needs_background": "light"
          }
        }
      ]
    },
    {
      "cell_type": "markdown",
      "metadata": {
        "colab_type": "text",
        "id": "oGhkKfNIMgHN"
      },
      "source": [
        "### Train and validation loaders"
      ]
    },
    {
      "cell_type": "code",
      "metadata": {
        "colab_type": "code",
        "id": "N5QdU7veMgHP",
        "colab": {}
      },
      "source": [
        "train_loader = DataLoader(trainset, args['batch_size'], shuffle=True, **kwargs)\n",
        "# val_loader = DataLoader(valset, args['val_batch_size'], shuffle=True, **kwargs)"
      ],
      "execution_count": 0,
      "outputs": []
    },
    {
      "cell_type": "markdown",
      "metadata": {
        "colab_type": "text",
        "id": "XiNaT5ttMgHT"
      },
      "source": [
        "### pad the images or resize them  to obtain 32x32 images\n",
        "\n",
        "- We need to get images of this size to use the same architecture as in the article "
      ]
    },
    {
      "cell_type": "code",
      "metadata": {
        "colab_type": "code",
        "id": "W1UI1ssxMgHU",
        "colab": {}
      },
      "source": [
        "from torchvision.datasets import VisionDataset\n",
        "from torchvision import transforms"
      ],
      "execution_count": 0,
      "outputs": []
    },
    {
      "cell_type": "code",
      "metadata": {
        "colab_type": "code",
        "id": "Iy79J1aBMgHX",
        "colab": {}
      },
      "source": [
        "# check_black = [tup[0][0,0,0].item() for tup in trainset]+[tup[0][0,0,0].item() for tup in valset]\n",
        "# assert len(check_black) == len(trainset) + len(valset)\n",
        "# padding_val = list(set(check_black))[0]\n",
        "padding_val = trainset[0][0][0][0][0]\n",
        "resizing_val = 32"
      ],
      "execution_count": 0,
      "outputs": []
    },
    {
      "cell_type": "code",
      "metadata": {
        "id": "McPe-FtK2BaL",
        "colab_type": "code",
        "outputId": "0ca7bf30-240d-4b02-8ecb-766536dd6487",
        "colab": {
          "base_uri": "https://localhost:8080/",
          "height": 34
        }
      },
      "source": [
        "padding_val.item()"
      ],
      "execution_count": 13,
      "outputs": [
        {
          "output_type": "execute_result",
          "data": {
            "text/plain": [
              "-0.4242129623889923"
            ]
          },
          "metadata": {
            "tags": []
          },
          "execution_count": 13
        }
      ]
    },
    {
      "cell_type": "code",
      "metadata": {
        "colab_type": "code",
        "id": "gQA2xI6mMgHd",
        "colab": {}
      },
      "source": [
        "class MNISTPad(VisionDataset):\n",
        "    '''Class of dataset MNIST padded\n",
        "\n",
        "    Attributes\n",
        "    dataset : initial data set \n",
        "    rescaling_method : string : string \" either padding or resizing\n",
        "    padding : integer :value of padding if rescaling_method = padding\n",
        "    resize_shape: integer : value of resized image  if rescaling_method = 'resizing\n",
        "    '''\n",
        "\n",
        "    def __init__(self, dataset, rescaling_method = 'padding', padding=2, \n",
        "                 resize_shape=None):\n",
        "        self.images = [tup[0] for tup in dataset]\n",
        "        self.target = [tup[1] for tup in dataset]\n",
        "        self.rescaling_method = rescaling_method  \n",
        "        self.padding = padding \n",
        "        self.resize_shape = resize_shape \n",
        "        self.root = dataset \n",
        "        \n",
        "        # Check length of target and image match\n",
        "        assert len(self.images) == len(self.target)\n",
        "        \n",
        "    def __len__(self):\n",
        "        return len(self.images)\n",
        "\n",
        "    def __getitem__(self, index):\n",
        "        target = self.target[index]\n",
        "        img = self.images[index]\n",
        "        if self.rescaling_method == \"padding\":\n",
        "            img = F.pad(img, \n",
        "                        # utiliser l'étoile ? \n",
        "                        pad=(self.padding, self.padding, self.padding, self.padding),\n",
        "                        mode='constant', value=padding_val)\n",
        "        \n",
        "        if self.rescaling_method  == \"resizing\":\n",
        "            #TODO : add the resizing option instead of padding \n",
        "            self.transform = Compose([\n",
        "#                         transforms.ToPILImage(),\n",
        "                        transforms.Resize(self.resize_shape),\n",
        "                        transforms.ToTensor(),\n",
        "                        ])\n",
        "            img = self.transform(img)\n",
        "            \n",
        "        return img, target"
      ],
      "execution_count": 0,
      "outputs": []
    },
    {
      "cell_type": "code",
      "metadata": {
        "colab_type": "code",
        "id": "0-9SKgYKMgHn",
        "outputId": "986e789a-b0e3-4b62-b510-47a05c34d5ff",
        "colab": {
          "base_uri": "https://localhost:8080/",
          "height": 204
        }
      },
      "source": [
        "#trainset with padding images \n",
        "trainset_pad = MNISTPad(trainset, \"padding\", 2)\n",
        "trainset_pad"
      ],
      "execution_count": 15,
      "outputs": [
        {
          "output_type": "execute_result",
          "data": {
            "text/plain": [
              "Dataset MNISTPad\n",
              "    Number of datapoints: 60000\n",
              "    Root location: Dataset MNIST\n",
              "    Number of datapoints: 60000\n",
              "    Root location: /content/drive/My Drive/optimal_transport/data\n",
              "    Split: Train\n",
              "    StandardTransform\n",
              "Transform: Compose(\n",
              "               ToTensor()\n",
              "               Normalize(mean=(0.1307,), std=(0.3081,))\n",
              "           )"
            ]
          },
          "metadata": {
            "tags": []
          },
          "execution_count": 15
        }
      ]
    },
    {
      "cell_type": "code",
      "metadata": {
        "id": "vV51trWu2hWG",
        "colab_type": "code",
        "colab": {}
      },
      "source": [
        "# trainset_resized= MNISTPad(trainset, rescaling_method='resizing', resize_shape=32)"
      ],
      "execution_count": 0,
      "outputs": []
    },
    {
      "cell_type": "markdown",
      "metadata": {
        "id": "SwyY8hjBslxJ",
        "colab_type": "text"
      },
      "source": [
        "#### using the transforms\n"
      ]
    },
    {
      "cell_type": "code",
      "metadata": {
        "id": "HlbvpI9OstRd",
        "colab_type": "code",
        "colab": {}
      },
      "source": [
        "#padding_transform = transforms.Compose([\n",
        "                  #transforms.Pad(padding=2, fill=padding_val.item()), \n",
        "                    #transforms.Normalize((0.1307,), (0.3081,)), #cette ligne fait buguer le loader\n",
        "                    #transforms.ToTensor()])\n",
        "#trainset_pad= datasets.MNIST(root = path_data, download=True, train=True, transform=padding_transform )"
      ],
      "execution_count": 0,
      "outputs": []
    },
    {
      "cell_type": "code",
      "metadata": {
        "id": "WQvcEbfTtgsO",
        "colab_type": "code",
        "colab": {}
      },
      "source": [
        "#trainset_pad[0]"
      ],
      "execution_count": 0,
      "outputs": []
    },
    {
      "cell_type": "code",
      "metadata": {
        "id": "U2JLhzBH5zbd",
        "colab_type": "code",
        "colab": {}
      },
      "source": [
        "resized_transform = transforms.Compose([\n",
        "                    transforms.Resize(32), \n",
        "                    #transforms.Normalize((0.1307,), (0.3081,)), #cette ligne fait buguer le loader\n",
        "                    transforms.ToTensor()])\n",
        "trainset_resized = datasets.MNIST(root = path_data, download=True, train=True, transform=resized_transform )"
      ],
      "execution_count": 0,
      "outputs": []
    },
    {
      "cell_type": "code",
      "metadata": {
        "colab_type": "code",
        "id": "4Cu_v7dqMgHt",
        "colab": {}
      },
      "source": [
        "# valset_pad = MNISTPad(valset, \"padding\", 2)\n",
        "# valset_pad"
      ],
      "execution_count": 0,
      "outputs": []
    },
    {
      "cell_type": "markdown",
      "metadata": {
        "colab_type": "text",
        "id": "Kuv5LYKlMgH7"
      },
      "source": [
        "###New Train and validation loaders"
      ]
    },
    {
      "cell_type": "code",
      "metadata": {
        "colab_type": "code",
        "id": "SCmMyW9_MgH7",
        "colab": {}
      },
      "source": [
        "train_pad_loader = DataLoader(trainset_pad, args['batch_size'], shuffle=True, **kwargs)\n",
        "train_resized_loader = DataLoader(trainset_resized, args['batch_size'], shuffle=True, **kwargs)"
      ],
      "execution_count": 0,
      "outputs": []
    },
    {
      "cell_type": "code",
      "metadata": {
        "id": "LZHmNWEy_cSx",
        "colab_type": "code",
        "outputId": "608cdab9-be51-4191-e459-2746953dd92f",
        "colab": {
          "base_uri": "https://localhost:8080/",
          "height": 51
        }
      },
      "source": [
        "dataiter_mnist_resized = iter(train_resized_loader)\n",
        "dataiter_mnist_pad = iter(train_pad_loader)\n",
        "images_mnist_resized, _ = dataiter_mnist_resized.next()\n",
        "images_mnist_pad, _ = dataiter_mnist_pad.next()\n",
        "print('mnist shape resized ', images_mnist_resized.shape) \n",
        "print('mnist shape padded ', images_mnist_pad.shape) \n"
      ],
      "execution_count": 22,
      "outputs": [
        {
          "output_type": "stream",
          "text": [
            "mnist shape resized  torch.Size([128, 1, 32, 32])\n",
            "mnist shape padded  torch.Size([128, 1, 32, 32])\n"
          ],
          "name": "stdout"
        }
      ]
    },
    {
      "cell_type": "code",
      "metadata": {
        "id": "1oGxVvNfJ_Or",
        "colab_type": "code",
        "outputId": "09f65f35-fa9f-4758-94ed-9ff9c04702fe",
        "colab": {
          "base_uri": "https://localhost:8080/",
          "height": 318
        }
      },
      "source": [
        "fig, ax = plt.subplots(1, 2, figsize=(10,5))\n",
        "ax[0].imshow(images_mnist_pad[0].numpy().squeeze())\n",
        "ax[0].set_title('padded image')\n",
        "ax[1].imshow(images_mnist_resized[0].numpy().squeeze())\n",
        "ax[1].set_title('resized image')\n",
        "plt.show()"
      ],
      "execution_count": 23,
      "outputs": [
        {
          "output_type": "display_data",
          "data": {
            "image/png": "[encoded data removed]",
            "text/plain": [
              "<Figure size 720x360 with 2 Axes>"
            ]
          },
          "metadata": {
            "tags": [],
            "needs_background": "light"
          }
        }
      ]
    },
    {
      "cell_type": "markdown",
      "metadata": {
        "colab_type": "text",
        "id": "jmbE4hehMgIA"
      },
      "source": [
        "## Create gaussian mixture 'images'"
      ]
    },
    {
      "cell_type": "code",
      "metadata": {
        "colab_type": "code",
        "id": "5NwkZgqtMgIB",
        "colab": {}
      },
      "source": [
        "def simulate_gaussian_mixture(cov_mixt_ratio, size_mixt, nb_modes = 8):\n",
        "    '''Simulate gaussian mixture with nb_modes modes arranges around the unit circle\n",
        "    Inputs :\n",
        "    cov_mixt_ratio : the ratio by which the identity is divided when defining the covariance matrix\n",
        "    size_mixt : the size of the vector for EACH gaussian. #number of points generated for each gaussian\n",
        "    nb_modes : the number of gaussiam  mixtures\n",
        "    Outputs : \n",
        "    a numpy array of dimension (size_mixt*nb_modes , 2)\n",
        "    '''\n",
        "    val = np.arange(0,2*np.pi,np.pi/(nb_modes/2)) \n",
        "    x_val = np.cos(val)\n",
        "    y_val = np.sin(val)\n",
        "    mixture = []\n",
        "    for i in range(len(val)):\n",
        "        mixture.append(np.random.multivariate_normal(mean = [x_val[i],y_val[i]], cov = np.identity(2)/cov_mixt_ratio, size = size_mixt))\n",
        "\n",
        "    mixture_vect = mixture[0]\n",
        "    for i in range(1,len(val)):\n",
        "        mixture_vect = np.concatenate([mixture_vect,mixture[i]])\n",
        "    return mixture_vect"
      ],
      "execution_count": 0,
      "outputs": []
    },
    {
      "cell_type": "code",
      "metadata": {
        "colab_type": "code",
        "id": "hhuCdA6bMgIE",
        "outputId": "e8ed0460-2ad8-4df1-8d48-4c2b61c6d0a4",
        "colab": {
          "base_uri": "https://localhost:8080/",
          "height": 281
        }
      },
      "source": [
        "nb_modes = 8\n",
        "size_mixt = 100\n",
        "cov_mixt_ratio = 50 #aparent modes but not too separeted\n",
        "mixture_vect = simulate_gaussian_mixture(cov_mixt_ratio, size_mixt, nb_modes)\n",
        "plt.scatter(mixture_vect[:,0],mixture_vect[:,1])\n",
        "plt.title(\"Simulated gaussian mixture of size \"+str(nb_modes*size_mixt)+\" and variance of \"+str(1/cov_mixt_ratio))\n",
        "plt.show()"
      ],
      "execution_count": 25,
      "outputs": [
        {
          "output_type": "display_data",
          "data": {
            "image/png": "[encoded data removed]",
            "text/plain": [
              "<Figure size 432x288 with 1 Axes>"
            ]
          },
          "metadata": {
            "tags": [],
            "needs_background": "light"
          }
        }
      ]
    },
    {
      "cell_type": "markdown",
      "metadata": {
        "colab_type": "text",
        "id": "wMV3PUNIMgII"
      },
      "source": [
        "The simulated gaussian mixtures need to be converted to an image. "
      ]
    },
    {
      "cell_type": "code",
      "metadata": {
        "colab_type": "code",
        "id": "-q-IlJgsMgIJ",
        "colab": {}
      },
      "source": [
        "def array_to_img(array, img_size, return_normalized = False):\n",
        "    \"\"\"Function\n",
        "    array : an array of dimension Kx2\n",
        "    img_size : the dimension of the (squared) image obtained\n",
        "    return_normalized : also return the normalized array (for comparison)\n",
        "    \"\"\"\n",
        "    mixture_norm = array+np.abs(np.min(array))\n",
        "    mixture_norm = mixture_norm/(np.max(mixture_norm)-np.min(mixture_norm))\n",
        "    round_array = np.round(mixture_norm*(img_size-1))\n",
        "    gauss_img = np.zeros((img_size,img_size))\n",
        "    for i in range(round_array.shape[0]):\n",
        "        gauss_img[int(round_array[i,:][0]),int(round_array[i,:][1])] = 255\n",
        "    if return_normalized == False :\n",
        "        return gauss_img\n",
        "    else :\n",
        "        return gauss_img, mixture_norm"
      ],
      "execution_count": 0,
      "outputs": []
    },
    {
      "cell_type": "code",
      "metadata": {
        "colab_type": "code",
        "id": "A-iDi80tMgIM",
        "outputId": "5626bb70-cb60-4f94-8bd1-e28abf64eb66",
        "colab": {
          "base_uri": "https://localhost:8080/",
          "height": 436
        }
      },
      "source": [
        "img_size = 32\n",
        "gauss_img, mixture_norm = array_to_img(mixture_vect, img_size, return_normalized = True)\n",
        "\n",
        "fig, ax = plt.subplots(1,2, figsize=(15,7))\n",
        "ax[0].scatter(mixture_norm[:,0],mixture_norm[:,1])\n",
        "ax[0].set_title('Normalized array')\n",
        "ax[1].imshow(gauss_img, cmap=plt.cm.gray)\n",
        "ax[1].set_title('Square image of size '+str(img_size))\n",
        "plt.show()"
      ],
      "execution_count": 27,
      "outputs": [
        {
          "output_type": "display_data",
          "data": {
            "image/png": "[encoded data removed]",
            "text/plain": [
              "<Figure size 1080x504 with 2 Axes>"
            ]
          },
          "metadata": {
            "tags": [],
            "needs_background": "light"
          }
        }
      ]
    },
    {
      "cell_type": "code",
      "metadata": {
        "colab_type": "code",
        "id": "g0FcAj1CMgIP",
        "colab": {}
      },
      "source": [
        "class GaussianMixtureDB(VisionDataset):\n",
        "    '''Class with gaussian mixture data'''\n",
        "    def __init__(self, dataset):\n",
        "        self.images = dataset\n",
        "        self.target = [0 for i in range(len(dataset))]\n",
        "        self.root = \"add/pickle/location\"\n",
        "        \n",
        "        # Check length of target and image match\n",
        "        assert len(self.images) == len(self.target)\n",
        "        \n",
        "    def __len__(self):\n",
        "        return len(self.images)\n",
        "\n",
        "    def __getitem__(self, index):\n",
        "        target = self.target[index]\n",
        "        img = self.images[index]\n",
        "            \n",
        "        return img, target"
      ],
      "execution_count": 0,
      "outputs": []
    },
    {
      "cell_type": "code",
      "metadata": {
        "colab_type": "code",
        "id": "QQudyXOAMgIU",
        "colab": {}
      },
      "source": [
        "size_GaussianMixtureDB = 20*args[\"batch_size\"]\n",
        "GaussianMixture_array = [simulate_gaussian_mixture(cov_mixt_ratio, size_mixt, nb_modes) for i in range(size_GaussianMixtureDB)]\n",
        "GaussianMixture_imgs = [array_to_img(array, img_size, return_normalized = False) for array in GaussianMixture_array]\n",
        "GaussianMixture_trainset = GaussianMixtureDB(GaussianMixture_imgs)\n",
        "GaussianMixture_loader = DataLoader(GaussianMixture_trainset, args['batch_size'], shuffle=True, **kwargs)"
      ],
      "execution_count": 0,
      "outputs": []
    },
    {
      "cell_type": "code",
      "metadata": {
        "colab_type": "code",
        "id": "PfcoDdB7MgIa",
        "outputId": "994841ce-9bb6-400a-de92-154ee5005425",
        "colab": {
          "base_uri": "https://localhost:8080/",
          "height": 68
        }
      },
      "source": [
        "GaussianMixture_trainset"
      ],
      "execution_count": 30,
      "outputs": [
        {
          "output_type": "execute_result",
          "data": {
            "text/plain": [
              "Dataset GaussianMixtureDB\n",
              "    Number of datapoints: 2560\n",
              "    Root location: add/pickle/location"
            ]
          },
          "metadata": {
            "tags": []
          },
          "execution_count": 30
        }
      ]
    },
    {
      "cell_type": "code",
      "metadata": {
        "colab_type": "code",
        "id": "NBHAnFHZMgIh",
        "colab": {}
      },
      "source": [
        "try :\n",
        "    del GaussianMixture_array\n",
        "#     del GaussianMixture_imgs\n",
        "except :\n",
        "    print(\"deleted\")"
      ],
      "execution_count": 0,
      "outputs": []
    },
    {
      "cell_type": "markdown",
      "metadata": {
        "id": "4njOGv1UAup4",
        "colab_type": "text"
      },
      "source": [
        "# Build the GAN "
      ]
    },
    {
      "cell_type": "markdown",
      "metadata": {
        "colab_type": "text",
        "id": "Co_d2YAwMgIk"
      },
      "source": [
        "## Generator"
      ]
    },
    {
      "cell_type": "markdown",
      "metadata": {
        "colab_type": "text",
        "id": "Ax-nUFABMgIk"
      },
      "source": [
        "### Define Generator's architecture \n",
        "See Table 3 of [1]\n",
        "\n",
        "As showed in the article for the CIFAR dataset : we use a $Uniform([-1,1])$ to generate noise\n",
        "\n",
        "**Note** : We consider 3 dimensions for the 32x32 image, but we could have considered only one (greyscale image)"
      ]
    },
    {
      "cell_type": "code",
      "metadata": {
        "colab_type": "code",
        "id": "XU4TOY3sMgIl",
        "colab": {}
      },
      "source": [
        "class _UpBlock_Generator(nn.Module):\n",
        "    '''\n",
        "    Class used in the Generator architecture\n",
        "    Defines the 2xNN upsample, convolution and GLU for a given input size in_channels\n",
        "    Input size : [bs, in_channels, n, n]\n",
        "    Output size : [bs, in_channels/2, 2*n, 2*n]\n",
        "    '''\n",
        "    def __init__(self, in_channels):\n",
        "        super().__init__()\n",
        "        self.conv = nn.Conv2d(in_channels = 2*in_channels, out_channels = 2*in_channels, \n",
        "                              kernel_size = 5, padding=2, stride = 1)\n",
        "        #in_channels = 2*initial dimension because NN upsampler multiplies by 2 height and width\n",
        "\n",
        "    def forward(self, x: Tensor) -> Tensor:\n",
        "        x =  F.interpolate(x, scale_factor=(2,2), mode = \"nearest\") #multiplies by 2\n",
        "        x = self.conv(x)\n",
        "        x = F.glu(x,dim=1) #GLU activation devides by 2 the number of channels\n",
        "        return x"
      ],
      "execution_count": 0,
      "outputs": []
    },
    {
      "cell_type": "code",
      "metadata": {
        "colab_type": "code",
        "id": "ew5Nk2gLMgIo",
        "colab": {}
      },
      "source": [
        "class Generator32x32(nn.Module):\n",
        "    '''Class defining the Generator with the same architecture as used by Salimans. et al. for the CIFAR dataset\n",
        "    Input : \n",
        "    input_dim : dimension of the noise z\n",
        "    out_channels : number of colour channel (1 by default for greyscale images)\n",
        "    \n",
        "    '''\n",
        "    def __init__(self, input_dim: int=100, out_channels = 1):\n",
        "        super(Generator32x32, self).__init__()\n",
        "        self.linear = nn.Linear(in_features=input_dim, out_features=32768)\n",
        "        #need to define out features = 2*16384 because glu devides by 2 the number of units\n",
        "        self.up1 = _UpBlock_Generator(512) ###Pas bizarre de mettre un padding de 2?? \n",
        "        self.up2 = _UpBlock_Generator(256)\n",
        "        self.up3 = _UpBlock_Generator(128)\n",
        "        self.last_conv = nn.Conv2d(in_channels = 128, out_channels = out_channels, kernel_size = 5, padding=2, stride = 1)\n",
        "    \n",
        "    def generate_noise(self, bs, k=100):\n",
        "        ''' Generate noise with dimension [bs, k] following a Uniform([-1,1])'''\n",
        "        z = (torch.rand([bs, k], requires_grad = True)*2)-1\n",
        "        return z\n",
        "    \n",
        "    def forward(self, x: Tensor):\n",
        "        bs = x.size()[0]\n",
        "        ## Linear layer and reshape\n",
        "        x1 = self.linear(x) \n",
        "        x1_a = F.glu(x1) \n",
        "        assert x1_a.size() == (bs, 16384)\n",
        "        x2 = x1_a.reshape(bs,1024,4,4) # size [bs, 1024, 4, 4] \n",
        "        assert x2.size() == (bs, 1024, 4, 4)\n",
        "        ## Up blocks : upsample, convolution and GLU\n",
        "        x3 =  self.up1(x2) # size [bs, 512, 8, 8]\n",
        "        assert x3.size() == (bs, 512, 8, 8)\n",
        "        x4 =  self.up2(x3) # size [bs, 256, 16, 16]\n",
        "        assert x4.size() == (bs, 256, 16, 16)\n",
        "        x5 =  self.up3(x4) # size [bs, 128, 32, 32]\n",
        "        assert x5.size() == (bs, 128, 32, 32)\n",
        "        \n",
        "        ## last convolution and activation\n",
        "        x6 = self.last_conv(x5) # size [bs, 1, 32, 32]\n",
        "        x7 = torch.tanh(x6) \n",
        "        out = x7 # size [bs, 1, 32, 32]\n",
        "        assert out.size() == (bs, 1, 32, 32)\n",
        "        return out "
      ],
      "execution_count": 0,
      "outputs": []
    },
    {
      "cell_type": "markdown",
      "metadata": {
        "id": "lhOXRD8FWTgg",
        "colab_type": "text"
      },
      "source": [
        "#### New architecure\n",
        "\n",
        "<a href = 'https://medium.com/intel-student-ambassadors/mnist-gan-detailed-step-by-step-explanation-implementation-in-code-ecc93b22dc60'> architecture found here </a>"
      ]
    },
    {
      "cell_type": "code",
      "metadata": {
        "id": "s-YxC_w-WXAw",
        "colab_type": "code",
        "colab": {}
      },
      "source": [
        "class Generator(nn.Module):\n",
        "    def __init__(self, input_size=100, hidden_dim=32, output_size=784):\n",
        "      super(Generator, self).__init__()\n",
        "      \n",
        "      # 1\n",
        "      self.fc1 = nn.Linear(input_size, hidden_dim)\n",
        "      self.fc2 = nn.Linear(hidden_dim, hidden_dim*2)\n",
        "      self.fc3 = nn.Linear(hidden_dim*2, hidden_dim*4)\n",
        "      \n",
        "      # 2\n",
        "      self.fc4 = nn.Linear(hidden_dim*4, output_size)\n",
        "    \n",
        "      # 3\n",
        "      self.dropout = nn.Dropout(0.3)\n",
        "\n",
        "    def generate_noise(self, bs, k=100):\n",
        "        ''' Generate noise with dimension [bs, k] following a Uniform([-1,1])'''\n",
        "        z = (torch.rand([bs, k], requires_grad = True)*2)-1\n",
        "        return z\n",
        "\n",
        "    def forward(self, x):\n",
        "      # 4\n",
        "      x = F.leaky_relu(self.fc1(x), 0.2) # (input, negative_slope=0.2)\n",
        "      x = self.dropout(x)\n",
        "      x = F.leaky_relu(self.fc2(x), 0.2)\n",
        "      x = self.dropout(x)\n",
        "      x = F.leaky_relu(self.fc3(x), 0.2)\n",
        "      x = self.dropout(x)\n",
        "      # 5\n",
        "      out = F.tanh(self.fc4(x))\n",
        "      return out"
      ],
      "execution_count": 0,
      "outputs": []
    },
    {
      "cell_type": "code",
      "metadata": {
        "id": "2xfjJSHdXF90",
        "colab_type": "code",
        "colab": {
          "base_uri": "https://localhost:8080/",
          "height": 71
        },
        "outputId": "4de934ad-21f3-4c31-bd8d-4b97512fcd5c"
      },
      "source": [
        "generator = Generator()\n",
        "z = generator.generate_noise(bs = 128, k = 100)\n",
        "out = generator(z)\n"
      ],
      "execution_count": 35,
      "outputs": [
        {
          "output_type": "stream",
          "text": [
            "/usr/local/lib/python3.6/dist-packages/torch/nn/functional.py:1558: UserWarning: nn.functional.tanh is deprecated. Use torch.tanh instead.\n",
            "  warnings.warn(\"nn.functional.tanh is deprecated. Use torch.tanh instead.\")\n"
          ],
          "name": "stderr"
        }
      ]
    },
    {
      "cell_type": "markdown",
      "metadata": {
        "colab_type": "text",
        "id": "klwrrhvSMgIr"
      },
      "source": [
        "### Generate noise "
      ]
    },
    {
      "cell_type": "code",
      "metadata": {
        "colab_type": "code",
        "id": "0bE8NnS5MgIr",
        "colab": {}
      },
      "source": [
        "# Initialize random seed\n",
        "torch.random.manual_seed(args['seed'])\n",
        "\n",
        "# Define generator model\n",
        "generate = Generator32x32()"
      ],
      "execution_count": 0,
      "outputs": []
    },
    {
      "cell_type": "code",
      "metadata": {
        "colab_type": "code",
        "id": "GlcSP-TaMgIu",
        "outputId": "84fed000-3c41-4dcf-87ad-1c9dd8dc691a",
        "colab": {
          "base_uri": "https://localhost:8080/",
          "height": 300
        }
      },
      "source": [
        "# Generate noise of given batch size\n",
        "k=100\n",
        "# z = generate.generate_noise(bs = args[\"batch_size\"], k = k)\n",
        "z = generate.generate_noise(bs = 1, k = k)\n",
        "print('noize shape', z.size())\n",
        "\n",
        "\n",
        "# Scatter one example of noise\n",
        "plt.scatter(range(k),z[0].detach())\n",
        "plt.title(\"Noise following a $Uniform([-1,1])$ of size \"+str(k))\n",
        "plt.show()"
      ],
      "execution_count": 37,
      "outputs": [
        {
          "output_type": "stream",
          "text": [
            "noize shape torch.Size([1, 100])\n"
          ],
          "name": "stdout"
        },
        {
          "output_type": "display_data",
          "data": {
            "image/png": "[encoded data removed]",
            "text/plain": [
              "<Figure size 432x288 with 1 Axes>"
            ]
          },
          "metadata": {
            "tags": [],
            "needs_background": "light"
          }
        }
      ]
    },
    {
      "cell_type": "code",
      "metadata": {
        "colab_type": "code",
        "id": "kbQQwJZ8MgIz",
        "outputId": "81a5c9a2-d7fd-43c3-8ed7-648efe58b2a7",
        "scrolled": true,
        "colab": {
          "base_uri": "https://localhost:8080/",
          "height": 51
        }
      },
      "source": [
        "# Test the output of the generator network\n",
        "z = generate.generate_noise(bs = 10, k = k)\n",
        "print(z.size())\n",
        "generator_output = generate(z)\n",
        "print(\"Output size : \",generator_output.size())\n",
        "#print(generator_output)"
      ],
      "execution_count": 38,
      "outputs": [
        {
          "output_type": "stream",
          "text": [
            "torch.Size([10, 100])\n",
            "Output size :  torch.Size([10, 1, 32, 32])\n"
          ],
          "name": "stdout"
        }
      ]
    },
    {
      "cell_type": "markdown",
      "metadata": {
        "colab_type": "text",
        "id": "Kt3FgyeGMgJG"
      },
      "source": [
        "## Critic / Discriminator"
      ]
    },
    {
      "cell_type": "markdown",
      "metadata": {
        "colab_type": "text",
        "id": "SqEUcbL7MgJG"
      },
      "source": [
        "### Define critic architecture\n",
        "See Table 4 of [1]\n",
        "\n",
        "- Concatenated ReLU has two outputs, one ReLU and one negative ReLU, concatenated together. In other words, for an input vector x, CRelu(x) =$[(x)_+ ; (-x)_+] = [Relu(x);Relu(-x)]$. Because it has two outputs, CReLU doubles the output dimension.\n",
        "\n"
      ]
    },
    {
      "cell_type": "code",
      "metadata": {
        "colab_type": "code",
        "id": "Y88rOzVuMgJH",
        "colab": {}
      },
      "source": [
        "class _DownBlock_Critic(nn.Module):\n",
        "    '''\n",
        "    Class used in the Critic architecture\n",
        "    Defines the convolution and CReLU \n",
        "    Input size : [bs, in_channels, n, n]\n",
        "    Output size : [bs, in_channels*2, n/2, n/2]\n",
        "    Inputs : \n",
        "    in_channels : int\n",
        "    '''\n",
        "    def __init__(self, in_channels):\n",
        "        super().__init__()\n",
        "        self.relu = nn.ReLU()\n",
        "        self.conv = nn.Conv2d(in_channels = in_channels, out_channels = in_channels, \n",
        "                              kernel_size = 5, padding=2, stride = 2)\n",
        "\n",
        "    def forward(self, x: Tensor) -> Tensor:\n",
        "        x =  self.conv(x) \n",
        "        x = torch.cat((self.relu(x),self.relu(-x)),dim=1) #doubles the outpout dimension\n",
        "        return x"
      ],
      "execution_count": 0,
      "outputs": []
    },
    {
      "cell_type": "code",
      "metadata": {
        "colab_type": "code",
        "id": "S0bOi9CmMgJL",
        "colab": {}
      },
      "source": [
        "class Critic32x32(nn.Module):\n",
        "    '''Class defining the critic with the same architecture as used by Salimans. et al. for the CIFAR dataset\n",
        "    Input : \n",
        "    nb_channels : number of channels in the image (in particular, 1 or 3 ?)\n",
        "    \n",
        "    '''\n",
        "    def __init__(self, nb_channels: int=1):\n",
        "        super(Critic32x32, self).__init__()\n",
        "        self.relu=nn.ReLU()\n",
        "        self.init_conv = nn.Conv2d(in_channels = nb_channels, \n",
        "        out_channels = 128, kernel_size = 5, padding = 2, stride = 1) #? \n",
        "        self.down1 = _DownBlock_Critic(256)\n",
        "        self.down2 = _DownBlock_Critic(512)\n",
        "        self.down3 = _DownBlock_Critic(1024)\n",
        "        \n",
        "        \n",
        "    def forward(self, x: Tensor):\n",
        "        bs = x.size()[0]\n",
        "        ## Initial convolution and CReLU\n",
        "        x1 = self.init_conv(x) # size [bs, 128, 32, 32]\n",
        "        assert x1.size() == (bs, 128, 32, 32)\n",
        "        x2 = torch.cat((self.relu(x1),self.relu(-x1)),dim=1) #size [bs, 256, 32, 32]\n",
        "        assert x2.size() == (bs, 256, 32, 32)\n",
        "        ## Apply down block three times\n",
        "        x3 = self.down1(x2) # size [bs, 512, 16, 16]\n",
        "        assert x3.size() == (bs,  512, 16, 16)\n",
        "        x4 = self.down2(x3) # size [bs, 1024, 8, 8]\n",
        "        assert x4.size() == (bs, 1024, 8, 8)\n",
        "        x5 = self.down3(x4) # size [bs, 2048, 4, 4]\n",
        "        assert x5.size() == (bs, 2048, 4, 4)\n",
        "        ## Reshaping and l2 normalization\n",
        "        x5_reshape = x5.reshape(bs, 32768) # size [bs, 32768]\n",
        "        assert x5_reshape.size() == (bs, 32768)\n",
        "#         x5_norm = (torch.norm(x5_reshape, p=2, dim=1)+1e-10).view(bs,1) # size [1, bs]\n",
        "        x5_norm = (torch.norm(x5_reshape, p=2, dim=1)).view(bs,1) # size [1, bs] #l2 normalization\n",
        "        assert x5_norm.size() == (bs, 1)\n",
        "        out = x5_reshape/(x5_norm) # size [bs, 32768]\n",
        "        assert out.size() == (bs, 32768)\n",
        "        return out"
      ],
      "execution_count": 0,
      "outputs": []
    },
    {
      "cell_type": "code",
      "metadata": {
        "colab_type": "code",
        "id": "SGNUw-cSMgJP",
        "outputId": "75dea072-82ba-427e-939b-3ece39dbcc41",
        "colab": {
          "base_uri": "https://localhost:8080/",
          "height": 255
        }
      },
      "source": [
        "# Test with the first batch images from train_pad_loader\n",
        "iterator = enumerate(train_pad_loader)\n",
        "batch_idx, (imgs, targets) = next(iter(iterator))\n",
        "critic = Critic32x32(nb_channels=1)\n",
        "critic_output = critic(imgs)\n",
        "print(\"Critic output size : \",critic_output.size())\n",
        "print(critic_output)\n"
      ],
      "execution_count": 41,
      "outputs": [
        {
          "output_type": "stream",
          "text": [
            "Critic output size :  torch.Size([128, 32768])\n",
            "tensor([[0.0000e+00, 0.0000e+00, 0.0000e+00,  ..., 0.0000e+00, 0.0000e+00,\n",
            "         7.2839e-03],\n",
            "        [0.0000e+00, 0.0000e+00, 0.0000e+00,  ..., 0.0000e+00, 1.1188e-02,\n",
            "         7.1388e-03],\n",
            "        [0.0000e+00, 0.0000e+00, 2.6514e-05,  ..., 0.0000e+00, 8.9717e-03,\n",
            "         6.3402e-03],\n",
            "        ...,\n",
            "        [0.0000e+00, 0.0000e+00, 0.0000e+00,  ..., 1.0327e-04, 6.7771e-03,\n",
            "         5.6003e-03],\n",
            "        [0.0000e+00, 0.0000e+00, 0.0000e+00,  ..., 0.0000e+00, 1.5012e-02,\n",
            "         1.3495e-03],\n",
            "        [0.0000e+00, 0.0000e+00, 0.0000e+00,  ..., 0.0000e+00, 7.1284e-03,\n",
            "         0.0000e+00]], grad_fn=<DivBackward0>)\n"
          ],
          "name": "stdout"
        }
      ]
    },
    {
      "cell_type": "markdown",
      "metadata": {
        "id": "wF_xJjQwTfDe",
        "colab_type": "text"
      },
      "source": [
        "#### New architecture"
      ]
    },
    {
      "cell_type": "code",
      "metadata": {
        "id": "pExEvGOQRw0K",
        "colab_type": "code",
        "colab": {}
      },
      "source": [
        "class Discriminator(nn.Module):\n",
        "    def __init__(self, input_size=784, hidden_dim=32, output_size=1):\n",
        "      super(Discriminator, self).__init__()\n",
        "      \n",
        "      # 1\n",
        "      self.fc1 = nn.Linear(input_size, hidden_dim*4)\n",
        "      self.fc2 = nn.Linear(hidden_dim*4, hidden_dim*2)\n",
        "      self.fc3 = nn.Linear(hidden_dim*2, hidden_dim)\n",
        "      \n",
        "      # 2\n",
        "      self.fc4 = nn.Linear(hidden_dim, output_size)\n",
        "      \n",
        "      # dropout layer \n",
        "      self.dropout = nn.Dropout(0.3)\n",
        "      \n",
        "      \n",
        "    def forward(self, x: Tensor):\n",
        "      #3 \n",
        "      x = x.view(-1, 28*28)\n",
        "      #4 \n",
        "      x = F.leaky_relu(self.fc1(x), 0.2) # (input, negative_slope=0.2)\n",
        "      x = self.dropout(x)\n",
        "      x = F.leaky_relu(self.fc2(x), 0.2)\n",
        "      x = self.dropout(x)\n",
        "      x = F.leaky_relu(self.fc3(x), 0.2)\n",
        "      x = self.dropout(x)\n",
        "      # 5\n",
        "      out = self.fc4(x)\n",
        "      return out"
      ],
      "execution_count": 0,
      "outputs": []
    },
    {
      "cell_type": "code",
      "metadata": {
        "id": "q1byP_hiUFn1",
        "colab_type": "code",
        "colab": {
          "base_uri": "https://localhost:8080/",
          "height": 34
        },
        "outputId": "58883585-3766-4f49-90c3-110b52a6363e"
      },
      "source": [
        "iter_X = iter(train_loader)\n",
        "img, _ = iter_X.next()\n",
        "img.size()\n",
        "img.view(-1, 28*28).size()"
      ],
      "execution_count": 43,
      "outputs": [
        {
          "output_type": "execute_result",
          "data": {
            "text/plain": [
              "torch.Size([128, 784])"
            ]
          },
          "metadata": {
            "tags": []
          },
          "execution_count": 43
        }
      ]
    },
    {
      "cell_type": "code",
      "metadata": {
        "id": "CTsWVZjrUFlC",
        "colab_type": "code",
        "colab": {}
      },
      "source": [
        "disc = Discriminator()\n",
        "out = disc(img)"
      ],
      "execution_count": 0,
      "outputs": []
    },
    {
      "cell_type": "code",
      "metadata": {
        "id": "exbT2OHCUFh-",
        "colab_type": "code",
        "colab": {}
      },
      "source": [
        ""
      ],
      "execution_count": 0,
      "outputs": []
    },
    {
      "cell_type": "markdown",
      "metadata": {
        "id": "KcqTXT7E1JJ7",
        "colab_type": "text"
      },
      "source": [
        "# Training\n",
        "\n",
        "- We use the algorithm 1 of [1]\n",
        "- The loss is a combination of optimal transport theory (with the sinkhorn distance ) and of an energy distance . It's called : Mini batch energy distance  and is defined as : \n",
        "$$\\mathcal{L} = \\mathcal{W}_c(X, Y) + \\mathcal{W}_c(X, Y') + \\mathcal{W}_c(X', Y) + \\mathcal{W}_c(X', Y') - 2\\mathcal{W}_c(X, X') - 2\\mathcal{W}_c(Y, Y')$$\n",
        "Where X and X' are independant batches of real images and Y and Y' are independant batches of fake images i.e generated by the generator.\n",
        "$\\mathcal{W}_c(X, Y)$ is the sinkhorn distance defined in equation (5) . Or as we described it in class : \n",
        "$$\n",
        " \\mathcal{W}_c(X, Y) =    \\min_{P \\in   \\mathcal{M}  }\\langle C, P \\rangle + \\epsilon \\sum_{ij} P_{ij} [ \\log(P_{ij}) - 1].\n",
        "$$\n",
        "- where $C \\in \\mathbb{R}^{K \\times K}$ is the cost matrix between each vector of batches X and Y. (K vectors per batch). It will be define by the cosine distance \n",
        "- $\\epsilon$ is the minimum entropy required for the coupling P \n",
        "- $\\mathcal{M}$  is the set of all couplings ie all the columns and rows of P must sum to 1. In class we had the set $\\mathcal{U}(a,b)$. Here a and b $\\in \\mathbb{R}^K$ and $\\forall i =1 \\dots K, a_i = b_i = 1$"
      ]
    },
    {
      "cell_type": "markdown",
      "metadata": {
        "colab_type": "text",
        "id": "vSHVKodWMgJU"
      },
      "source": [
        "## Sinkhorn minibatch distance\n",
        "\n",
        "Pytorch implementation : https://github.com/dfdazac/wassdistance/blob/master/layers.py\n"
      ]
    },
    {
      "cell_type": "markdown",
      "metadata": {
        "colab_type": "text",
        "id": "fURmUbL6MgJW"
      },
      "source": [
        "##### <span style=\"color:red\"> Question : normalize C ? (cf TP : divide by max value) : Inside or outside of the function ?? \n",
        "##### <span style=\"color:red\"> TODO : verify dimensions, verify the end\n",
        "##### /!\\ No need to propagate gradients for the sinkhorn distance : use detach or torch.no_grad ?? -> torch.no_grad to continue the propagation once the distance has been computed ? "
      ]
    },
    {
      "cell_type": "code",
      "metadata": {
        "colab_type": "code",
        "id": "g1E0sGiyMgJX",
        "colab": {}
      },
      "source": [
        "def sinkhorn_distance(C, epsilon=500, max_iters=500, a = \"default\", b = \"default\", detach = True, device = device):\n",
        "    \"\"\"Sinkhorn's distance\n",
        "    Inputs : \n",
        "    C the cost matrix (a torch tensor) of size K x K between batch X (K images) and batch Y (K images)\n",
        "    epsilon : the regularization parameter of the Entropy-regularized Optimal Transport problem\n",
        "    default value = 500 as in the article\n",
        "    max_iters : number of iterations for the Sinkhorn's algorithm\n",
        "    a : either \"default\" (then a will be initialized to a vector full of 1s) or a torch tensor\n",
        "    b : either \"default\" (then a will be initialized to a vector full of 1s) or a torch tensor\n",
        "    \n",
        "    Output : the Sinkhorn distance between minibatch vectors X and Y\n",
        "    \"\"\"\n",
        "  \n",
        "\n",
        "#     n = C.shape[0]\n",
        "    # Note : in our case we should have m = n (= K in the article's notations) if minibatches are of identical size\n",
        "    n = C.size()[0]\n",
        "    m = C.size()[1]\n",
        "    \n",
        "    ## Initialize a and b if necessary\n",
        "    if a == \"default\":\n",
        "#         a = np.ones(n)\n",
        "        a = torch.ones([n], dtype=torch.float64)\n",
        "    if b == \"default\":\n",
        "#         b = np.ones(n)\n",
        "        b = torch.ones([m], dtype=torch.float64)\n",
        "    \n",
        "    a = a.to(device)\n",
        "    b = b.to(device)\n",
        "\n",
        "    if detach == True :\n",
        "        ## Stop gradient propagation during the computation of the distance\n",
        "        with torch.no_grad():\n",
        "\n",
        "            ## Compute the kernel matrix K\n",
        "        #     K = np.exp(-C/epsilon)\n",
        "            K = torch.exp(-C/epsilon)\n",
        "\n",
        "            ## Alternate projections\n",
        "        #     v = np.ones(b.shape[0])\n",
        "            v = torch.ones([b.size()[0]])\n",
        "            for _ in range(max_iters):\n",
        "        #         u = a / K.dot(v)\n",
        "        #         v = b / K.T.dot(u)\n",
        "                u = a / torch.matmul(K.double(),v.double())\n",
        "                v = b / torch.matmul(torch.transpose(K,0,1).double(),u.double())\n",
        "\n",
        "            ## Compute the matching matrix\n",
        "        #     M = np.diag(u).dot(K).dot(np.diag(v))\n",
        "            M = torch.matmul(torch.matmul(torch.diag(u),K.double()),torch.diag(v))\n",
        "            return torch.sum(M*C)\n",
        "    else :\n",
        "    ## Compute the kernel matrix K\n",
        "    #     K = np.exp(-C/epsilon)\n",
        "        K = torch.exp(-C/epsilon)\n",
        "\n",
        "        ## Alternate projections\n",
        "    #     v = np.ones(b.shape[0])\n",
        "        v = torch.ones([b.size()[0]])\n",
        "        v = v.to(device)\n",
        "\n",
        "        for _ in range(max_iters):\n",
        "    #         u = a / K.dot(v)\n",
        "    #         v = b / K.T.dot(u)\n",
        "            u = a / torch.matmul(K.double(),v.double())\n",
        "            v = b / torch.matmul(torch.transpose(K,0,1).double(),u.double())\n",
        "\n",
        "        ## Compute the matching matrix\n",
        "    #     M = np.diag(u).dot(K).dot(np.diag(v))\n",
        "        M = torch.matmul(torch.matmul(torch.diag(u),K.double()),torch.diag(v))\n",
        "        return torch.sum(M*C)"
      ],
      "execution_count": 0,
      "outputs": []
    },
    {
      "cell_type": "markdown",
      "metadata": {
        "colab_type": "text",
        "id": "08vR7Q_VMgJh"
      },
      "source": [
        "### Cosine distance\n",
        "In order to compare our algorithm when the transportation cost is adversarially learned, we compare with the cosine distance. \n",
        "\n",
        "According to article [1] section 4: \n",
        "$$c_\\eta(x, y) = 1 - \\frac{v_\\eta(x). v_\\eta(y)}{||v_\\eta(x)||_2 ||v_\\eta(y)||_2}$$\n",
        "where $v_\\eta(x)$ is the mapping of image x by the critic ie a vector of dimension 32768\n"
      ]
    },
    {
      "cell_type": "code",
      "metadata": {
        "colab_type": "code",
        "id": "Cea_Fd6cMgJi",
        "colab": {}
      },
      "source": [
        "# # Define the cosine similarity for torch tensors with 2 dimensions (including batch size)\n",
        "# cos_similarity = torch.nn.CosineSimilarity(dim=1, eps=1e-08)\n",
        "# def cos_dist(x,y):\n",
        "#     '''Cosine distance between torch tensors x and y'''\n",
        "#     return 1-cos_similarity(x,y)\n",
        "\n",
        "def cos_dist(X,Y):\n",
        "    '''Cosine distance between \n",
        "    Inputs : torch tensors of size [bs,n]\n",
        "    Output : torch tensor of size [bs, bs]\n",
        "    '''\n",
        "    X_norm = X / X.norm(dim=1)[:, None]\n",
        "    Y_norm = Y / Y.norm(dim=1)[:, None]\n",
        "    cos_dist = 1- torch.mm(X_norm, Y_norm.transpose(0,1))\n",
        "    return cos_dist\n",
        "\n",
        "def loss_cos_dist(X, Xp, Y, Yp, detach = False):\n",
        "    '''Compute the loss of the OTGAN when the cost function is the cosine distance (cf Appendix D)\n",
        "    Inputs : \n",
        "    X and Xp minibatches of real data\n",
        "    Y and Yp minibatches of synthesized data\n",
        "    detach : a boolean, whether or not to propagate gradient through Sinkhorn's distance calculation\n",
        "\n",
        "    Returns \n",
        "    loss_g = loss of the generator which corresponds to the 4 first terms in algorithm 1 \n",
        "    loss_c = loss of the critic (2 last termes) \n",
        "    (will be useful to monitor separately the performances of the critic and the generator)\n",
        "    loss = total loss ie loss_g - loss_d\n",
        "    '''\n",
        "\n",
        "    \n",
        "\n",
        "    #loss of the generator \n",
        "    loss_g = sinkhorn_distance(cos_dist(X,Y), detach=detach) \n",
        "    loss_g += sinkhorn_distance(cos_dist(X,Yp), detach=detach) \n",
        "    loss_g += sinkhorn_distance(cos_dist(Xp,Y), detach=detach)\n",
        "    loss_g += sinkhorn_distance(cos_dist(Xp,Yp), detach=detach)\n",
        "\n",
        "    #loss of the discriminator \n",
        "    loss_c = 2*sinkhorn_distance(cos_dist(X,Xp), detach=detach)\n",
        "    loss_c += 2*sinkhorn_distance(cos_dist(Y,Yp), detach=detach)\n",
        "\n",
        "    #total loss\n",
        "    loss = loss_g - loss_c\n",
        "\n",
        "    return loss, loss_g, loss_c"
      ],
      "execution_count": 0,
      "outputs": []
    },
    {
      "cell_type": "code",
      "metadata": {
        "id": "aUxIkI3SRY0M",
        "colab_type": "code",
        "outputId": "57000c04-a694-416e-eab7-a7ee42cee245",
        "colab": {
          "base_uri": "https://localhost:8080/",
          "height": 68
        }
      },
      "source": [
        "X = torch.randn(10,2).to('cuda')\n",
        "Xp = torch.randn(10,2).to('cuda')\n",
        "Y = torch.randn(10,2).to('cuda')\n",
        "Yp = torch.randn(10,2).to('cuda')\n",
        "loss_cos_dist(X, Xp, Y, Yp)"
      ],
      "execution_count": 47,
      "outputs": [
        {
          "output_type": "execute_result",
          "data": {
            "text/plain": [
              "(tensor(5.8477, device='cuda:0', dtype=torch.float64),\n",
              " tensor(13.9756, device='cuda:0', dtype=torch.float64),\n",
              " tensor(8.1279, device='cuda:0', dtype=torch.float64))"
            ]
          },
          "metadata": {
            "tags": []
          },
          "execution_count": 47
        }
      ]
    },
    {
      "cell_type": "markdown",
      "metadata": {
        "colab_type": "text",
        "id": "6TOS2t-hMgJm"
      },
      "source": [
        "## Training Loop\n",
        "\n",
        "/!\\\n",
        "\n",
        "- initialization --> possible to initialize weights\n",
        "- save both generator & critic's infos\n",
        "\n",
        "\n",
        "#### Issue : \n",
        "- if detach == False : then we backpropagate the gradients (!= what the authors seem to do)\n",
        "- if detach == True : error, no gradient exists so backward is not possible"
      ]
    },
    {
      "cell_type": "code",
      "metadata": {
        "id": "9XJ2HvgOYcCL",
        "colab_type": "code",
        "colab": {}
      },
      "source": [
        "#mnist_loader = train_resized_loader\n",
        "mnist_loader = train_loader"
      ],
      "execution_count": 0,
      "outputs": []
    },
    {
      "cell_type": "code",
      "metadata": {
        "id": "5mnMrCqyyrl8",
        "colab_type": "code",
        "colab": {}
      },
      "source": [
        "#saving and loading checkpoints\n",
        "import shutil\n",
        "\n",
        "def save_ckp(state, is_best=False, checkpoint_dir=path, best_model_dir = path+'best_models/', \n",
        "             checkpoint_name='checkpoint_otgan_v3.pt'):\n",
        "    \"\"\"\n",
        "    Saves the state of model\n",
        "    params : state : dictionnary of checkpoint with the models and optimizers parameters\n",
        "    checkpoint_dir : directory for saving the checpoint\n",
        "    checkpoint_name : name of the checkpoint \n",
        "    is_best : boolean : if model is best so far, save it in a another directoy\n",
        "    best_model_dir : best_models directory\n",
        "    \"\"\"\n",
        "    f_path = checkpoint_dir + checkpoint_name\n",
        "    torch.save(state, f_path)\n",
        "    if is_best:\n",
        "        best_fpath = best_model_dir + checkpoint_name\n",
        "        torch.save(state, best_fpath)\n",
        "    \n",
        "\n",
        "def load_ckp(checkpoint_fpath, model, optimizer,  device=device):\n",
        "    '''\n",
        "    load models from a given checkpoint \n",
        "    '''\n",
        "    checkpoint = torch.load(checkpoint_fpath)\n",
        "\n",
        "    model.load_state_dict(checkpoint['model_state_dict'])\n",
        "    model.to(device)\n",
        "\n",
        "    optimizer.load_state_dict(checkpoint['optimizer_state_dict'])\n",
        "\n",
        "    return  model, optimizer,  checkpoint['epoch'], checkpoint['loss_history']"
      ],
      "execution_count": 0,
      "outputs": []
    },
    {
      "cell_type": "code",
      "metadata": {
        "id": "RO1ZMp2CcgwT",
        "colab_type": "code",
        "colab": {
          "base_uri": "https://localhost:8080/",
          "height": 170
        },
        "outputId": "5fc13748-0912-461a-ae26-a83efc6e85ab"
      },
      "source": [
        "args['n_epochs'] = 10\n",
        "args['lr'] = 0.002\n",
        "args['beta1'] = 0.5\n",
        "args['n_gen'] = 6\n",
        "args"
      ],
      "execution_count": 64,
      "outputs": [
        {
          "output_type": "execute_result",
          "data": {
            "text/plain": [
              "{'batch_size': 128,\n",
              " 'beta1': 0.5,\n",
              " 'beta2': 0.999,\n",
              " 'cuda': True,\n",
              " 'lr': 0.002,\n",
              " 'n_epochs': 10,\n",
              " 'n_gen': 6,\n",
              " 'seed': 1,\n",
              " 'val_batch_size': 128}"
            ]
          },
          "metadata": {
            "tags": []
          },
          "execution_count": 64
        }
      ]
    },
    {
      "cell_type": "code",
      "metadata": {
        "colab_type": "code",
        "id": "jT454lbao_gt",
        "colab": {}
      },
      "source": [
        "def training_loop(args = args,  \n",
        "                  dataloader = mnist_loader, verbose=True, \n",
        "                  warm_start=False, device=device,\n",
        "                  path=path, checkpoint_name='checkpoint_otgan_v4'):\n",
        "  \n",
        "    '''\n",
        "    Define the training of the OTGAN \n",
        "\n",
        "    Parameters : \n",
        "    args: dictionnary of arguments for training such as batch size etc \n",
        "    dataloader : dataloader of mnist images \n",
        "    verbose : Boolean : wether to print monitoring values during one epoch \n",
        "    warm_start : boolean : wether to resume the training of a precedent model \n",
        "    path : working directory \n",
        "    checkpoint_name : name of the checkpoint \n",
        "\n",
        "    Returns : the trained Generator and Critic and generated images\n",
        "    '''\n",
        "    ##################################\n",
        "\n",
        "    #.       Initialization\n",
        "\n",
        "    ##################################\n",
        "\n",
        "   \n",
        "    #initialize models\n",
        "    #generator = Generator32x32().to(device)\n",
        "    #critic = Critic32x32().to(device)\n",
        "    \n",
        "    generator = Generator().to(device)\n",
        "    critic = Discriminator().to(device)\n",
        "\n",
        "    #get parameters of generator (\\theta in the article)\n",
        "    #get parameters of critic (\\eta in the article )\n",
        "    g_params = list(generator.parameters())\n",
        "    c_params = list(critic.parameters())\n",
        "\n",
        "    #initialze the optimizers\n",
        "    #optimizer of the generator . \n",
        "    #At each gradient step, only the gradient of the loss wrt theta will be substracted\n",
        "    optimizer_G = optim.Adam(g_params, args['lr'], [args['beta1'], args['beta2']])\n",
        "    #optimizer of the critic\n",
        "    optimizer_C = optim.Adam(c_params, args['lr'], [args['beta1'], args['beta2']])\n",
        "\n",
        "    #loss history \n",
        "    loss_history = []\n",
        "\n",
        "    if warm_start:\n",
        "      ckp_path = path + checkpoint_name\n",
        "\n",
        "      #load generator\n",
        "      generator, optimizer_G,  previous_epoch, loss_history = load_ckp(ckp_path+'_generator.pt', generator, optimizer_G)\n",
        "      #load critic \n",
        "      critic, optimizer_C,  _, _  = load_ckp(ckp_path+'_critic.pt', critic, optimizer_C)\n",
        "      start_epoch = previous_epoch+1\n",
        "      previous_loss = loss_history[-1]\n",
        "      \n",
        "\n",
        "      print('\\n----------------------')\n",
        "      print('Warm Start : Resuming training of {} at epoch {} with current loss {}'.format(checkpoint_name, start_epoch, previous_loss))\n",
        "      print('------------------------')\n",
        "    else:\n",
        "      start_epoch = 1 \n",
        "      print('\\n-----------------------')\n",
        "      print('No warm start')\n",
        "      print('------------------------')\n",
        "\n",
        "    #create an iterator for mnist images \n",
        "    iter_X = iter(dataloader)\n",
        "\n",
        "    #number of iterations per epoch. Depends on batch size\n",
        "    iter_per_epoch = len(iter_X)\n",
        "\n",
        "    #batchsize\n",
        "    bs = args['batch_size']\n",
        "\n",
        "    #number of epochs \n",
        "    n_epochs = args['n_epochs']\n",
        "\n",
        "    \n",
        "\n",
        "\n",
        "    #---------------------------------------------------\n",
        "\n",
        "    #.               TRAINING LOOP\n",
        "\n",
        "    #---------------------------------------------------\n",
        "    print('\\n-----------------')\n",
        "    print('LEARNING RATE :', args['lr'])\n",
        "    print('BETA_1 :', args['beta1'])\n",
        "    print('BETA_2 :', args['beta2'])\n",
        "    print('NUMBER of EPOCHS to complete :', n_epochs)\n",
        "    print('BATCH_SIZE :', bs)\n",
        "    print('ITERATION PER EPOCH :', iter_per_epoch, '\\n-------------------\\n\\n\\n')\n",
        "\n",
        "    for epoch in range(start_epoch, start_epoch + n_epochs):\n",
        "      #iterate over epochs\n",
        "      #reset data_iter for each epoch\n",
        "      iter_X = iter(mnist_loader) #iterator for the X\n",
        "      iter_Xp = iter(mnist_loader) #iterator for the X'\n",
        "\n",
        "      #total loss over all the data for one epoch\n",
        "      total_loss =[] #loss of algo 1\n",
        "\n",
        "      #only for monitoring purpose\n",
        "      total_g_loss = [] #the 4 first terms of loss in algorithm 1 \n",
        "      total_c_loss =[] #the two last terms \n",
        "\n",
        "      for step in tqdm(range(1, iter_per_epoch+1)): #each iteration corresponds to a batch\n",
        "        \n",
        "        # get data. Two independant batches\n",
        "        X, _ = iter_X.next()\n",
        "        X = X.to(device)\n",
        "        Xp, _ = iter_Xp.next()\n",
        "        Xp = Xp.to(device)\n",
        "\n",
        "\n",
        "        #get two codes\n",
        "        Z = generator.generate_noise(bs, k=100).to(device)\n",
        "        Zp = generator.generate_noise(bs, k=100).to(device)\n",
        "\n",
        "\n",
        "        #generate synthetic images from codes\n",
        "        Y = generator(Z)\n",
        "        Yp = generator(Zp)\n",
        "\n",
        "\n",
        "        #Get Embed representations of  images into the feature space by using the critic mapping\n",
        "        out_X = critic(X)\n",
        "        out_Xp = critic(Xp)\n",
        "        out_Y = critic(Y)\n",
        "        out_Yp = critic(Yp)\n",
        "\n",
        "        ###################################################\n",
        "    \n",
        "        #      TRAIN THE GENERATOR AND THE CRITIC\n",
        "\n",
        "        ###################################################\n",
        "\n",
        "        #compute the loss of generator an critic\n",
        "        loss, loss_g , loss_c= loss_cos_dist(out_X, out_Xp, out_Y, out_Yp)\n",
        "\n",
        "        #loss_g and loss_c are just respectively\n",
        "        #the 4 first terms of loss in algorithm 1 \n",
        "        #the 2 last terms. Just useful for monitoring purpose\n",
        "\n",
        "\n",
        "        #add to the list of loss for monitoring at the end of each epoch\n",
        "        total_loss.append(loss.item())\n",
        "        total_g_loss.append(loss_g.item())\n",
        "        total_c_loss.append(loss_c.item())\n",
        "\n",
        "\n",
        "        if step % args[\"n_gen\"] == 0:  #update the critic\n",
        "          (-loss).backward() #-loss for gradient ascent \n",
        "          optimizer_C.step() #take a step of gradients\n",
        "          #zero the gradients \n",
        "          optimizer_C.zero_grad()\n",
        "\n",
        "        else: #update the generator \n",
        "          loss.backward()  #gradient descent \n",
        "          optimizer_G.step()\n",
        "          optimizer_G.zero_grad()\n",
        "\n",
        "\n",
        "        #monitioring discriminator real  loss \n",
        "        if (step % 100 == 0) and verbose:\n",
        "          print('\\n, Monitoring of iteration {} of epoch {}'.format(step, epoch))\n",
        "          print('\\n--------------------------')\n",
        "          print('AVERAGE TOTAL LOSS   : ', np.mean(total_loss))\n",
        "          print('GENERATOR LOSS ', np.mean(total_g_loss))\n",
        "          print('CRITIC LOSS ', np.mean(total_c_loss))\n",
        "          print('--------------------------')\n",
        "\n",
        "\n",
        "      #monitoring at the end of each epoch\n",
        "      print('\\n\\n EPOCH {} completed'.format(epoch))\n",
        "      print('MONITORING', '\\n--------------------------')\n",
        "      print('AVERAGE GENERATOR LOSS', np.mean(total_g_loss))\n",
        "      print('AVERAGE CRITIC LOSS', np.mean(total_c_loss))\n",
        "      print('AVERAGE TOTAL LOSS :' , np.mean(total_loss))\n",
        "      print('--------------------------')\n",
        "\n",
        "      print('SAVING')\n",
        "      print('--------------------------')\n",
        "\n",
        "      #saving  checkpoint for future warm starts \n",
        "      loss_history.append(np.mean(total_loss))\n",
        "\n",
        "      #check if model is best so far\n",
        "      if loss_history[-1] == np.min(loss_history):\n",
        "        is_best = True\n",
        "      else:\n",
        "        is_best = False\n",
        "      print('best so far ', is_best)\n",
        "      checkpoint_g = {\n",
        "          'epoch':epoch,\n",
        "          'args':args,\n",
        "          'loss_history':loss_history,\n",
        "          'model_state_dict': generator.state_dict(),\n",
        "          'optimizer_state_dict':optimizer_G.state_dict()}\n",
        "      save_ckp(checkpoint_g,  is_best, checkpoint_dir=path, \n",
        "               best_model_dir = path+'best_models',\n",
        "               checkpoint_name = checkpoint_name+'_generator.pt')\n",
        "\n",
        "      checkpoint_c = {\n",
        "          'epoch':epoch,\n",
        "          'args':args,\n",
        "          'loss_history':loss_history,\n",
        "          'model_state_dict': critic.state_dict(),\n",
        "          'optimizer_state_dict':optimizer_C.state_dict()\n",
        "      }\n",
        "      save_ckp(checkpoint_c, is_best,  checkpoint_dir=path, \n",
        "               best_model_dir = path+'best_models',\n",
        "               checkpoint_name = checkpoint_name+'_critic.pt')\n",
        "\n",
        "\n",
        "    trained_model = {'critic':critic, 'generator' :generator}\n",
        "    return trained_model\n",
        "\n",
        "    \n",
        "   "
      ],
      "execution_count": 0,
      "outputs": []
    },
    {
      "cell_type": "code",
      "metadata": {
        "id": "KyrEeBL9s9g2",
        "colab_type": "code",
        "outputId": "6f7a3251-9782-4308-a8d7-618aa7174823",
        "colab": {
          "base_uri": "https://localhost:8080/",
          "height": 682,
          "referenced_widgets": [
            "192d87b1104d48db8646060486e6cc58",
            "f9a6d3ac98214ff1b3406f332d17b385",
            "fb9ac092f26144c7967deca92910847d",
            "b8672d66230b48f1a2585b22bc0ceed8",
            "1392bd3bec2f48efbcd865f64e5f5ce9",
            "f7836ae137f74055800f4591ee94782b",
            "46062b6ea37843f59e337fccdfa6946f",
            "c56795c3b4ac44e99673251cd2f63fb5"
          ]
        }
      },
      "source": [
        "trained_model = training_loop(args=args, verbose=False, warm_start=False, \n",
        "                              checkpoint_name='checkpoint_otgan_v8')"
      ],
      "execution_count": 67,
      "outputs": [
        {
          "output_type": "stream",
          "text": [
            "\n",
            "-----------------------\n",
            "No warm start\n",
            "------------------------\n",
            "\n",
            "-----------------\n",
            "LEARNING RATE : 0.002\n",
            "BETA_1 : 0.5\n",
            "BETA_2 : 0.999\n",
            "NUMBER of EPOCHS to complete : 10\n",
            "BATCH_SIZE : 128\n",
            "ITERATION PER EPOCH : 469 \n",
            "-------------------\n",
            "\n",
            "\n",
            "\n"
          ],
          "name": "stdout"
        },
        {
          "output_type": "display_data",
          "data": {
            "application/vnd.jupyter.widget-view+json": {
              "model_id": "192d87b1104d48db8646060486e6cc58",
              "version_minor": 0,
              "version_major": 2
            },
            "text/plain": [
              "HBox(children=(IntProgress(value=0, max=469), HTML(value='')))"
            ]
          },
          "metadata": {
            "tags": []
          }
        },
        {
          "output_type": "stream",
          "text": [
            "/usr/local/lib/python3.6/dist-packages/torch/nn/functional.py:1558: UserWarning: nn.functional.tanh is deprecated. Use torch.tanh instead.\n",
            "  warnings.warn(\"nn.functional.tanh is deprecated. Use torch.tanh instead.\")\n"
          ],
          "name": "stderr"
        },
        {
          "output_type": "error",
          "ename": "KeyboardInterrupt",
          "evalue": "ignored",
          "traceback": [
            "\u001b[0;31m---------------------------------------------------------------------------\u001b[0m",
            "\u001b[0;31mKeyboardInterrupt\u001b[0m                         Traceback (most recent call last)",
            "\u001b[0;32m<ipython-input-67-0d14bfa5fb87>\u001b[0m in \u001b[0;36m<module>\u001b[0;34m()\u001b[0m\n\u001b[1;32m      1\u001b[0m trained_model = training_loop(args=args, verbose=False, warm_start=False, \n\u001b[0;32m----> 2\u001b[0;31m                               checkpoint_name='checkpoint_otgan_v8')\n\u001b[0m",
            "\u001b[0;32m<ipython-input-65-a10a1b2a5f9e>\u001b[0m in \u001b[0;36mtraining_loop\u001b[0;34m(args, dataloader, verbose, warm_start, device, path, checkpoint_name)\u001b[0m\n\u001b[1;32m    159\u001b[0m \u001b[0;34m\u001b[0m\u001b[0m\n\u001b[1;32m    160\u001b[0m         \u001b[0;32melse\u001b[0m\u001b[0;34m:\u001b[0m \u001b[0;31m#update the generator\u001b[0m\u001b[0;34m\u001b[0m\u001b[0;34m\u001b[0m\u001b[0m\n\u001b[0;32m--> 161\u001b[0;31m           \u001b[0mloss\u001b[0m\u001b[0;34m.\u001b[0m\u001b[0mbackward\u001b[0m\u001b[0;34m(\u001b[0m\u001b[0;34m)\u001b[0m  \u001b[0;31m#gradient descent\u001b[0m\u001b[0;34m\u001b[0m\u001b[0;34m\u001b[0m\u001b[0m\n\u001b[0m\u001b[1;32m    162\u001b[0m           \u001b[0moptimizer_G\u001b[0m\u001b[0;34m.\u001b[0m\u001b[0mstep\u001b[0m\u001b[0;34m(\u001b[0m\u001b[0;34m)\u001b[0m\u001b[0;34m\u001b[0m\u001b[0;34m\u001b[0m\u001b[0m\n\u001b[1;32m    163\u001b[0m           \u001b[0moptimizer_G\u001b[0m\u001b[0;34m.\u001b[0m\u001b[0mzero_grad\u001b[0m\u001b[0;34m(\u001b[0m\u001b[0;34m)\u001b[0m\u001b[0;34m\u001b[0m\u001b[0;34m\u001b[0m\u001b[0m\n",
            "\u001b[0;32m/usr/local/lib/python3.6/dist-packages/torch/tensor.py\u001b[0m in \u001b[0;36mbackward\u001b[0;34m(self, gradient, retain_graph, create_graph)\u001b[0m\n\u001b[1;32m    196\u001b[0m                 \u001b[0mproducts\u001b[0m\u001b[0;34m.\u001b[0m \u001b[0mDefaults\u001b[0m \u001b[0mto\u001b[0m\u001b[0;31m \u001b[0m\u001b[0;31m`\u001b[0m\u001b[0;31m`\u001b[0m\u001b[0;32mFalse\u001b[0m\u001b[0;31m`\u001b[0m\u001b[0;31m`\u001b[0m\u001b[0;34m.\u001b[0m\u001b[0;34m\u001b[0m\u001b[0;34m\u001b[0m\u001b[0m\n\u001b[1;32m    197\u001b[0m         \"\"\"\n\u001b[0;32m--> 198\u001b[0;31m         \u001b[0mtorch\u001b[0m\u001b[0;34m.\u001b[0m\u001b[0mautograd\u001b[0m\u001b[0;34m.\u001b[0m\u001b[0mbackward\u001b[0m\u001b[0;34m(\u001b[0m\u001b[0mself\u001b[0m\u001b[0;34m,\u001b[0m \u001b[0mgradient\u001b[0m\u001b[0;34m,\u001b[0m \u001b[0mretain_graph\u001b[0m\u001b[0;34m,\u001b[0m \u001b[0mcreate_graph\u001b[0m\u001b[0;34m)\u001b[0m\u001b[0;34m\u001b[0m\u001b[0;34m\u001b[0m\u001b[0m\n\u001b[0m\u001b[1;32m    199\u001b[0m \u001b[0;34m\u001b[0m\u001b[0m\n\u001b[1;32m    200\u001b[0m     \u001b[0;32mdef\u001b[0m \u001b[0mregister_hook\u001b[0m\u001b[0;34m(\u001b[0m\u001b[0mself\u001b[0m\u001b[0;34m,\u001b[0m \u001b[0mhook\u001b[0m\u001b[0;34m)\u001b[0m\u001b[0;34m:\u001b[0m\u001b[0;34m\u001b[0m\u001b[0;34m\u001b[0m\u001b[0m\n",
            "\u001b[0;32m/usr/local/lib/python3.6/dist-packages/torch/autograd/__init__.py\u001b[0m in \u001b[0;36mbackward\u001b[0;34m(tensors, grad_tensors, retain_graph, create_graph, grad_variables)\u001b[0m\n\u001b[1;32m     98\u001b[0m     Variable._execution_engine.run_backward(\n\u001b[1;32m     99\u001b[0m         \u001b[0mtensors\u001b[0m\u001b[0;34m,\u001b[0m \u001b[0mgrad_tensors\u001b[0m\u001b[0;34m,\u001b[0m \u001b[0mretain_graph\u001b[0m\u001b[0;34m,\u001b[0m \u001b[0mcreate_graph\u001b[0m\u001b[0;34m,\u001b[0m\u001b[0;34m\u001b[0m\u001b[0;34m\u001b[0m\u001b[0m\n\u001b[0;32m--> 100\u001b[0;31m         allow_unreachable=True)  # allow_unreachable flag\n\u001b[0m\u001b[1;32m    101\u001b[0m \u001b[0;34m\u001b[0m\u001b[0m\n\u001b[1;32m    102\u001b[0m \u001b[0;34m\u001b[0m\u001b[0m\n",
            "\u001b[0;31mKeyboardInterrupt\u001b[0m: "
          ]
        }
      ]
    },
    {
      "cell_type": "markdown",
      "metadata": {
        "id": "Ptqv6YYGzSoI",
        "colab_type": "text"
      },
      "source": [
        "# Test the OT GAN \n",
        "\n",
        "- inception score ??\n",
        "- v3 = same architecture and  hyperparameters as in the article\n",
        "  - 8 epochs : Stop learning after 5 epochs approximatively .\n",
        "  - last loss : 0.00115\n",
        "- v4 : architecture found on medium, eps = 0.1. generator and discriminator perform equally after a certain number of epochs, loss even reached 0 : idea try to reduce the number ms to suof updates of the discriminator. Seems to suffer from the collapse mode...Even after 18 epochs it's not better.\n",
        "- v5 : ngen = 6, very unstable . Also mode collapsing \n",
        "- v6 : beta1 = 0.5, negative loss at epoch 8 but after increased again \n",
        "- v7 same as v6 with lr = 0.0002. Afterb7 epochs loss started to increase...\n",
        "- v8 : idea : go back to eps = 500? increase max_iter to 500?\n",
        "\n",
        "- new architecture training more instable. But faster and it seems to generate digits. But always the same one ..\n",
        "\n",
        "- IDEA for next architecture : don't use linear layer but convolutional and deconvolutional layers "
      ]
    },
    {
      "cell_type": "code",
      "metadata": {
        "id": "KH-NPCFLzEk1",
        "colab_type": "code",
        "colab": {}
      },
      "source": [
        "def plot_gen_images(checkpoint_path, generator, image_size=28, plot_history=False):\n",
        "    '''\n",
        "    plot images generated by a given model\n",
        "\n",
        "    Parameters\n",
        "    checkpoint_path : path where the model is saved\n",
        "    generator : initial model\n",
        "    image_size : either 28 or 32\n",
        "    '''\n",
        "    checkpoint = torch.load(checkpoint_path)\n",
        "    try:\n",
        "      args = checkpoint['args']\n",
        "      print('args \\n')\n",
        "      for arg in list(args.keys()):\n",
        "        print(arg, args[arg])\n",
        "    except:\n",
        "      pass\n",
        "\n",
        "    generator.load_state_dict(checkpoint['model_state_dict'])\n",
        "    with torch.no_grad():\n",
        "      n = 4 \n",
        "      z = generator.generate_noise(4, 100)\n",
        "      images = generator(z)\n",
        "      images.size()\n",
        "      images = images.reshape(4, 1, image_size,image_size)\n",
        "      images.size()\n",
        "\n",
        "      fig, ax = plt.subplots(1,4, figsize=(10, 5))\n",
        "      for i in range(4):\n",
        "        img = images[i]\n",
        "        ax[i].imshow(img.numpy().squeeze(), cmap='gray')\n",
        "      if plot_history:\n",
        "        plt.figure(figsize=(10,5))\n",
        "        plt.plot(checkpoint['loss_history'])\n",
        "        plt.title('Loss evolution')\n",
        "        plt.xlabel('epoch')\n",
        "        plt.ylabel('loss')\n",
        "        plt.show()"
      ],
      "execution_count": 0,
      "outputs": []
    },
    {
      "cell_type": "code",
      "metadata": {
        "id": "CHEW4wQnMPto",
        "colab_type": "code",
        "colab": {
          "base_uri": "https://localhost:8080/",
          "height": 174
        },
        "outputId": "f23f9ec3-2a9a-4217-f66e-ebf55d060871"
      },
      "source": [
        "checkpoint_path = path + 'checkpoint_otgan_v3_generator.pt'\n",
        "plot_gen_images(checkpoint_path, generator=Generator32x32(), image_size=32)\n",
        "#forgott the loss history at beginning"
      ],
      "execution_count": 126,
      "outputs": [
        {
          "output_type": "display_data",
          "data": {
            "image/png": "[encoded data removed]",
            "text/plain": [
              "<Figure size 720x360 with 4 Axes>"
            ]
          },
          "metadata": {
            "tags": []
          }
        }
      ]
    },
    {
      "cell_type": "code",
      "metadata": {
        "id": "IF_fNX4JLxWQ",
        "colab_type": "code",
        "colab": {
          "base_uri": "https://localhost:8080/",
          "height": 753
        },
        "outputId": "004cbee4-782a-44e4-d8b5-79dd54c08355"
      },
      "source": [
        "checkpoint_path = path + 'checkpoint_otgan_v4_generator.pt'\n",
        "plot_gen_images(checkpoint_path, generator=Generator(), plot_history=True)"
      ],
      "execution_count": 118,
      "outputs": [
        {
          "output_type": "stream",
          "text": [
            "args \n",
            "\n",
            "batch_size 128\n",
            "val_batch_size 128\n",
            "n_epochs 20\n",
            "lr 0.002\n",
            "beta1 0.9\n",
            "beta2 0.999\n",
            "seed 1\n",
            "cuda True\n",
            "n_gen 3\n"
          ],
          "name": "stdout"
        },
        {
          "output_type": "stream",
          "text": [
            "/usr/local/lib/python3.6/dist-packages/torch/nn/functional.py:1558: UserWarning: nn.functional.tanh is deprecated. Use torch.tanh instead.\n",
            "  warnings.warn(\"nn.functional.tanh is deprecated. Use torch.tanh instead.\")\n"
          ],
          "name": "stderr"
        },
        {
          "output_type": "display_data",
          "data": {
            "image/png": "[encoded data removed]",
            "text/plain": [
              "<Figure size 720x360 with 4 Axes>"
            ]
          },
          "metadata": {
            "tags": []
          }
        },
        {
          "output_type": "display_data",
          "data": {
            "image/png": "[encoded data removed]",
            "text/plain": [
              "<Figure size 720x360 with 1 Axes>"
            ]
          },
          "metadata": {
            "tags": []
          }
        }
      ]
    },
    {
      "cell_type": "code",
      "metadata": {
        "id": "UeonYK2hLta4",
        "colab_type": "code",
        "colab": {
          "base_uri": "https://localhost:8080/",
          "height": 753
        },
        "outputId": "6076b8b5-3630-48ed-bd9e-5a060ae6d998"
      },
      "source": [
        "checkpoint_path = path + 'checkpoint_otgan_v5_generator.pt'\n",
        "plot_gen_images(checkpoint_path, generator=Generator())"
      ],
      "execution_count": 119,
      "outputs": [
        {
          "output_type": "stream",
          "text": [
            "args \n",
            "\n",
            "batch_size 128\n",
            "val_batch_size 128\n",
            "n_epochs 5\n",
            "lr 0.002\n",
            "beta1 0.9\n",
            "beta2 0.999\n",
            "seed 1\n",
            "cuda True\n",
            "n_gen 6\n"
          ],
          "name": "stdout"
        },
        {
          "output_type": "stream",
          "text": [
            "/usr/local/lib/python3.6/dist-packages/torch/nn/functional.py:1558: UserWarning: nn.functional.tanh is deprecated. Use torch.tanh instead.\n",
            "  warnings.warn(\"nn.functional.tanh is deprecated. Use torch.tanh instead.\")\n"
          ],
          "name": "stderr"
        },
        {
          "output_type": "display_data",
          "data": {
            "image/png": "[encoded data removed]",
            "text/plain": [
              "<Figure size 720x360 with 4 Axes>"
            ]
          },
          "metadata": {
            "tags": []
          }
        },
        {
          "output_type": "display_data",
          "data": {
            "image/png": "[encoded data removed]",
            "text/plain": [
              "<Figure size 720x360 with 1 Axes>"
            ]
          },
          "metadata": {
            "tags": []
          }
        }
      ]
    },
    {
      "cell_type": "code",
      "metadata": {
        "id": "eNnJBUUpKxWI",
        "colab_type": "code",
        "colab": {
          "base_uri": "https://localhost:8080/",
          "height": 753
        },
        "outputId": "bdf11abe-c826-48d7-faec-914f93d4f677"
      },
      "source": [
        "checkpoint_path = path + 'checkpoint_otgan_v6_generator.pt'\n",
        "plot_gen_images(checkpoint_path, generator=Generator())"
      ],
      "execution_count": 120,
      "outputs": [
        {
          "output_type": "stream",
          "text": [
            "args \n",
            "\n",
            "batch_size 128\n",
            "val_batch_size 128\n",
            "n_epochs 10\n",
            "lr 0.002\n",
            "beta1 0.5\n",
            "beta2 0.999\n",
            "seed 1\n",
            "cuda True\n",
            "n_gen 6\n"
          ],
          "name": "stdout"
        },
        {
          "output_type": "stream",
          "text": [
            "/usr/local/lib/python3.6/dist-packages/torch/nn/functional.py:1558: UserWarning: nn.functional.tanh is deprecated. Use torch.tanh instead.\n",
            "  warnings.warn(\"nn.functional.tanh is deprecated. Use torch.tanh instead.\")\n"
          ],
          "name": "stderr"
        },
        {
          "output_type": "display_data",
          "data": {
            "image/png": "[encoded data removed]",
            "text/plain": [
              "<Figure size 720x360 with 4 Axes>"
            ]
          },
          "metadata": {
            "tags": []
          }
        },
        {
          "output_type": "display_data",
          "data": {
            "image/png": "[encoded data removed]",
            "text/plain": [
              "<Figure size 720x360 with 1 Axes>"
            ]
          },
          "metadata": {
            "tags": []
          }
        }
      ]
    },
    {
      "cell_type": "code",
      "metadata": {
        "id": "XPdS64w-Mfh4",
        "colab_type": "code",
        "colab": {
          "base_uri": "https://localhost:8080/",
          "height": 753
        },
        "outputId": "549a60fb-102b-4097-981c-f421da42c328"
      },
      "source": [
        "checkpoint_path = path + 'checkpoint_otgan_v7_generator.pt' #after 6 epochs\n",
        "plot_gen_images(checkpoint_path, generator=Generator())"
      ],
      "execution_count": 121,
      "outputs": [
        {
          "output_type": "stream",
          "text": [
            "args \n",
            "\n",
            "batch_size 128\n",
            "val_batch_size 128\n",
            "n_epochs 10\n",
            "lr 0.0002\n",
            "beta1 0.5\n",
            "beta2 0.999\n",
            "seed 1\n",
            "cuda True\n",
            "n_gen 6\n"
          ],
          "name": "stdout"
        },
        {
          "output_type": "stream",
          "text": [
            "/usr/local/lib/python3.6/dist-packages/torch/nn/functional.py:1558: UserWarning: nn.functional.tanh is deprecated. Use torch.tanh instead.\n",
            "  warnings.warn(\"nn.functional.tanh is deprecated. Use torch.tanh instead.\")\n"
          ],
          "name": "stderr"
        },
        {
          "output_type": "display_data",
          "data": {
            "image/png": "[encoded data removed]",
            "text/plain": [
              "<Figure size 720x360 with 4 Axes>"
            ]
          },
          "metadata": {
            "tags": []
          }
        },
        {
          "output_type": "display_data",
          "data": {
            "image/png": "[encoded data removed]",
            "text/plain": [
              "<Figure size 720x360 with 1 Axes>"
            ]
          },
          "metadata": {
            "tags": []
          }
        }
      ]
    },
    {
      "cell_type": "code",
      "metadata": {
        "id": "CDSG7JyvMfxK",
        "colab_type": "code",
        "colab": {
          "base_uri": "https://localhost:8080/",
          "height": 753
        },
        "outputId": "7b21f818-e524-465f-be5b-071e9c0f8a4d"
      },
      "source": [
        "checkpoint_path = path + 'checkpoint_otgan_v8_generator.pt' #after 6 epochs\n",
        "plot_gen_images(checkpoint_path, generator=Generator())"
      ],
      "execution_count": 122,
      "outputs": [
        {
          "output_type": "stream",
          "text": [
            "args \n",
            "\n",
            "batch_size 128\n",
            "val_batch_size 128\n",
            "n_epochs 10\n",
            "lr 0.002\n",
            "beta1 0.5\n",
            "beta2 0.999\n",
            "seed 1\n",
            "cuda True\n",
            "n_gen 6\n"
          ],
          "name": "stdout"
        },
        {
          "output_type": "stream",
          "text": [
            "/usr/local/lib/python3.6/dist-packages/torch/nn/functional.py:1558: UserWarning: nn.functional.tanh is deprecated. Use torch.tanh instead.\n",
            "  warnings.warn(\"nn.functional.tanh is deprecated. Use torch.tanh instead.\")\n"
          ],
          "name": "stderr"
        },
        {
          "output_type": "display_data",
          "data": {
            "image/png": "[encoded data removed]",
            "text/plain": [
              "<Figure size 720x360 with 4 Axes>"
            ]
          },
          "metadata": {
            "tags": []
          }
        },
        {
          "output_type": "display_data",
          "data": {
            "image/png": "[encoded data removed]",
            "text/plain": [
              "<Figure size 720x360 with 1 Axes>"
            ]
          },
          "metadata": {
            "tags": []
          }
        }
      ]
    },
    {
      "cell_type": "code",
      "metadata": {
        "id": "AXp3qFplMfud",
        "colab_type": "code",
        "colab": {}
      },
      "source": [
        ""
      ],
      "execution_count": 0,
      "outputs": []
    },
    {
      "cell_type": "code",
      "metadata": {
        "id": "ITwsnBrNMfqh",
        "colab_type": "code",
        "colab": {}
      },
      "source": [
        ""
      ],
      "execution_count": 0,
      "outputs": []
    },
    {
      "cell_type": "code",
      "metadata": {
        "id": "aNmCyjKgMfoI",
        "colab_type": "code",
        "colab": {}
      },
      "source": [
        ""
      ],
      "execution_count": 0,
      "outputs": []
    },
    {
      "cell_type": "code",
      "metadata": {
        "id": "qey2tWpaMfmF",
        "colab_type": "code",
        "colab": {}
      },
      "source": [
        ""
      ],
      "execution_count": 0,
      "outputs": []
    },
    {
      "cell_type": "code",
      "metadata": {
        "id": "OkcRG8Xqs9eI",
        "colab_type": "code",
        "colab": {}
      },
      "source": [
        "\n",
        "class NoiseDB(VisionDataset):\n",
        "    '''Class with noise data'''\n",
        "    def __init__(self, dataset):\n",
        "        self.images = dataset\n",
        "        self.target = [0 for i in range(len(dataset))]\n",
        "        self.root = \"add/pickle/location\"\n",
        "        \n",
        "        # Check length of target and image match\n",
        "        assert len(self.images) == len(self.target)\n",
        "        \n",
        "    def __len__(self):\n",
        "        return len(self.images)\n",
        "\n",
        "    def __getitem__(self, index):\n",
        "        target = self.target[index]\n",
        "        img = self.images[index]\n",
        "            \n",
        "        return img, target"
      ],
      "execution_count": 0,
      "outputs": []
    },
    {
      "cell_type": "code",
      "metadata": {
        "id": "MLU57A7uHtiz",
        "colab_type": "code",
        "colab": {}
      },
      "source": [
        "class ConcatenateDB(VisionDataset):\n",
        "    '''Class to concatenate two dataset and return a tuple\n",
        "    Inputs : datasets to concatenate \n",
        "    /!\\ Assumptions :\n",
        "    - several datasets are provided\n",
        "    - both an image and a target are available (full of 0 if no target exists)\n",
        "    - the datasets are of same size \n",
        "    Output : an iterable dataset, with a tuple of images and a tuple of targets provided at each iteration\n",
        "    '''\n",
        "    def __init__(self, *datasets):\n",
        "        nb_datasets = len(datasets)\n",
        "        len_datasets = len(datasets[0]) #assumes all datasets have the same length\n",
        "        all_images = [[DB[i][0] for i in range(len_datasets)] for DB in datasets]\n",
        "        all_targets = [[DB[i][1] for i in range(len_datasets)] for DB in datasets]\n",
        "        \n",
        "        self.images = list(zip(*all_images))\n",
        "        self.targets = list(zip(*all_targets))\n",
        "        self.root = \"add/pickle/location\"\n",
        "        \n",
        "        # Check length of target and image match\n",
        "        assert len(self.images) == len(self.targets)\n",
        "        \n",
        "    def __len__(self):\n",
        "        return len(self.images)\n",
        "\n",
        "    def __getitem__(self, index):\n",
        "        target = self.targets[index]\n",
        "        img = self.images[index]\n",
        "            \n",
        "        return img, target"
      ],
      "execution_count": 0,
      "outputs": []
    },
    {
      "cell_type": "code",
      "metadata": {
        "id": "otO1vta0H2QL",
        "colab_type": "code",
        "colab": {}
      },
      "source": [
        "# Trainset that concatenates the MNIST dataset and a dataset full of noise\n",
        "conc_trainset = ConcatenateDB(trainset_pad,Noise_trainset)\n",
        "# Data loader\n",
        "conc_loader = DataLoader(conc_trainset, args['batch_size'], shuffle=True, **kwargs)"
      ],
      "execution_count": 0,
      "outputs": []
    },
    {
      "cell_type": "code",
      "metadata": {
        "colab_type": "code",
        "id": "AFKXluw4MgJn",
        "colab": {}
      },
      "source": [
        "#philo\n",
        "\n",
        "\n",
        "all_loss_G = []\n",
        "all_loss_C = []\n",
        "all_synth_img = []\n",
        "all_features_real = []\n",
        "all_features_synth = []\n",
        "    \n",
        "def train(model_C, model_G, loader, optimizer_C, optimizer_G, args, epoch, device = 'cpu'):\n",
        "    print('Training epoch {:d}'.format(epoch))\n",
        "    \n",
        "    model_G.train() #?? ca fait quoi cette fonction\n",
        "    model_C.train()\n",
        "\n",
        "    # /!\\/!\\To uncomment (defined outside for now do to memory issues)\n",
        "#     all_loss_G = []\n",
        "#     all_loss_C = []\n",
        "#     all_synth_img = []\n",
        "#     all_features_real = []\n",
        "#     all_features_synth = []\n",
        "\n",
        "    for batch_idx, ((img, noise), (target, _)) in loader:\n",
        "        ## Sample two independent minibatches\n",
        "\n",
        "        # Sample a first minibatch\n",
        "        X = img.to(device)\n",
        "        Z = noise.detach().to(device)\n",
        "\n",
        "        # Take the next step of iterator to sample a second minibatch\n",
        "        batch_idx, ((imgp, noisep),(targetp, _p)) = next(loader)\n",
        "        Xp = imgp.to(device)\n",
        "        Zp = noisep.detach().to(device)\n",
        "\n",
        "        # Embed real images into feature space by applying critic\n",
        "        out_X = model_C(X).to(device) #added\n",
        "        out_Xp = model_C(Xp).to(device) #added\n",
        "        all_features_real.append((out_X,out_Xp))\n",
        "\n",
        "        # Generate synthesized image from noise\n",
        "        Y = model_G(Z)\n",
        "        Yp = model_G(Zp)\n",
        "        all_synth_img.append((Y,Yp))\n",
        "\n",
        "        # Embed synthesized images into the feature space by using the critic\n",
        "        # Question : remove gradient coming from the generator part ?? --> cf .detach()\n",
        "        out_Y = model_C(Y.detach()).to(device) #added\n",
        "        out_Yp = model_C(Yp.detach()).to(device) #added\n",
        "        all_features_synth.append((out_Y,out_Yp))\n",
        "\n",
        "        # Generator's update\n",
        "        loss_G = loss_cos_dist(out_X,out_Xp,out_Y,out_Yp, detach = False, device = device)\n",
        "        loss_G.backward(retain_graph=True) #?\n",
        "        optimizer_G.step()\n",
        "        optimizer_G.zero_grad()\n",
        "        all_loss_G.append(loss_G)\n",
        "\n",
        "        # Critic update (take into account the fact that we sample two minibatches at each round)\n",
        "        if batch_idx % (2*args[\"n_gen\"]) == 0 :\n",
        "            loss_C = -loss_G\n",
        "            loss_C.backward()\n",
        "            optimizer_C.step()\n",
        "            optimizer_C.zero_grad()\n",
        "            all_loss_C.append(loss_C)\n",
        "    \n",
        "    return {\"loss_C\": all_loss_C,\n",
        "           \"loss_G\": all_loss_G,\n",
        "           \"all_synth_img\": all_synth_img,\n",
        "           \"all_features_synth\" : all_features_synth,\n",
        "           \"all_features_real\" : all_features_real}"
      ],
      "execution_count": 0,
      "outputs": []
    },
    {
      "cell_type": "code",
      "metadata": {
        "colab_type": "code",
        "id": "dPNruvvVMgJs",
        "outputId": "6f0afb8e-5824-490c-9870-6e8392dd036a",
        "colab": {
          "base_uri": "https://localhost:8080/",
          "height": 420
        }
      },
      "source": [
        "######### Initialize everything again\n",
        "# Load critic\n",
        "model_C = Critic32x32()\n",
        "model_C = model_C.to(device)\n",
        "optimizer_C = torch.optim.Adam(params = model_C.parameters(), lr=args[\"lr\"], betas=(args[\"beta1\"], args[\"beta2\"]))\n",
        "\n",
        "# Load generator\n",
        "model_G = Generator32x32()\n",
        "model_G = model_G.to(device)\n",
        "optimizer_G = torch.optim.Adam(params = model_G.parameters(), lr=args[\"lr\"], betas=(args[\"beta1\"], args[\"beta2\"]))\n",
        "\n",
        "# Check have an even number of minibatches\n",
        "assert len(conc_trainset) % 2 == 0\n",
        "\n",
        "######### Define iterator\n",
        "conc_iterator = enumerate(conc_loader)\n",
        "\n",
        "\n",
        "######## Test training\n",
        "train_result=[]\n",
        "for epoch in range(args[\"epochs\"]):\n",
        "    train_result.append(train(model_C, model_G, conc_iterator, optimizer_C, optimizer_G, args, epoch, device = device))"
      ],
      "execution_count": 0,
      "outputs": [
        {
          "output_type": "stream",
          "text": [
            "Training epoch 0\n",
            "GPU error cuda:0\n",
            "GPU error cuda:0\n",
            "GPU error cuda:0\n",
            "GPU error cuda:0\n"
          ],
          "name": "stdout"
        },
        {
          "output_type": "error",
          "ename": "KeyboardInterrupt",
          "evalue": "ignored",
          "traceback": [
            "\u001b[0;31m---------------------------------------------------------------------------\u001b[0m",
            "\u001b[0;31mKeyboardInterrupt\u001b[0m                         Traceback (most recent call last)",
            "\u001b[0;32m<ipython-input-69-88b91ca56fab>\u001b[0m in \u001b[0;36m<module>\u001b[0;34m()\u001b[0m\n\u001b[1;32m     18\u001b[0m \u001b[0mtrain_result\u001b[0m\u001b[0;34m=\u001b[0m\u001b[0;34m[\u001b[0m\u001b[0;34m]\u001b[0m\u001b[0;34m\u001b[0m\u001b[0;34m\u001b[0m\u001b[0m\n\u001b[1;32m     19\u001b[0m \u001b[0;32mfor\u001b[0m \u001b[0mepoch\u001b[0m \u001b[0;32min\u001b[0m \u001b[0mrange\u001b[0m\u001b[0;34m(\u001b[0m\u001b[0margs\u001b[0m\u001b[0;34m[\u001b[0m\u001b[0;34m\"epochs\"\u001b[0m\u001b[0;34m]\u001b[0m\u001b[0;34m)\u001b[0m\u001b[0;34m:\u001b[0m\u001b[0;34m\u001b[0m\u001b[0;34m\u001b[0m\u001b[0m\n\u001b[0;32m---> 20\u001b[0;31m     \u001b[0mtrain_result\u001b[0m\u001b[0;34m.\u001b[0m\u001b[0mappend\u001b[0m\u001b[0;34m(\u001b[0m\u001b[0mtrain\u001b[0m\u001b[0;34m(\u001b[0m\u001b[0mmodel_C\u001b[0m\u001b[0;34m,\u001b[0m \u001b[0mmodel_G\u001b[0m\u001b[0;34m,\u001b[0m \u001b[0mconc_iterator\u001b[0m\u001b[0;34m,\u001b[0m \u001b[0moptimizer_C\u001b[0m\u001b[0;34m,\u001b[0m \u001b[0moptimizer_G\u001b[0m\u001b[0;34m,\u001b[0m \u001b[0margs\u001b[0m\u001b[0;34m,\u001b[0m \u001b[0mepoch\u001b[0m\u001b[0;34m,\u001b[0m \u001b[0mdevice\u001b[0m \u001b[0;34m=\u001b[0m \u001b[0mdevice\u001b[0m\u001b[0;34m)\u001b[0m\u001b[0;34m)\u001b[0m\u001b[0;34m\u001b[0m\u001b[0;34m\u001b[0m\u001b[0m\n\u001b[0m",
            "\u001b[0;32m<ipython-input-68-061c39d59e12>\u001b[0m in \u001b[0;36mtrain\u001b[0;34m(model_C, model_G, loader, optimizer_C, optimizer_G, args, epoch, device)\u001b[0m\n\u001b[1;32m     49\u001b[0m \u001b[0;34m\u001b[0m\u001b[0m\n\u001b[1;32m     50\u001b[0m         \u001b[0;31m# Generator's update\u001b[0m\u001b[0;34m\u001b[0m\u001b[0;34m\u001b[0m\u001b[0;34m\u001b[0m\u001b[0m\n\u001b[0;32m---> 51\u001b[0;31m         \u001b[0mloss_G\u001b[0m \u001b[0;34m=\u001b[0m \u001b[0mloss_cos_dist\u001b[0m\u001b[0;34m(\u001b[0m\u001b[0mout_X\u001b[0m\u001b[0;34m,\u001b[0m\u001b[0mout_Xp\u001b[0m\u001b[0;34m,\u001b[0m\u001b[0mout_Y\u001b[0m\u001b[0;34m,\u001b[0m\u001b[0mout_Yp\u001b[0m\u001b[0;34m,\u001b[0m \u001b[0mdetach\u001b[0m \u001b[0;34m=\u001b[0m \u001b[0;32mFalse\u001b[0m\u001b[0;34m,\u001b[0m \u001b[0mdevice\u001b[0m \u001b[0;34m=\u001b[0m \u001b[0mdevice\u001b[0m\u001b[0;34m)\u001b[0m\u001b[0;34m\u001b[0m\u001b[0;34m\u001b[0m\u001b[0m\n\u001b[0m\u001b[1;32m     52\u001b[0m         \u001b[0mloss_G\u001b[0m\u001b[0;34m.\u001b[0m\u001b[0mbackward\u001b[0m\u001b[0;34m(\u001b[0m\u001b[0mretain_graph\u001b[0m\u001b[0;34m=\u001b[0m\u001b[0;32mTrue\u001b[0m\u001b[0;34m)\u001b[0m\u001b[0;34m\u001b[0m\u001b[0;34m\u001b[0m\u001b[0m\n\u001b[1;32m     53\u001b[0m         \u001b[0moptimizer_G\u001b[0m\u001b[0;34m.\u001b[0m\u001b[0mstep\u001b[0m\u001b[0;34m(\u001b[0m\u001b[0;34m)\u001b[0m\u001b[0;34m\u001b[0m\u001b[0;34m\u001b[0m\u001b[0m\n",
            "\u001b[0;32m<ipython-input-67-cb0cfefaff42>\u001b[0m in \u001b[0;36mloss_cos_dist\u001b[0;34m(X, Xp, Y, Yp, detach, device)\u001b[0m\n\u001b[1;32m     18\u001b[0m     '''\n\u001b[1;32m     19\u001b[0m \u001b[0;34m\u001b[0m\u001b[0m\n\u001b[0;32m---> 20\u001b[0;31m     \u001b[0mloss\u001b[0m \u001b[0;34m=\u001b[0m \u001b[0msinkhorn_distance\u001b[0m\u001b[0;34m(\u001b[0m\u001b[0mcos_dist\u001b[0m\u001b[0;34m(\u001b[0m\u001b[0mX\u001b[0m\u001b[0;34m,\u001b[0m\u001b[0mY\u001b[0m\u001b[0;34m)\u001b[0m\u001b[0;34m,\u001b[0m \u001b[0mdetach\u001b[0m\u001b[0;34m=\u001b[0m\u001b[0mdetach\u001b[0m\u001b[0;34m,\u001b[0m \u001b[0mdevice\u001b[0m \u001b[0;34m=\u001b[0m \u001b[0mdevice\u001b[0m\u001b[0;34m)\u001b[0m\u001b[0;34m\u001b[0m\u001b[0;34m\u001b[0m\u001b[0m\n\u001b[0m\u001b[1;32m     21\u001b[0m     \u001b[0mloss\u001b[0m \u001b[0;34m+=\u001b[0m \u001b[0msinkhorn_distance\u001b[0m\u001b[0;34m(\u001b[0m\u001b[0mcos_dist\u001b[0m\u001b[0;34m(\u001b[0m\u001b[0mX\u001b[0m\u001b[0;34m,\u001b[0m\u001b[0mYp\u001b[0m\u001b[0;34m)\u001b[0m\u001b[0;34m,\u001b[0m \u001b[0mdetach\u001b[0m\u001b[0;34m=\u001b[0m\u001b[0mdetach\u001b[0m\u001b[0;34m,\u001b[0m \u001b[0mdevice\u001b[0m \u001b[0;34m=\u001b[0m \u001b[0mdevice\u001b[0m\u001b[0;34m)\u001b[0m\u001b[0;34m\u001b[0m\u001b[0;34m\u001b[0m\u001b[0m\n\u001b[1;32m     22\u001b[0m     \u001b[0mloss\u001b[0m \u001b[0;34m+=\u001b[0m \u001b[0msinkhorn_distance\u001b[0m\u001b[0;34m(\u001b[0m\u001b[0mcos_dist\u001b[0m\u001b[0;34m(\u001b[0m\u001b[0mXp\u001b[0m\u001b[0;34m,\u001b[0m\u001b[0mY\u001b[0m\u001b[0;34m)\u001b[0m\u001b[0;34m,\u001b[0m \u001b[0mdetach\u001b[0m\u001b[0;34m=\u001b[0m\u001b[0mdetach\u001b[0m\u001b[0;34m,\u001b[0m \u001b[0mdevice\u001b[0m \u001b[0;34m=\u001b[0m \u001b[0mdevice\u001b[0m\u001b[0;34m)\u001b[0m\u001b[0;34m\u001b[0m\u001b[0;34m\u001b[0m\u001b[0m\n",
            "\u001b[0;32m<ipython-input-66-de3e25f1c3db>\u001b[0m in \u001b[0;36msinkhorn_distance\u001b[0;34m(C, epsilon, max_iters, a, b, detach, device)\u001b[0m\n\u001b[1;32m     23\u001b[0m         \u001b[0mb\u001b[0m \u001b[0;34m=\u001b[0m \u001b[0mtorch\u001b[0m\u001b[0;34m.\u001b[0m\u001b[0mones\u001b[0m\u001b[0;34m(\u001b[0m\u001b[0;34m[\u001b[0m\u001b[0mm\u001b[0m\u001b[0;34m]\u001b[0m\u001b[0;34m,\u001b[0m \u001b[0mdtype\u001b[0m\u001b[0;34m=\u001b[0m\u001b[0mtorch\u001b[0m\u001b[0;34m.\u001b[0m\u001b[0mfloat64\u001b[0m\u001b[0;34m)\u001b[0m\u001b[0;34m\u001b[0m\u001b[0;34m\u001b[0m\u001b[0m\n\u001b[1;32m     24\u001b[0m \u001b[0;34m\u001b[0m\u001b[0m\n\u001b[0;32m---> 25\u001b[0;31m     \u001b[0ma\u001b[0m \u001b[0;34m=\u001b[0m \u001b[0ma\u001b[0m\u001b[0;34m.\u001b[0m\u001b[0mto\u001b[0m\u001b[0;34m(\u001b[0m\u001b[0mdevice\u001b[0m\u001b[0;34m)\u001b[0m\u001b[0;34m\u001b[0m\u001b[0;34m\u001b[0m\u001b[0m\n\u001b[0m\u001b[1;32m     26\u001b[0m     \u001b[0mb\u001b[0m \u001b[0;34m=\u001b[0m \u001b[0mb\u001b[0m\u001b[0;34m.\u001b[0m\u001b[0mto\u001b[0m\u001b[0;34m(\u001b[0m\u001b[0mdevice\u001b[0m\u001b[0;34m)\u001b[0m\u001b[0;34m\u001b[0m\u001b[0;34m\u001b[0m\u001b[0m\n\u001b[1;32m     27\u001b[0m \u001b[0;34m\u001b[0m\u001b[0m\n",
            "\u001b[0;31mKeyboardInterrupt\u001b[0m: "
          ]
        }
      ]
    },
    {
      "cell_type": "markdown",
      "metadata": {
        "colab_type": "text",
        "id": "PfC_eDdbMgJy"
      },
      "source": [
        "Plot synthesized images after initialization of the generator network. \n",
        "\n",
        "**TODO** : check if padding is a problem when training the model --> look at the border of synthesized images"
      ]
    },
    {
      "cell_type": "code",
      "metadata": {
        "colab_type": "code",
        "id": "aHGGa2omMgJz",
        "colab": {}
      },
      "source": [
        "##### First epoch\n",
        "# all_synth_img = train_result[0][\"all_synth_img\"]\n",
        "\n",
        "fig, ax = plt.subplots(1,4, figsize=(15,7))\n",
        "# First iteration (only take the first image of each minibatch)\n",
        "ax[0].imshow(all_synth_img[0][0][0][0].detach(), cmap=plt.cm.gray)\n",
        "ax[1].imshow(all_synth_img[0][1][0][0].detach(), cmap=plt.cm.gray)\n",
        "# Second iteration\n",
        "ax[2].imshow(all_synth_img[1][0][0][0].detach(), cmap=plt.cm.gray)\n",
        "ax[3].imshow(all_synth_img[1][1][0][0].detach(), cmap=plt.cm.gray)\n",
        "plt.suptitle(\"Plot generated images after two iterations\")\n",
        "plt.subplots_adjust(top=1.2)\n",
        "plt.show()"
      ],
      "execution_count": 0,
      "outputs": []
    }
  ]
}