{
 "cells": [
  {
   "cell_type": "markdown",
   "metadata": {},
   "source": [
    "# Preliminary tests for OTGAN\n",
    "Based on :\n",
    "\n",
    "[1] Tim Salimans, Han Zhang, Alec Radford, and Dimitris Metaxas. **Improving GANs using optimal\n",
    "transport.** In ICLR, 2018."
   ]
  },
  {
   "cell_type": "code",
   "execution_count": 1,
   "metadata": {},
   "outputs": [],
   "source": [
    "import numpy as np\n",
    "import matplotlib.pyplot as plt\n",
    "import os\n",
    "import argparse\n",
    "from datetime import datetime\n",
    "\n",
    "import torch\n",
    "import torchvision\n",
    "from torchvision import datasets, transforms\n",
    "import torch\n",
    "import torch.nn as nn\n",
    "from torch import Tensor\n",
    "import torch.nn.functional as F\n",
    "import torch.optim as optim\n",
    "from torch.utils.data import DataLoader\n",
    "from torch.autograd import Variable\n",
    "import tqdm"
   ]
  },
  {
   "cell_type": "code",
   "execution_count": 2,
   "metadata": {},
   "outputs": [],
   "source": [
    "# path = \"C:/Users/Philo/Documents/3A -- ENSAE/Optimal transport/OTGAN\"\n",
    "# os.chdir(path)"
   ]
  },
  {
   "cell_type": "markdown",
   "metadata": {},
   "source": [
    "### Model parameters and hyperparameters"
   ]
  },
  {
   "cell_type": "code",
   "execution_count": 3,
   "metadata": {},
   "outputs": [],
   "source": [
    "args={}\n",
    "kwargs={}\n",
    "args['batch_size']=10\n",
    "args['val_batch_size']=10\n",
    "args['epochs']=10  \n",
    "\n",
    "# Use the same value as author's for CIFAR for Adam LR and beta values :\n",
    "args['lr']=3*1e-4\n",
    "args['beta1']= 0.5\n",
    "args['beta2']= 0.999\n",
    "\n",
    "\n",
    "args['seed']=1 #random seed\n",
    "args['cuda']=True if torch.cuda.is_available() else False\n",
    "device = \"cuda\" if args['cuda']==True else \"cpu\"\n",
    "\n",
    "\n",
    "args[\"n_gen\"] = 3 # number of generator updates per critic update (as in CIFAR's example)"
   ]
  },
  {
   "cell_type": "code",
   "execution_count": 4,
   "metadata": {},
   "outputs": [
    {
     "data": {
      "text/plain": [
       "<torch._C.Generator at 0x17909b2bf50>"
      ]
     },
     "execution_count": 4,
     "metadata": {},
     "output_type": "execute_result"
    }
   ],
   "source": [
    "np.random.seed(args['seed'])\n",
    "torch.random.manual_seed(args['seed']) #noGPU\n",
    "# torch.cuda.seed(args['seed']) #single GPU\n",
    "# torch.cuda.manual_seed_all(args['seed']) #several GPUs\n"
   ]
  },
  {
   "cell_type": "markdown",
   "metadata": {},
   "source": [
    "### Data preprocessing"
   ]
  },
  {
   "cell_type": "markdown",
   "metadata": {},
   "source": [
    "#### Load MNIST dataset"
   ]
  },
  {
   "cell_type": "code",
   "execution_count": 5,
   "metadata": {},
   "outputs": [],
   "source": [
    "# Define dataset transformation\n",
    "transform = transforms.Compose([transforms.ToTensor(),\n",
    "                              transforms.Normalize((0.1307,), (0.3081,)) #use MNIST mean and std\n",
    "                              ])\n",
    "\n",
    "# ## Preliminary step : download dataset\n",
    "# trainset = datasets.MNIST('../data/MNIST', download=True, train=True, transform=transform)\n",
    "# valset = datasets.MNIST('../data/MNIST', download=True, train=False, transform=transform)\n",
    "\n",
    "trainset = torchvision.datasets.MNIST('../data/MNIST', train=True, transform=transform)\n",
    "# valset = torchvision.datasets.MNIST('../data/MNIST', train=False, transform=transform)\n"
   ]
  },
  {
   "cell_type": "code",
   "execution_count": 6,
   "metadata": {},
   "outputs": [
    {
     "name": "stdout",
     "output_type": "stream",
     "text": [
      "Size of the input image :  torch.Size([1, 28, 28])\n"
     ]
    },
    {
     "data": {
      "image/png": "[encoded data removed]",
      "text/plain": [
       "<Figure size 432x288 with 1 Axes>"
      ]
     },
     "metadata": {
      "needs_background": "light"
     },
     "output_type": "display_data"
    }
   ],
   "source": [
    "index = 10\n",
    "print(\"Size of the input image : \",trainset[index][0].size())\n",
    "plt.imshow(trainset[index][0].view(trainset[index][0].size()[1],trainset[index][0].size()[2]),cmap='gray')\n",
    "plt.title(\"Initial image, Target label : \"+str(trainset[index][1]))\n",
    "plt.show()"
   ]
  },
  {
   "cell_type": "markdown",
   "metadata": {},
   "source": [
    "##### Train and validation loaders"
   ]
  },
  {
   "cell_type": "code",
   "execution_count": 6,
   "metadata": {},
   "outputs": [],
   "source": [
    "train_loader = DataLoader(trainset, args['batch_size'], shuffle=True, **kwargs)\n",
    "# val_loader = DataLoader(valset, args['val_batch_size'], shuffle=True, **kwargs)"
   ]
  },
  {
   "cell_type": "markdown",
   "metadata": {},
   "source": [
    "#### Add padding to obtain 32x32 images"
   ]
  },
  {
   "cell_type": "code",
   "execution_count": 7,
   "metadata": {},
   "outputs": [],
   "source": [
    "from torchvision.datasets import VisionDataset\n",
    "from albumentations import Resize, Compose\n",
    "from torchvision import transforms"
   ]
  },
  {
   "cell_type": "code",
   "execution_count": 8,
   "metadata": {},
   "outputs": [],
   "source": [
    "# check_black = [tup[0][0,0,0].item() for tup in trainset]+[tup[0][0,0,0].item() for tup in valset]\n",
    "# assert len(check_black) == len(trainset) + len(valset)\n",
    "# padding_val = list(set(check_black))[0]\n",
    "padding_val = trainset[0][0][0][0][0]\n",
    "resizing_val = 32"
   ]
  },
  {
   "cell_type": "code",
   "execution_count": 9,
   "metadata": {},
   "outputs": [],
   "source": [
    "class MNISTPad(VisionDataset):\n",
    "    '''Class to handle to MNIST Dataset (resized)'''\n",
    "    \n",
    "    def __init__(self, dataset, transform, transform_val):\n",
    "        self.images = [tup[0] for tup in dataset]\n",
    "        self.target = [tup[1] for tup in dataset]\n",
    "        self.transform = transform\n",
    "        self.transform_val = transform_val\n",
    "        self.root = dataset\n",
    "        \n",
    "        # Check length of target and image match\n",
    "        assert len(self.images) == len(self.target)\n",
    "        \n",
    "    def __len__(self):\n",
    "        return len(self.images)\n",
    "\n",
    "    def __getitem__(self, index):\n",
    "        target = self.target[index]\n",
    "        img = self.images[index]\n",
    "        if self.transform == \"padding\":\n",
    "            img = F.pad(img, \n",
    "                        # utiliser l'étoile ? \n",
    "                        pad=(self.transform_val, self.transform_val, self.transform_val, self.transform_val),\n",
    "                        mode='constant', value=padding_val)\n",
    "        \n",
    "        if self.transform == \"resizing\":\n",
    "            #TODO : add the resizing option instead of padding \n",
    "            resizing_transform = Compose([\n",
    "#                         transforms.ToPILImage(),\n",
    "                        Resize(height = resizing_val, width = resizing_val, always_apply = True),\n",
    "                        transforms.ToTensor(),\n",
    "                        ])\n",
    "            \n",
    "        return img, target"
   ]
  },
  {
   "cell_type": "code",
   "execution_count": 10,
   "metadata": {},
   "outputs": [
    {
     "data": {
      "text/plain": [
       "Dataset MNISTPad\n",
       "    Number of datapoints: 60000\n",
       "    Root location: Dataset MNIST\n",
       "    Number of datapoints: 60000\n",
       "    Root location: ../data/MNIST\n",
       "    Split: Train\n",
       "    StandardTransform\n",
       "Transform: Compose(\n",
       "               ToTensor()\n",
       "               Normalize(mean=(0.1307,), std=(0.3081,))\n",
       "           )"
      ]
     },
     "execution_count": 10,
     "metadata": {},
     "output_type": "execute_result"
    }
   ],
   "source": [
    "trainset_pad = MNISTPad(trainset, \"padding\", 2)\n",
    "trainset_pad"
   ]
  },
  {
   "cell_type": "code",
   "execution_count": 50,
   "metadata": {},
   "outputs": [
    {
     "data": {
      "text/plain": [
       "Dataset MNISTPad\n",
       "    Number of datapoints: 10000\n",
       "    Root location: Dataset MNIST\n",
       "    Number of datapoints: 10000\n",
       "    Root location: ../data/MNIST\n",
       "    Split: Test\n",
       "    StandardTransform\n",
       "Transform: Compose(\n",
       "               ToTensor()\n",
       "               Normalize(mean=(0.1307,), std=(0.3081,))\n",
       "           )"
      ]
     },
     "execution_count": 50,
     "metadata": {},
     "output_type": "execute_result"
    }
   ],
   "source": [
    "# valset_pad = MNISTPad(valset, \"padding\", 2)\n",
    "# valset_pad"
   ]
  },
  {
   "cell_type": "code",
   "execution_count": 13,
   "metadata": {},
   "outputs": [
    {
     "name": "stdout",
     "output_type": "stream",
     "text": [
      "Size of the input image :  torch.Size([1, 32, 32])\n"
     ]
    },
    {
     "data": {
      "image/png": "[encoded data removed]",
      "text/plain": [
       "<Figure size 432x288 with 1 Axes>"
      ]
     },
     "metadata": {
      "needs_background": "light"
     },
     "output_type": "display_data"
    }
   ],
   "source": [
    "print(\"Size of the input image : \",trainset_pad[index][0].size())\n",
    "plt.imshow(trainset_pad[index][0].view(trainset_pad[index][0].size()[1],trainset_pad[index][0].size()[2]),cmap='gray')\n",
    "plt.title(\"Padded image, Target label : \"+str(trainset_pad[index][1]))\n",
    "plt.show()"
   ]
  },
  {
   "cell_type": "markdown",
   "metadata": {},
   "source": [
    "##### Tests to include a resize option from albumentation instead of padding"
   ]
  },
  {
   "cell_type": "code",
   "execution_count": null,
   "metadata": {},
   "outputs": [],
   "source": [
    "# import cv2\n",
    "# # t = transforms.ToPILImage()\n",
    "# # imgg = t(img[0,:,:,:])\n",
    "# r = Resize(height = resizing_val, width = resizing_val, always_apply = True)\n",
    "# # r(image=img)\n",
    "# # r(image=cv2.cvtColor(cv2.UMat(np.float32(img[0,:,:,:])), cv2.COLOR_RGB2GRAY))\n",
    "# r(image=cv2.cvtColor(cv2.UMat(np.float32(np.array(imgg))), cv2.COLOR_RGB2GRAY))\n"
   ]
  },
  {
   "cell_type": "code",
   "execution_count": null,
   "metadata": {},
   "outputs": [],
   "source": [
    "# # Test for the resizing :\n",
    "# resizing_transform = Compose([\n",
    "# #                         transforms.ToPILImage(),\n",
    "#                         Resize(height = resizing_val, width = resizing_val, always_apply = True),\n",
    "#                         transforms.ToTensor(),\n",
    "#                         ])\n",
    "# resizing_transform(img[0,:,:,:])"
   ]
  },
  {
   "cell_type": "markdown",
   "metadata": {},
   "source": [
    "##### Train and validation loaders"
   ]
  },
  {
   "cell_type": "code",
   "execution_count": 11,
   "metadata": {},
   "outputs": [],
   "source": [
    "train_pad_loader = DataLoader(trainset_pad, args['batch_size'], shuffle=True, **kwargs)\n",
    "# val_pad_loader = DataLoader(valset_pad, args['val_batch_size'], shuffle=True, **kwargs)"
   ]
  },
  {
   "cell_type": "markdown",
   "metadata": {},
   "source": [
    "#### Create mixture of gaussians"
   ]
  },
  {
   "cell_type": "code",
   "execution_count": 55,
   "metadata": {},
   "outputs": [],
   "source": [
    "def simulate_gaussian_mixture(cov_mixt_ratio, size_mixt, nb_modes = 8):\n",
    "    '''Simulate gaussian mixture with nb_modes modes arranges around the unit circle\n",
    "    Inputs :\n",
    "    cov_mixt_ratio : the ratio by which the identity is divided when defining the covariance matrix\n",
    "    size_mixt : the size of the vector for EACH gaussian\n",
    "    nb_modes : the number of mixtures\n",
    "    Outputs : \n",
    "    a numpy array of dimension (size_mixt*nb_modes , 2)\n",
    "    '''\n",
    "    val = np.arange(0,2*np.pi,np.pi/(nb_modes/2)) \n",
    "    x_val = np.cos(val)\n",
    "    y_val = np.sin(val)\n",
    "    mixture = []\n",
    "    for i in range(len(val)):\n",
    "        mixture.append(np.random.multivariate_normal(mean = [x_val[i],y_val[i]], cov = np.identity(2)/cov_mixt_ratio, size = size_mixt))\n",
    "\n",
    "    mixture_vect = mixture[0]\n",
    "    for i in range(1,len(val)):\n",
    "        mixture_vect = np.concatenate([mixture_vect,mixture[i]])\n",
    "    return mixture_vect"
   ]
  },
  {
   "cell_type": "code",
   "execution_count": 56,
   "metadata": {},
   "outputs": [
    {
     "data": {
      "image/png": "[encoded data removed]",
      "text/plain": [
       "<Figure size 432x288 with 1 Axes>"
      ]
     },
     "metadata": {
      "needs_background": "light"
     },
     "output_type": "display_data"
    }
   ],
   "source": [
    "nb_modes = 8\n",
    "size_mixt = 100\n",
    "cov_mixt_ratio = 50 #aparent modes but not too separeted\n",
    "mixture_vect = simulate_gaussian_mixture(cov_mixt_ratio, size_mixt, nb_modes)\n",
    "plt.scatter(mixture_vect[:,0],mixture_vect[:,1])\n",
    "plt.title(\"Simulated gaussian mixture of size \"+str(nb_modes*size_mixt)+\" and variance of \"+str(1/cov_mixt_ratio))\n",
    "plt.show()"
   ]
  },
  {
   "cell_type": "markdown",
   "metadata": {},
   "source": [
    "The simulated gaussian mixtures need to be converted to an image. "
   ]
  },
  {
   "cell_type": "code",
   "execution_count": 57,
   "metadata": {},
   "outputs": [],
   "source": [
    "def array_to_img(array, img_size, return_normalized = False):\n",
    "    \"\"\"Function\n",
    "    array : an array of dimension Kx2\n",
    "    img_size : the dimension of the (square) image obtained\n",
    "    return_normalized : also return the normalized array (for comparison)\n",
    "    \"\"\"\n",
    "    mixture_norm = array+np.abs(np.min(array))\n",
    "    mixture_norm = mixture_norm/(np.max(mixture_norm)-np.min(mixture_norm))\n",
    "    round_array = np.round(mixture_norm*(img_size-1))\n",
    "    gauss_img = np.zeros((img_size,img_size))\n",
    "    for i in range(round_array.shape[0]):\n",
    "        gauss_img[int(round_array[i,:][0]),int(round_array[i,:][1])] = 255\n",
    "    if return_normalized == False :\n",
    "        return gauss_img\n",
    "    else :\n",
    "        return gauss_img, mixture_norm"
   ]
  },
  {
   "cell_type": "code",
   "execution_count": 58,
   "metadata": {},
   "outputs": [
    {
     "data": {
      "image/png": "[encoded data removed]",
      "text/plain": [
       "<Figure size 1080x504 with 2 Axes>"
      ]
     },
     "metadata": {
      "needs_background": "light"
     },
     "output_type": "display_data"
    }
   ],
   "source": [
    "img_size = 32\n",
    "gauss_img, mixture_norm = array_to_img(mixture_vect, img_size, return_normalized = True)\n",
    "\n",
    "fig, ax = plt.subplots(1,2, figsize=(15,7))\n",
    "ax[0].scatter(mixture_norm[:,0],mixture_norm[:,1])\n",
    "ax[0].set_title('Normalized array')\n",
    "ax[1].imshow(gauss_img, cmap=plt.cm.gray)\n",
    "ax[1].set_title('Square image of size '+str(img_size))\n",
    "plt.show()"
   ]
  },
  {
   "cell_type": "code",
   "execution_count": 97,
   "metadata": {},
   "outputs": [],
   "source": [
    "class GaussianMixtureDB(VisionDataset):\n",
    "    '''Class with gaussian mixture data'''\n",
    "    def __init__(self, dataset):\n",
    "        self.images = dataset\n",
    "        self.target = [0 for i in range(len(dataset))]\n",
    "        self.root = \"add/pickle/location\"\n",
    "        \n",
    "        # Check length of target and image match\n",
    "        assert len(self.images) == len(self.target)\n",
    "        \n",
    "    def __len__(self):\n",
    "        return len(self.images)\n",
    "\n",
    "    def __getitem__(self, index):\n",
    "        target = self.target[index]\n",
    "        img = self.images[index]\n",
    "            \n",
    "        return img, target"
   ]
  },
  {
   "cell_type": "code",
   "execution_count": 98,
   "metadata": {},
   "outputs": [],
   "source": [
    "size_GaussianMixtureDB = 20*args[\"batch_size\"]\n",
    "GaussianMixture_array = [simulate_gaussian_mixture(cov_mixt_ratio, size_mixt, nb_modes) for i in range(size_GaussianMixtureDB)]\n",
    "GaussianMixture_imgs = [array_to_img(array, img_size, return_normalized = False) for array in GaussianMixture_array]\n",
    "GaussianMixture_trainset = GaussianMixtureDB(GaussianMixture_imgs)\n",
    "GaussianMixture_loader = DataLoader(GaussianMixture_trainset, args['batch_size'], shuffle=True, **kwargs)"
   ]
  },
  {
   "cell_type": "code",
   "execution_count": 99,
   "metadata": {},
   "outputs": [
    {
     "data": {
      "text/plain": [
       "Dataset GaussianMixtureDB\n",
       "    Number of datapoints: 200\n",
       "    Root location: add/pickle/location"
      ]
     },
     "execution_count": 99,
     "metadata": {},
     "output_type": "execute_result"
    }
   ],
   "source": [
    "GaussianMixture_trainset"
   ]
  },
  {
   "cell_type": "code",
   "execution_count": 64,
   "metadata": {},
   "outputs": [],
   "source": [
    "try :\n",
    "    del GaussianMixture_array\n",
    "#     del GaussianMixture_imgs\n",
    "except :\n",
    "    print(\"deleted\")"
   ]
  },
  {
   "cell_type": "markdown",
   "metadata": {},
   "source": [
    "### Generator"
   ]
  },
  {
   "cell_type": "markdown",
   "metadata": {},
   "source": [
    "#### Define Generator's architecture \n",
    "See Table 3 of [1]\n",
    "\n",
    "As showed in the article for the CIFAR dataset : we use a $Uniform([-1,1])$ to generate noise\n",
    "\n",
    "**Note** : We consider 3 dimensions for the 32x32 image, but we could have considered only one (greyscale image)"
   ]
  },
  {
   "cell_type": "code",
   "execution_count": 12,
   "metadata": {},
   "outputs": [],
   "source": [
    "class _UpBlock_Generator(nn.Module):\n",
    "    '''\n",
    "    Class used in the Generator architecture\n",
    "    Defines the 2xNN upsample, convolution and GLU for a given input size in_channels\n",
    "    Input size : [bs, in_channels, n, n]\n",
    "    Output size : [bs, in_channels/2, 2*n, 2*n]\n",
    "    '''\n",
    "    def __init__(self, in_channels):\n",
    "        super().__init__()\n",
    "        self.conv = nn.Conv2d(in_channels = 2*in_channels, out_channels = 2*in_channels, \n",
    "                              kernel_size = 5, padding=2, stride = 1)\n",
    "\n",
    "    def forward(self, x: Tensor) -> Tensor:\n",
    "        x =  F.interpolate(x, scale_factor=(2,2), mode = \"nearest\") \n",
    "        x = self.conv(x)\n",
    "        x = F.glu(x,dim=1)\n",
    "        return x"
   ]
  },
  {
   "cell_type": "code",
   "execution_count": 13,
   "metadata": {},
   "outputs": [],
   "source": [
    "class Generator32x32(nn.Module):\n",
    "    '''Class defining the Generator with the same architecture as used by Salimans. et al. for the CIFAR dataset\n",
    "    Input : \n",
    "    input_dim : dimension of the noise z\n",
    "    out_channels : number of colour channel (1 by default for greyscale images)\n",
    "    \n",
    "    '''\n",
    "    def __init__(self, input_dim: int=100, out_channels = 1):\n",
    "        super(Generator32x32, self).__init__()\n",
    "#         self.linear = nn.Linear(in_features=input_dim, out_features=16384)\n",
    "        self.linear = nn.Linear(in_features=input_dim, out_features=32768)\n",
    "        self.up1 = _UpBlock_Generator(512) ###Pas bizarre de mettre un padding de 2?? \n",
    "        self.up2 = _UpBlock_Generator(256)\n",
    "        self.up3 = _UpBlock_Generator(128)\n",
    "        self.last_conv = nn.Conv2d(in_channels = 128, out_channels = out_channels, kernel_size = 5, padding=2, stride = 1)\n",
    "    \n",
    "    def generate_noise(self, bs, k=100):\n",
    "        ''' Generate noise with dimension [bs, k] following a Uniform([-1,1])'''\n",
    "        z = (torch.rand([bs, k], requires_grad = True)*2)-1\n",
    "        return z\n",
    "    \n",
    "    def forward(self, x: Tensor):\n",
    "        bs = x.size()[0]\n",
    "        ## Linear layer and reshape\n",
    "        x1 = self.linear(x)\n",
    "        x1_a = F.glu(x1) # size 16384 \n",
    "        x2 = x1_a.reshape(bs,1024,4,4) # size [bs, 1024, 4, 4] \n",
    "        ## Up blocks : upsample, convolution and GLU\n",
    "        x3 =  self.up1(x2) # size [bs, 512, 8, 8]\n",
    "        x4 =  self.up2(x3) # size [bs, 256, 16, 16]\n",
    "        x5 =  self.up3(x4) # size [bs, 128, 32, 32]\n",
    "        \n",
    "        ## last convolution and activation\n",
    "        x6 = self.last_conv(x5) # size [bs, 3, 32, 32]\n",
    "        x7 = torch.tanh(x6) \n",
    "        out = x7 # size [bs, 3, 32, 32]\n",
    "        return out "
   ]
  },
  {
   "cell_type": "markdown",
   "metadata": {},
   "source": [
    "#### Generate noise "
   ]
  },
  {
   "cell_type": "code",
   "execution_count": 14,
   "metadata": {},
   "outputs": [],
   "source": [
    "# Initialize random seed\n",
    "torch.random.manual_seed(args['seed'])\n",
    "\n",
    "# Define generator model\n",
    "generate = Generator32x32()"
   ]
  },
  {
   "cell_type": "code",
   "execution_count": 200,
   "metadata": {},
   "outputs": [
    {
     "data": {
      "image/png": "[encoded data removed]",
      "text/plain": [
       "<Figure size 432x288 with 1 Axes>"
      ]
     },
     "metadata": {
      "needs_background": "light"
     },
     "output_type": "display_data"
    }
   ],
   "source": [
    "# Initialize random seed\n",
    "torch.random.manual_seed(args['seed'])\n",
    "\n",
    "# Generate noise of given batch size\n",
    "k=100\n",
    "# z = generate.generate_noise(bs = args[\"batch_size\"], k = k)\n",
    "z = generate.generate_noise(bs = 1, k = k)\n",
    "\n",
    "\n",
    "# Scatter one example of noise\n",
    "plt.scatter(range(k),z[0].detach())\n",
    "plt.title(\"Noise following a $Uniform([-1,1])$ of size \"+str(k))\n",
    "plt.show()"
   ]
  },
  {
   "cell_type": "code",
   "execution_count": 201,
   "metadata": {
    "scrolled": true
   },
   "outputs": [
    {
     "name": "stdout",
     "output_type": "stream",
     "text": [
      "Output size :  torch.Size([1, 1, 32, 32])\n",
      "tensor([[[[-0.0040, -0.0034, -0.0034,  ..., -0.0038, -0.0041, -0.0039],\n",
      "          [-0.0040, -0.0043, -0.0049,  ..., -0.0054, -0.0053, -0.0044],\n",
      "          [-0.0040, -0.0047, -0.0043,  ..., -0.0040, -0.0048, -0.0037],\n",
      "          ...,\n",
      "          [-0.0045, -0.0056, -0.0045,  ..., -0.0005, -0.0018, -0.0018],\n",
      "          [-0.0042, -0.0049, -0.0041,  ..., -0.0009, -0.0023, -0.0021],\n",
      "          [-0.0046, -0.0045, -0.0028,  ..., -0.0009, -0.0021, -0.0019]]]],\n",
      "       grad_fn=<TanhBackward>)\n"
     ]
    }
   ],
   "source": [
    "# Test the output of the generator network\n",
    "generator_output = generate(z)\n",
    "print(\"Output size : \",generator_output.size())\n",
    "print(generator_output)"
   ]
  },
  {
   "cell_type": "code",
   "execution_count": 15,
   "metadata": {},
   "outputs": [],
   "source": [
    "class NoiseDB(VisionDataset):\n",
    "    '''Class with noise data'''\n",
    "    def __init__(self, dataset):\n",
    "        self.images = dataset\n",
    "        self.target = [0 for i in range(len(dataset))]\n",
    "        self.root = \"add/pickle/location\"\n",
    "        \n",
    "        # Check length of target and image match\n",
    "        assert len(self.images) == len(self.target)\n",
    "        \n",
    "    def __len__(self):\n",
    "        return len(self.images)\n",
    "\n",
    "    def __getitem__(self, index):\n",
    "        target = self.target[index]\n",
    "        img = self.images[index]\n",
    "            \n",
    "        return img, target"
   ]
  },
  {
   "cell_type": "code",
   "execution_count": 16,
   "metadata": {},
   "outputs": [],
   "source": [
    "# Use the NoiseDB class to define a dataloader\n",
    "Noise_trainset = NoiseDB(dataset=[generate.generate_noise(1, k=100) for i in range(len(trainset_pad))])\n",
    "Noise_loader = DataLoader(Noise_trainset, args['batch_size'], shuffle=True, **kwargs)"
   ]
  },
  {
   "cell_type": "markdown",
   "metadata": {},
   "source": [
    "Create a class that concatenates two datasets. When training the model, it enables to iterate both over the real images and the synthesized images (or the noise used to generate them) :"
   ]
  },
  {
   "cell_type": "code",
   "execution_count": 17,
   "metadata": {},
   "outputs": [],
   "source": [
    "class ConcatenateDB(VisionDataset):\n",
    "    '''Class to concatenate two dataset and return a tuple\n",
    "    Inputs : datasets to concatenate \n",
    "    /!\\ Assumptions :\n",
    "    - several datasets are provided\n",
    "    - both an image and a target are available (full of 0 if no target exists)\n",
    "    - the datasets are of same size \n",
    "    Output : an iterable dataset, with a tuple of images and a tuple of targets provided at each iteration\n",
    "    '''\n",
    "    def __init__(self, *datasets):\n",
    "        nb_datasets = len(datasets)\n",
    "        len_datasets = len(datasets[0]) #assumes all datasets have the same length\n",
    "        all_images = [[DB[i][0] for i in range(len_datasets)] for DB in datasets]\n",
    "        all_targets = [[DB[i][1] for i in range(len_datasets)] for DB in datasets]\n",
    "        \n",
    "        self.images = list(zip(*all_images))\n",
    "        self.targets = list(zip(*all_targets))\n",
    "        self.root = \"add/pickle/location\"\n",
    "        \n",
    "        # Check length of target and image match\n",
    "        assert len(self.images) == len(self.targets)\n",
    "        \n",
    "    def __len__(self):\n",
    "        return len(self.images)\n",
    "\n",
    "    def __getitem__(self, index):\n",
    "        target = self.targets[index]\n",
    "        img = self.images[index]\n",
    "            \n",
    "        return img, target"
   ]
  },
  {
   "cell_type": "code",
   "execution_count": 18,
   "metadata": {},
   "outputs": [],
   "source": [
    "# Trainset that concatenates the MNIST dataset and a dataset full of noise\n",
    "conc_trainset = ConcatenateDB(trainset_pad,Noise_trainset)\n",
    "# Data loader\n",
    "conc_loader = DataLoader(conc_trainset, args['batch_size'], shuffle=True, **kwargs)"
   ]
  },
  {
   "cell_type": "markdown",
   "metadata": {},
   "source": [
    "### Critic"
   ]
  },
  {
   "cell_type": "markdown",
   "metadata": {},
   "source": [
    "#### Define critic architecture\n",
    "See Table 4 of [1]\n",
    "\n",
    "takes as input 3x32x32 or 1x32x32 ?"
   ]
  },
  {
   "cell_type": "code",
   "execution_count": 19,
   "metadata": {},
   "outputs": [],
   "source": [
    "class _DownBlock_Critic(nn.Module):\n",
    "    '''\n",
    "    Class used in the Critic architecture\n",
    "    Defines the convolution and CReLU \n",
    "    Input size : [bs, in_channels, n, n]\n",
    "    Output size : [bs, in_channels*2, n/2, n/2]\n",
    "    Inputs : \n",
    "    in_channels : int\n",
    "    '''\n",
    "    def __init__(self, in_channels):\n",
    "        super().__init__()\n",
    "        self.relu = nn.ReLU()\n",
    "        self.conv = nn.Conv2d(in_channels = in_channels, out_channels = in_channels, \n",
    "                              kernel_size = 5, padding=2, stride = 2)\n",
    "\n",
    "    def forward(self, x: Tensor) -> Tensor:\n",
    "        x =  self.conv(x) \n",
    "        x = torch.cat((self.relu(x),self.relu(-x)),dim=1)\n",
    "        return x"
   ]
  },
  {
   "cell_type": "code",
   "execution_count": 20,
   "metadata": {},
   "outputs": [],
   "source": [
    "class Critic32x32(nn.Module):\n",
    "    '''Class defining the critic with the same architecture as used by Salimans. et al. for the CIFAR dataset\n",
    "    Input : \n",
    "    nb_channels : number of channels in the image (in particular, 1 or 3 ?)\n",
    "    \n",
    "    '''\n",
    "    def __init__(self, nb_channels: int=1):\n",
    "        super(Critic32x32, self).__init__()\n",
    "        self.relu=nn.ReLU()\n",
    "        self.init_conv = nn.Conv2d(in_channels = nb_channels, out_channels = 128, kernel_size = 5, padding = 2, stride = 1)\n",
    "        self.down1 = _DownBlock_Critic(256)\n",
    "        self.down2 = _DownBlock_Critic(512)\n",
    "        self.down3 = _DownBlock_Critic(1024)\n",
    "        \n",
    "        \n",
    "    def forward(self, x: Tensor):\n",
    "        ## Initial convolution and CReLU\n",
    "        x1 = self.init_conv(x) # size [bs, 128, 32, 32]\n",
    "        x2 = torch.cat((self.relu(x1),self.relu(-x1)),dim=1) #size [bs, 256, 32, 32]\n",
    "        ## Apply down block three times\n",
    "        x3 = self.down1(x2) # size [bs, 512, 16, 16]\n",
    "        x4 = self.down2(x3) # size [bs, 1024, 8, 8]\n",
    "        x5 = self.down3(x4) # size [bs, 2048, 4, 4]\n",
    "        ## Reshaping and l2 normalization\n",
    "        bs = x5.size()[0]\n",
    "        x5_reshape = x5.reshape(bs, 32768) # size [bs, 32768]uj\n",
    "#         x5_norm = (torch.norm(x5_reshape, p=2, dim=1)+1e-10).view(bs,1) # size [1, bs]\n",
    "        x5_norm = (torch.norm(x5_reshape, p=2, dim=1)).view(bs,1) # size [1, bs]\n",
    "        out = x5_reshape/(x5_norm) # size [bs, 32768]\n",
    "        return out"
   ]
  },
  {
   "cell_type": "code",
   "execution_count": 75,
   "metadata": {},
   "outputs": [
    {
     "name": "stdout",
     "output_type": "stream",
     "text": [
      "Critic output size :  torch.Size([10, 32768])\n",
      "tensor([[6.6080e-05, 0.0000e+00, 0.0000e+00,  ..., 0.0000e+00, 1.3207e-02,\n",
      "         0.0000e+00],\n",
      "        [0.0000e+00, 0.0000e+00, 0.0000e+00,  ..., 0.0000e+00, 1.4654e-02,\n",
      "         0.0000e+00],\n",
      "        [0.0000e+00, 4.5279e-04, 0.0000e+00,  ..., 0.0000e+00, 1.5753e-02,\n",
      "         6.0766e-03],\n",
      "        ...,\n",
      "        [1.7783e-03, 0.0000e+00, 2.2293e-04,  ..., 0.0000e+00, 1.9342e-03,\n",
      "         1.0084e-02],\n",
      "        [0.0000e+00, 0.0000e+00, 0.0000e+00,  ..., 6.6771e-04, 0.0000e+00,\n",
      "         7.1096e-04],\n",
      "        [9.8800e-05, 1.9573e-03, 0.0000e+00,  ..., 0.0000e+00, 9.9821e-03,\n",
      "         0.0000e+00]], grad_fn=<DivBackward0>)\n"
     ]
    }
   ],
   "source": [
    "# Test with the first batch images from train_pad_loader\n",
    "iterator = enumerate(train_pad_loader)\n",
    "batch_idx, (imgs, targets) = next(iter(iterator))\n",
    "critic = Critic32x32(nb_channels=1)\n",
    "critic_output = critic(imgs)\n",
    "print(\"Critic output size : \",critic_output.size())\n",
    "print(critic_output)\n"
   ]
  },
  {
   "cell_type": "markdown",
   "metadata": {},
   "source": [
    "#### Sinkhorn minibatch distance\n",
    "\n",
    "Pytorch implementation : https://github.com/dfdazac/wassdistance/blob/master/layers.py\n"
   ]
  },
  {
   "cell_type": "markdown",
   "metadata": {},
   "source": [
    "##### <span style=\"color:red\"> Question : normalize C ? (cf TP : divide by max value) : Inside or outside of the function ?? \n",
    "##### <span style=\"color:red\"> TODO : verify dimensions, verify the end\n",
    "##### /!\\ No need to propagate gradients for the sinkhorn distance : use detach or torch.no_grad ?? -> torch.no_grad to continue the propagation once the distance has been computed ? "
   ]
  },
  {
   "cell_type": "code",
   "execution_count": 21,
   "metadata": {},
   "outputs": [],
   "source": [
    "def sinkhorn_distance(C, epsilon=0.1, max_iters=100, a = \"default\", b = \"default\", detach = True):\n",
    "    \"\"\"Sinkhorn's distance\n",
    "    Inputs : \n",
    "    C the cost matrix (a torch tensor) of size n x m\n",
    "    epsilon : the regularization parameter of the Entropy-regularized Optimal Transport problem\n",
    "    max_iters : number of iterations for the Sinkhorn's algorithm\n",
    "    a : either \"default\" (then a will be initialized to a vector full of 1s) or a torch tensor\n",
    "    b : either \"default\" (then a will be initialized to a vector full of 1s) or a torch tensor\n",
    "    \n",
    "    Output : the Sinkhorn distance between minibatch vectors X and Y\n",
    "    \"\"\"\n",
    "#     n = C.shape[0]\n",
    "    # Note : in our case we should have m = n (= K in the article's notations) if minibatches are of identical size\n",
    "    n = C.size()[0]\n",
    "    m = C.size()[1]\n",
    "    \n",
    "    ## Initialize a and b if necessary\n",
    "    if a == \"default\":\n",
    "#         a = np.ones(n)\n",
    "        a = torch.ones([n], dtype=torch.float64)\n",
    "    if b == \"default\":\n",
    "#         b = np.ones(n)\n",
    "        b = torch.ones([m], dtype=torch.float64)\n",
    "    \n",
    "    if detach == True :\n",
    "        ## Stop gradient propagation during the computation of the distance\n",
    "        with torch.no_grad():\n",
    "\n",
    "            ## Compute the kernel matrix K\n",
    "        #     K = np.exp(-C/epsilon)\n",
    "            K = torch.exp(-C/epsilon)\n",
    "\n",
    "            ## Alternate projections\n",
    "        #     v = np.ones(b.shape[0])\n",
    "            v = torch.ones([b.size()[0]])\n",
    "            for _ in range(max_iters):\n",
    "        #         u = a / K.dot(v)\n",
    "        #         v = b / K.T.dot(u)\n",
    "                u = a / torch.matmul(K.double(),v.double())\n",
    "                v = b / torch.matmul(torch.transpose(K,0,1).double(),u.double())\n",
    "\n",
    "            ## Compute the matching matrix\n",
    "        #     M = np.diag(u).dot(K).dot(np.diag(v))\n",
    "            M = torch.matmul(torch.matmul(torch.diag(u),K.double()),torch.diag(v))\n",
    "            return torch.sum(M*C)\n",
    "    else :\n",
    "    ## Compute the kernel matrix K\n",
    "    #     K = np.exp(-C/epsilon)\n",
    "        K = torch.exp(-C/epsilon)\n",
    "\n",
    "        ## Alternate projections\n",
    "    #     v = np.ones(b.shape[0])\n",
    "        v = torch.ones([b.size()[0]])\n",
    "        for _ in range(max_iters):\n",
    "    #         u = a / K.dot(v)\n",
    "    #         v = b / K.T.dot(u)\n",
    "            u = a / torch.matmul(K.double(),v.double())\n",
    "            v = b / torch.matmul(torch.transpose(K,0,1).double(),u.double())\n",
    "\n",
    "        ## Compute the matching matrix\n",
    "    #     M = np.diag(u).dot(K).dot(np.diag(v))\n",
    "        M = torch.matmul(torch.matmul(torch.diag(u),K.double()),torch.diag(v))\n",
    "        return torch.sum(M*C)"
   ]
  },
  {
   "cell_type": "code",
   "execution_count": 77,
   "metadata": {},
   "outputs": [
    {
     "data": {
      "text/plain": [
       "tensor(3.3049, dtype=torch.float64)"
      ]
     },
     "execution_count": 77,
     "metadata": {},
     "output_type": "execute_result"
    }
   ],
   "source": [
    "C = torch.rand([10,20])\n",
    "sinkhorn_distance(C)"
   ]
  },
  {
   "cell_type": "markdown",
   "metadata": {},
   "source": [
    "#### Cosine distance\n",
    "In order to compare our algorithm when the transportation cost is adversarially learned, we compare with the cosine distance. "
   ]
  },
  {
   "cell_type": "code",
   "execution_count": 22,
   "metadata": {},
   "outputs": [],
   "source": [
    "# # Define the cosine similarity for torch tensors with 2 dimensions (including batch size)\n",
    "# cos_similarity = torch.nn.CosineSimilarity(dim=1, eps=1e-08)\n",
    "# def cos_dist(x,y):\n",
    "#     '''Cosine distance between torch tensors x and y'''\n",
    "#     return 1-cos_similarity(x,y)\n",
    "\n",
    "def cos_dist(X,Y):\n",
    "    '''Cosine distance between \n",
    "    Inputs : torch tensors of size [bs,n]\n",
    "    Output : torch tensor of size [bs, bs]\n",
    "    '''\n",
    "    X_norm = X / X.norm(dim=1)[:, None]\n",
    "    Y_norm = Y / Y.norm(dim=1)[:, None]\n",
    "    cos_dist = torch.mm(X_norm, Y_norm.transpose(0,1))\n",
    "    return cos_dist\n",
    "\n",
    "def loss_cos_dist(X, Xp, Y, Yp, detach = False):\n",
    "    '''Compute the loss of the OTGAN when the cost function is the cosine distance (cf Appendix D)\n",
    "    Inputs : \n",
    "    X and Xp minibatches of real data\n",
    "    Y and Yp minibatches of synthesized data\n",
    "    detach : a boolean, whether or not to propagate gradient through Sinkhorn's distance calculation\n",
    "    '''\n",
    "    \n",
    "    loss = sinkhorn_distance(cos_dist(X,Y), detach=detach) \n",
    "    loss += sinkhorn_distance(cos_dist(X,Yp), detach=detach) \n",
    "    loss += sinkhorn_distance(cos_dist(Xp,Y), detach=detach)\n",
    "    loss += sinkhorn_distance(cos_dist(Xp,Yp), detach=detach)\n",
    "    loss -= 2*sinkhorn_distance(cos_dist(X,Xp), detach=detach)\n",
    "    loss -= 2*sinkhorn_distance(cos_dist(Y,Yp), detach=detach)\n",
    "    \n",
    "    return loss"
   ]
  },
  {
   "cell_type": "markdown",
   "metadata": {},
   "source": [
    "### Training -- preliminary tests\n",
    "\n",
    "/!\\\n",
    "\n",
    "- initialization --> possible to initialize weights\n",
    "- save both generator & critic's infos\n",
    "\n",
    "\n",
    "#### Issue : \n",
    "- if detach == False : then we backpropagate the gradients (!= what the authors seem to do)\n",
    "- if detach == True : error, no gradient exists so backward is not possible"
   ]
  },
  {
   "cell_type": "code",
   "execution_count": 23,
   "metadata": {},
   "outputs": [],
   "source": [
    "all_loss_G = []\n",
    "all_loss_C = []\n",
    "all_synth_img = []\n",
    "all_features_real = []\n",
    "all_features_synth = []\n",
    "    \n",
    "def train(model_C, model_G, loader, optimizer_C, optimizer_G, args, epoch):\n",
    "    print('Training epoch {:d}'.format(epoch))\n",
    "    \n",
    "    model_G.train()\n",
    "    model_C.train()\n",
    "\n",
    "    # /!\\/!\\To uncomment (defined outside for now do to memory issues)\n",
    "#     all_loss_G = []\n",
    "#     all_loss_C = []\n",
    "#     all_synth_img = []\n",
    "#     all_features_real = []\n",
    "#     all_features_synth = []\n",
    "\n",
    "    for batch_idx, ((img, noise), (target, _)) in loader:\n",
    "        ## Sample two independent minibatches\n",
    "\n",
    "        # Sample a first minibatch\n",
    "        X = img.to(device)\n",
    "        Z = noise.detach().to(device)\n",
    "\n",
    "        # Take the next step of iterator to sample a second minibatch\n",
    "        batch_idx, ((imgp, noisep),(targetp, _p)) = next(loader)\n",
    "        Xp = imgp.to(device)\n",
    "        Zp = noisep.detach().to(device)\n",
    "\n",
    "        # Embed real images into feature space by applying critic\n",
    "        out_X = model_C(X)\n",
    "        out_Xp = model_C(Xp)\n",
    "        all_features_real.append((out_X,out_Xp))\n",
    "\n",
    "        # Generate synthesized image from noise\n",
    "        Y = model_G(Z)\n",
    "        Yp = model_G(Zp)\n",
    "        all_synth_img.append((Y,Yp))\n",
    "\n",
    "        # Embed synthesized images into the feature space by using the critic\n",
    "        # Question : remove gradient coming from the generator part ?? --> cf .detach()\n",
    "        out_Y = model_C(Y.detach())\n",
    "        out_Yp = model_C(Yp.detach())\n",
    "        all_features_synth.append((out_Y,out_Yp))\n",
    "\n",
    "        # Generator's update\n",
    "        loss_G = loss_cos_dist(out_X,out_Xp,out_Y,out_Yp, detach = False)\n",
    "        loss_G.backward(retain_graph=True)\n",
    "        optimizer_G.step()\n",
    "        optimizer_G.zero_grad()\n",
    "        all_loss_G.append(loss_G)\n",
    "\n",
    "        # Critic update (take into account the fact that we sample two minibatches at each round)\n",
    "        if batch_idx % (2*args[\"n_gen\"]) == 0 :\n",
    "            loss_C = -loss_G\n",
    "            loss_C.backward()\n",
    "            optimizer_C.step()\n",
    "            optimizer_C.zero_grad()\n",
    "            all_loss_C.append(loss_C)\n",
    "    \n",
    "    return {\"loss_C\": all_loss_C,\n",
    "           \"loss_G\": all_loss_G,\n",
    "           \"all_synth_img\": all_synth_img,\n",
    "           \"all_features_synth\" : all_features_synth,\n",
    "           \"all_features_real\" : all_features_real}"
   ]
  },
  {
   "cell_type": "code",
   "execution_count": 24,
   "metadata": {},
   "outputs": [
    {
     "name": "stdout",
     "output_type": "stream",
     "text": [
      "Training epoch 0\n"
     ]
    },
    {
     "ename": "RuntimeError",
     "evalue": "[enforce fail at ..\\c10\\core\\CPUAllocator.cpp:72] data. DefaultCPUAllocator: not enough memory: you tried to allocate 104857600 bytes. Buy new RAM!\n",
     "output_type": "error",
     "traceback": [
      "\u001b[1;31m---------------------------------------------------------------------------\u001b[0m",
      "\u001b[1;31mRuntimeError\u001b[0m                              Traceback (most recent call last)",
      "\u001b[1;32m<ipython-input-24-b06647060104>\u001b[0m in \u001b[0;36m<module>\u001b[1;34m\u001b[0m\n\u001b[0;32m     19\u001b[0m \u001b[1;31m######## Test training\u001b[0m\u001b[1;33m\u001b[0m\u001b[1;33m\u001b[0m\u001b[1;33m\u001b[0m\u001b[0m\n\u001b[0;32m     20\u001b[0m \u001b[0mepoch\u001b[0m \u001b[1;33m=\u001b[0m \u001b[1;36m0\u001b[0m\u001b[1;33m\u001b[0m\u001b[1;33m\u001b[0m\u001b[0m\n\u001b[1;32m---> 21\u001b[1;33m \u001b[0mtrain_result\u001b[0m \u001b[1;33m=\u001b[0m \u001b[0mtrain\u001b[0m\u001b[1;33m(\u001b[0m\u001b[0mmodel_C\u001b[0m\u001b[1;33m,\u001b[0m \u001b[0mmodel_G\u001b[0m\u001b[1;33m,\u001b[0m \u001b[0mconc_iterator\u001b[0m\u001b[1;33m,\u001b[0m \u001b[0moptimizer_C\u001b[0m\u001b[1;33m,\u001b[0m \u001b[0moptimizer_G\u001b[0m\u001b[1;33m,\u001b[0m \u001b[0margs\u001b[0m\u001b[1;33m,\u001b[0m \u001b[0mepoch\u001b[0m\u001b[1;33m)\u001b[0m\u001b[1;33m\u001b[0m\u001b[1;33m\u001b[0m\u001b[0m\n\u001b[0m",
      "\u001b[1;32m<ipython-input-23-5db8d19203a5>\u001b[0m in \u001b[0;36mtrain\u001b[1;34m(model_C, model_G, loader, optimizer_C, optimizer_G, args, epoch)\u001b[0m\n\u001b[0;32m     48\u001b[0m         \u001b[1;31m# Generator's update\u001b[0m\u001b[1;33m\u001b[0m\u001b[1;33m\u001b[0m\u001b[1;33m\u001b[0m\u001b[0m\n\u001b[0;32m     49\u001b[0m         \u001b[0mloss_G\u001b[0m \u001b[1;33m=\u001b[0m \u001b[0mloss_cos_dist\u001b[0m\u001b[1;33m(\u001b[0m\u001b[0mout_X\u001b[0m\u001b[1;33m,\u001b[0m\u001b[0mout_Xp\u001b[0m\u001b[1;33m,\u001b[0m\u001b[0mout_Y\u001b[0m\u001b[1;33m,\u001b[0m\u001b[0mout_Yp\u001b[0m\u001b[1;33m,\u001b[0m \u001b[0mdetach\u001b[0m \u001b[1;33m=\u001b[0m \u001b[1;32mFalse\u001b[0m\u001b[1;33m)\u001b[0m\u001b[1;33m\u001b[0m\u001b[1;33m\u001b[0m\u001b[0m\n\u001b[1;32m---> 50\u001b[1;33m         \u001b[0mloss_G\u001b[0m\u001b[1;33m.\u001b[0m\u001b[0mbackward\u001b[0m\u001b[1;33m(\u001b[0m\u001b[0mretain_graph\u001b[0m\u001b[1;33m=\u001b[0m\u001b[1;32mTrue\u001b[0m\u001b[1;33m)\u001b[0m\u001b[1;33m\u001b[0m\u001b[1;33m\u001b[0m\u001b[0m\n\u001b[0m\u001b[0;32m     51\u001b[0m         \u001b[0moptimizer_G\u001b[0m\u001b[1;33m.\u001b[0m\u001b[0mstep\u001b[0m\u001b[1;33m(\u001b[0m\u001b[1;33m)\u001b[0m\u001b[1;33m\u001b[0m\u001b[1;33m\u001b[0m\u001b[0m\n\u001b[0;32m     52\u001b[0m         \u001b[0moptimizer_G\u001b[0m\u001b[1;33m.\u001b[0m\u001b[0mzero_grad\u001b[0m\u001b[1;33m(\u001b[0m\u001b[1;33m)\u001b[0m\u001b[1;33m\u001b[0m\u001b[1;33m\u001b[0m\u001b[0m\n",
      "\u001b[1;32m~\\AppData\\Local\\Continuum\\anaconda3\\lib\\site-packages\\torch\\tensor.py\u001b[0m in \u001b[0;36mbackward\u001b[1;34m(self, gradient, retain_graph, create_graph)\u001b[0m\n\u001b[0;32m    193\u001b[0m                 \u001b[0mproducts\u001b[0m\u001b[1;33m.\u001b[0m \u001b[0mDefaults\u001b[0m \u001b[0mto\u001b[0m\u001b[0;31m \u001b[0m\u001b[0;31m`\u001b[0m\u001b[0;31m`\u001b[0m\u001b[1;32mFalse\u001b[0m\u001b[0;31m`\u001b[0m\u001b[0;31m`\u001b[0m\u001b[1;33m.\u001b[0m\u001b[1;33m\u001b[0m\u001b[1;33m\u001b[0m\u001b[0m\n\u001b[0;32m    194\u001b[0m         \"\"\"\n\u001b[1;32m--> 195\u001b[1;33m         \u001b[0mtorch\u001b[0m\u001b[1;33m.\u001b[0m\u001b[0mautograd\u001b[0m\u001b[1;33m.\u001b[0m\u001b[0mbackward\u001b[0m\u001b[1;33m(\u001b[0m\u001b[0mself\u001b[0m\u001b[1;33m,\u001b[0m \u001b[0mgradient\u001b[0m\u001b[1;33m,\u001b[0m \u001b[0mretain_graph\u001b[0m\u001b[1;33m,\u001b[0m \u001b[0mcreate_graph\u001b[0m\u001b[1;33m)\u001b[0m\u001b[1;33m\u001b[0m\u001b[1;33m\u001b[0m\u001b[0m\n\u001b[0m\u001b[0;32m    196\u001b[0m \u001b[1;33m\u001b[0m\u001b[0m\n\u001b[0;32m    197\u001b[0m     \u001b[1;32mdef\u001b[0m \u001b[0mregister_hook\u001b[0m\u001b[1;33m(\u001b[0m\u001b[0mself\u001b[0m\u001b[1;33m,\u001b[0m \u001b[0mhook\u001b[0m\u001b[1;33m)\u001b[0m\u001b[1;33m:\u001b[0m\u001b[1;33m\u001b[0m\u001b[1;33m\u001b[0m\u001b[0m\n",
      "\u001b[1;32m~\\AppData\\Local\\Continuum\\anaconda3\\lib\\site-packages\\torch\\autograd\\__init__.py\u001b[0m in \u001b[0;36mbackward\u001b[1;34m(tensors, grad_tensors, retain_graph, create_graph, grad_variables)\u001b[0m\n\u001b[0;32m     97\u001b[0m     Variable._execution_engine.run_backward(\n\u001b[0;32m     98\u001b[0m         \u001b[0mtensors\u001b[0m\u001b[1;33m,\u001b[0m \u001b[0mgrad_tensors\u001b[0m\u001b[1;33m,\u001b[0m \u001b[0mretain_graph\u001b[0m\u001b[1;33m,\u001b[0m \u001b[0mcreate_graph\u001b[0m\u001b[1;33m,\u001b[0m\u001b[1;33m\u001b[0m\u001b[1;33m\u001b[0m\u001b[0m\n\u001b[1;32m---> 99\u001b[1;33m         allow_unreachable=True)  # allow_unreachable flag\n\u001b[0m\u001b[0;32m    100\u001b[0m \u001b[1;33m\u001b[0m\u001b[0m\n\u001b[0;32m    101\u001b[0m \u001b[1;33m\u001b[0m\u001b[0m\n",
      "\u001b[1;31mRuntimeError\u001b[0m: [enforce fail at ..\\c10\\core\\CPUAllocator.cpp:72] data. DefaultCPUAllocator: not enough memory: you tried to allocate 104857600 bytes. Buy new RAM!\n"
     ]
    }
   ],
   "source": [
    "######### Initialize everything again\n",
    "# Load critic\n",
    "model_C = Critic32x32()\n",
    "model_C = model_C.to(device)\n",
    "optimizer_C = torch.optim.Adam(params = model_C.parameters(), lr=args[\"lr\"], betas=(args[\"beta1\"], args[\"beta2\"]))\n",
    "\n",
    "# Load generator\n",
    "model_G = Generator32x32()\n",
    "model_G = model_G.to(device)\n",
    "optimizer_G = torch.optim.Adam(params = model_G.parameters(), lr=args[\"lr\"], betas=(args[\"beta1\"], args[\"beta2\"]))\n",
    "\n",
    "# Check have an even number of minibatches\n",
    "assert len(conc_trainset) % 2 == 0\n",
    "\n",
    "######### Define iterator\n",
    "conc_iterator = enumerate(conc_loader)\n",
    "\n",
    "\n",
    "######## Test training\n",
    "train_result=[]\n",
    "for epoch in range(args[\"epochs\"]):\n",
    "    train_result.append(train(model_C, model_G, conc_iterator, optimizer_C, optimizer_G, args, epoch))"
   ]
  },
  {
   "cell_type": "markdown",
   "metadata": {},
   "source": [
    "Plot synthesized images after initialization of the generator network. \n",
    "\n",
    "**TODO** : check if padding is a problem when training the model --> look at the border of synthesized images"
   ]
  },
  {
   "cell_type": "code",
   "execution_count": 26,
   "metadata": {},
   "outputs": [
    {
     "data": {
      "image/png": "[encoded data removed]",
      "text/plain": [
       "<Figure size 1080x504 with 4 Axes>"
      ]
     },
     "metadata": {
      "needs_background": "light"
     },
     "output_type": "display_data"
    }
   ],
   "source": [
    "##### First epoch\n",
    "# all_synth_img = train_result[0][\"all_synth_img\"]\n",
    "\n",
    "fig, ax = plt.subplots(1,4, figsize=(15,7))\n",
    "# First iteration (only take the first image of each minibatch)\n",
    "ax[0].imshow(all_synth_img[0][0][0][0].detach(), cmap=plt.cm.gray)\n",
    "ax[1].imshow(all_synth_img[0][1][0][0].detach(), cmap=plt.cm.gray)\n",
    "# Second iteration\n",
    "ax[2].imshow(all_synth_img[1][0][0][0].detach(), cmap=plt.cm.gray)\n",
    "ax[3].imshow(all_synth_img[1][1][0][0].detach(), cmap=plt.cm.gray)\n",
    "plt.suptitle(\"Plot generated images after two iterations\")\n",
    "plt.subplots_adjust(top=1.2)\n",
    "plt.show()"
   ]
  }
 ],
 "metadata": {
  "kernelspec": {
   "display_name": "Python 3",
   "language": "python",
   "name": "python3"
  },
  "language_info": {
   "codemirror_mode": {
    "name": "ipython",
    "version": 3
   },
   "file_extension": ".py",
   "mimetype": "text/x-python",
   "name": "python",
   "nbconvert_exporter": "python",
   "pygments_lexer": "ipython3",
   "version": "3.7.4"
  }
 },
 "nbformat": 4,
 "nbformat_minor": 4
}
