{
 "cells": [
  {
   "cell_type": "markdown",
   "metadata": {},
   "source": [
    "https://www.python-course.eu/python3_passing_arguments.php"
   ]
  },
  {
   "cell_type": "code",
   "execution_count": 6,
   "metadata": {},
   "outputs": [
    {
     "data": {
      "text/plain": [
       "6"
      ]
     },
     "execution_count": 6,
     "metadata": {},
     "output_type": "execute_result"
    }
   ],
   "source": [
    "# recursion\n",
    "def sum_integers(n):\n",
    "    if n==0 : \n",
    "        return 0\n",
    "    else :\n",
    "        return n+sum_integers(n-1)\n",
    "    \n",
    "sum_integers(3)"
   ]
  },
  {
   "cell_type": "code",
   "execution_count": 8,
   "metadata": {},
   "outputs": [
    {
     "data": {
      "text/plain": [
       "2.5"
      ]
     },
     "execution_count": 8,
     "metadata": {},
     "output_type": "execute_result"
    }
   ],
   "source": [
    "# arbitrary parameters\n",
    "def arith_sum(*x):\n",
    "    return sum(x)/len(x)\n",
    "print(arith_sum(1,2,3,4))\n",
    "# arith_sum((1,2,3)) # /!\\ creates an error\n",
    "print(arith_sum(*(1,2,3,4)))"
   ]
  },
  {
   "cell_type": "code",
   "execution_count": 25,
   "metadata": {},
   "outputs": [
    {
     "name": "stdout",
     "output_type": "stream",
     "text": [
      "{'test': 1}\n",
      "{'test': 1, 'deuxieme_test': 2}\n",
      "<class 'dict'>\n",
      "('append', 'block', 'extract', 'yes')\n"
     ]
    },
    {
     "data": {
      "text/plain": [
       "(47, 11, 'extract', 'yes')"
      ]
     },
     "execution_count": 25,
     "metadata": {},
     "output_type": "execute_result"
    }
   ],
   "source": [
    "def test_double_asterix(**args):\n",
    "    return(args)\n",
    "# test_double_asterix(1) --> creates an error\n",
    "print(test_double_asterix(test=1))\n",
    "print(test_double_asterix(test=1,deuxieme_test=2))\n",
    "print(type(test_double_asterix(test=1,deuxieme_test=2)))\n",
    "d = {'a':'append', 'b':'block','x':'extract','y':'yes'}\n",
    "def f(a,b,x,y):\n",
    "    return(a,b,x,y)\n",
    "print(f(**d))\n",
    "t = (47,11)\n",
    "d = {'x':'extract','y':'yes'}\n",
    "f(*t, **d)"
   ]
  }
 ],
 "metadata": {
  "kernelspec": {
   "display_name": "Python 3",
   "language": "python",
   "name": "python3"
  },
  "language_info": {
   "codemirror_mode": {
    "name": "ipython",
    "version": 3
   },
   "file_extension": ".py",
   "mimetype": "text/x-python",
   "name": "python",
   "nbconvert_exporter": "python",
   "pygments_lexer": "ipython3",
   "version": "3.7.4"
  }
 },
 "nbformat": 4,
 "nbformat_minor": 4
}
